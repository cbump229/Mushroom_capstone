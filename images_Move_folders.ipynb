{
 "cells": [
  {
   "cell_type": "markdown",
   "metadata": {},
   "source": [
    "# This notebook is used for moving around scraped images and creating approriate CSV files"
   ]
  },
  {
   "cell_type": "markdown",
   "metadata": {},
   "source": [
    "### This portion will divide mushrooms pictures into edible/inedible folders"
   ]
  },
  {
   "cell_type": "code",
   "execution_count": 1,
   "metadata": {},
   "outputs": [],
   "source": [
    "import pandas as pd\n",
    "import numpy as np\n",
    "import os, fnmatch\n",
    "import re\n",
    "import shutil"
   ]
  },
  {
   "cell_type": "code",
   "execution_count": 2,
   "metadata": {},
   "outputs": [],
   "source": [
    "df = pd.read_csv('CSVs/all_pic_and_mush.csv')"
   ]
  },
  {
   "cell_type": "code",
   "execution_count": 3,
   "metadata": {},
   "outputs": [
    {
     "data": {
      "text/html": [
       "<div>\n",
       "<style scoped>\n",
       "    .dataframe tbody tr th:only-of-type {\n",
       "        vertical-align: middle;\n",
       "    }\n",
       "\n",
       "    .dataframe tbody tr th {\n",
       "        vertical-align: top;\n",
       "    }\n",
       "\n",
       "    .dataframe thead th {\n",
       "        text-align: right;\n",
       "    }\n",
       "</style>\n",
       "<table border=\"1\" class=\"dataframe\">\n",
       "  <thead>\n",
       "    <tr style=\"text-align: right;\">\n",
       "      <th></th>\n",
       "      <th>image_name</th>\n",
       "      <th>short_name</th>\n",
       "      <th>image_num</th>\n",
       "      <th>family</th>\n",
       "      <th>location</th>\n",
       "      <th>min_cap_cm</th>\n",
       "      <th>max_cap_cm</th>\n",
       "      <th>min_stem_hgt_cm</th>\n",
       "      <th>max_stem_hgt_cm</th>\n",
       "      <th>min_stem_diam_cm</th>\n",
       "      <th>max_stem_diam_cm</th>\n",
       "      <th>edibility</th>\n",
       "      <th>long_desc</th>\n",
       "      <th>name</th>\n",
       "    </tr>\n",
       "  </thead>\n",
       "  <tbody>\n",
       "    <tr>\n",
       "      <th>0</th>\n",
       "      <td>agaricusarvensis1.jpg</td>\n",
       "      <td>agaricusarvensis</td>\n",
       "      <td>1</td>\n",
       "      <td>Agaricaceae</td>\n",
       "      <td>North America, Europe</td>\n",
       "      <td>8.0</td>\n",
       "      <td>20.0</td>\n",
       "      <td>8.0</td>\n",
       "      <td>10.0</td>\n",
       "      <td>2.0</td>\n",
       "      <td>3.0</td>\n",
       "      <td>Edible and good</td>\n",
       "      <td>Agaricus arvensis, commonly known as the horse...</td>\n",
       "      <td>agaricus_arvensis</td>\n",
       "    </tr>\n",
       "    <tr>\n",
       "      <th>1</th>\n",
       "      <td>agaricusarvensis2.jpg</td>\n",
       "      <td>agaricusarvensis</td>\n",
       "      <td>2</td>\n",
       "      <td>Agaricaceae</td>\n",
       "      <td>North America, Europe</td>\n",
       "      <td>8.0</td>\n",
       "      <td>20.0</td>\n",
       "      <td>8.0</td>\n",
       "      <td>10.0</td>\n",
       "      <td>2.0</td>\n",
       "      <td>3.0</td>\n",
       "      <td>Edible and good</td>\n",
       "      <td>Agaricus arvensis, commonly known as the horse...</td>\n",
       "      <td>agaricus_arvensis</td>\n",
       "    </tr>\n",
       "    <tr>\n",
       "      <th>2</th>\n",
       "      <td>agaricusarvensis3.jpg</td>\n",
       "      <td>agaricusarvensis</td>\n",
       "      <td>3</td>\n",
       "      <td>Agaricaceae</td>\n",
       "      <td>North America, Europe</td>\n",
       "      <td>8.0</td>\n",
       "      <td>20.0</td>\n",
       "      <td>8.0</td>\n",
       "      <td>10.0</td>\n",
       "      <td>2.0</td>\n",
       "      <td>3.0</td>\n",
       "      <td>Edible and good</td>\n",
       "      <td>Agaricus arvensis, commonly known as the horse...</td>\n",
       "      <td>agaricus_arvensis</td>\n",
       "    </tr>\n",
       "    <tr>\n",
       "      <th>3</th>\n",
       "      <td>agaricusarvensis4.jpg</td>\n",
       "      <td>agaricusarvensis</td>\n",
       "      <td>4</td>\n",
       "      <td>Agaricaceae</td>\n",
       "      <td>North America, Europe</td>\n",
       "      <td>8.0</td>\n",
       "      <td>20.0</td>\n",
       "      <td>8.0</td>\n",
       "      <td>10.0</td>\n",
       "      <td>2.0</td>\n",
       "      <td>3.0</td>\n",
       "      <td>Edible and good</td>\n",
       "      <td>Agaricus arvensis, commonly known as the horse...</td>\n",
       "      <td>agaricus_arvensis</td>\n",
       "    </tr>\n",
       "    <tr>\n",
       "      <th>4</th>\n",
       "      <td>agaricusarvensis5.jpg</td>\n",
       "      <td>agaricusarvensis</td>\n",
       "      <td>5</td>\n",
       "      <td>Agaricaceae</td>\n",
       "      <td>North America, Europe</td>\n",
       "      <td>8.0</td>\n",
       "      <td>20.0</td>\n",
       "      <td>8.0</td>\n",
       "      <td>10.0</td>\n",
       "      <td>2.0</td>\n",
       "      <td>3.0</td>\n",
       "      <td>Edible and good</td>\n",
       "      <td>Agaricus arvensis, commonly known as the horse...</td>\n",
       "      <td>agaricus_arvensis</td>\n",
       "    </tr>\n",
       "  </tbody>\n",
       "</table>\n",
       "</div>"
      ],
      "text/plain": [
       "              image_name        short_name  image_num       family  \\\n",
       "0  agaricusarvensis1.jpg  agaricusarvensis          1  Agaricaceae   \n",
       "1  agaricusarvensis2.jpg  agaricusarvensis          2  Agaricaceae   \n",
       "2  agaricusarvensis3.jpg  agaricusarvensis          3  Agaricaceae   \n",
       "3  agaricusarvensis4.jpg  agaricusarvensis          4  Agaricaceae   \n",
       "4  agaricusarvensis5.jpg  agaricusarvensis          5  Agaricaceae   \n",
       "\n",
       "                location  min_cap_cm  max_cap_cm  min_stem_hgt_cm  \\\n",
       "0  North America, Europe         8.0        20.0              8.0   \n",
       "1  North America, Europe         8.0        20.0              8.0   \n",
       "2  North America, Europe         8.0        20.0              8.0   \n",
       "3  North America, Europe         8.0        20.0              8.0   \n",
       "4  North America, Europe         8.0        20.0              8.0   \n",
       "\n",
       "   max_stem_hgt_cm  min_stem_diam_cm  max_stem_diam_cm        edibility  \\\n",
       "0             10.0               2.0               3.0  Edible and good   \n",
       "1             10.0               2.0               3.0  Edible and good   \n",
       "2             10.0               2.0               3.0  Edible and good   \n",
       "3             10.0               2.0               3.0  Edible and good   \n",
       "4             10.0               2.0               3.0  Edible and good   \n",
       "\n",
       "                                           long_desc               name  \n",
       "0  Agaricus arvensis, commonly known as the horse...  agaricus_arvensis  \n",
       "1  Agaricus arvensis, commonly known as the horse...  agaricus_arvensis  \n",
       "2  Agaricus arvensis, commonly known as the horse...  agaricus_arvensis  \n",
       "3  Agaricus arvensis, commonly known as the horse...  agaricus_arvensis  \n",
       "4  Agaricus arvensis, commonly known as the horse...  agaricus_arvensis  "
      ]
     },
     "execution_count": 3,
     "metadata": {},
     "output_type": "execute_result"
    }
   ],
   "source": [
    "df.head()\n"
   ]
  },
  {
   "cell_type": "code",
   "execution_count": 4,
   "metadata": {
    "scrolled": true
   },
   "outputs": [
    {
     "data": {
      "text/plain": [
       "Inedible                235\n",
       "Edible                  186\n",
       "Poisonous                89\n",
       "Edible and good          48\n",
       "Lethally poisonous       27\n",
       "Edible and excellent     24\n",
       "Edible when boiled       18\n",
       "Name: edibility, dtype: int64"
      ]
     },
     "execution_count": 4,
     "metadata": {},
     "output_type": "execute_result"
    }
   ],
   "source": [
    "df['edibility'].value_counts()"
   ]
  },
  {
   "cell_type": "code",
   "execution_count": 5,
   "metadata": {},
   "outputs": [],
   "source": [
    "df['edibility']= df['edibility'].replace('Inedible','Inedible')\\\n",
    "            .replace('Edible','Edible')\\\n",
    "            .replace('Poisonous','Inedible',)\\\n",
    "            .replace('Edible and good', 'Edible')\\\n",
    "            .replace('Lethally poisonous','Inedible')\\\n",
    "            .replace('Edible and excellent', 'Edible')\\\n",
    "            .replace('Edible when boiled','Edible')\\\n"
   ]
  },
  {
   "cell_type": "code",
   "execution_count": 6,
   "metadata": {},
   "outputs": [
    {
     "data": {
      "text/plain": [
       "Inedible    351\n",
       "Edible      276\n",
       "Name: edibility, dtype: int64"
      ]
     },
     "execution_count": 6,
     "metadata": {},
     "output_type": "execute_result"
    }
   ],
   "source": [
    "df['edibility'].value_counts()"
   ]
  },
  {
   "cell_type": "markdown",
   "metadata": {},
   "source": [
    "#### Create base image folder"
   ]
  },
  {
   "cell_type": "code",
   "execution_count": 7,
   "metadata": {},
   "outputs": [],
   "source": [
    "try:\n",
    "    os.mkdir('edible_classifier_images')\n",
    "except:\n",
    "    print ('directory error')"
   ]
  },
  {
   "cell_type": "markdown",
   "metadata": {},
   "source": [
    "#### Create train/test folders"
   ]
  },
  {
   "cell_type": "code",
   "execution_count": 8,
   "metadata": {},
   "outputs": [],
   "source": [
    "try:\n",
    "    os.mkdir('edible_classifier_images/train')\n",
    "except:\n",
    "    print ('directory error')\n",
    "\n",
    "try:\n",
    "    os.mkdir('edible_classifier_images/test')\n",
    "except:\n",
    "    print ('directory error')"
   ]
  },
  {
   "cell_type": "markdown",
   "metadata": {},
   "source": [
    "#### Create Inedible  train/test folders"
   ]
  },
  {
   "cell_type": "code",
   "execution_count": 9,
   "metadata": {
    "scrolled": true
   },
   "outputs": [],
   "source": [
    "try:\n",
    "    os.mkdir('edible_classifier_images/train/inedible')\n",
    "except:\n",
    "    print ('directory error')\n",
    "try:\n",
    "    os.mkdir('edible_classifier_images/test/inedible')\n",
    "except:\n",
    "    print ('directory error')"
   ]
  },
  {
   "cell_type": "markdown",
   "metadata": {},
   "source": [
    "#### Create edible  train/test folders"
   ]
  },
  {
   "cell_type": "code",
   "execution_count": 10,
   "metadata": {},
   "outputs": [],
   "source": [
    "try:\n",
    "    os.mkdir('edible_classifier_images/train/edible')\n",
    "except:\n",
    "    print ('directory error')\n",
    "try:\n",
    "    os.mkdir('edible_classifier_images/test/edible')\n",
    "except:\n",
    "    print ('directory error')"
   ]
  },
  {
   "cell_type": "markdown",
   "metadata": {},
   "source": [
    "### Copy each image from the scraped images folder into an appropriate locations"
   ]
  },
  {
   "cell_type": "code",
   "execution_count": 11,
   "metadata": {},
   "outputs": [
    {
     "name": "stdout",
     "output_type": "stream",
     "text": [
      "error on (13, 'albatrellusovinus2.jpg')\n",
      "error on (18, 'amanitaceciliae2.jpg')\n",
      "error on (195, 'cortinariuslaniger4.jpg')\n",
      "error on (406, 'leccinumversipelle4.jpg')\n",
      "error on (475, 'paxillusinvolutus4.jpg')\n",
      "error on (490, 'pholiotasquarrosa1.jpg')\n",
      "error on (498, 'polyporusciliatus4.jpg')\n",
      "error on (555, 'russulaxerampelina1.jpg')\n",
      "error on (582, 'suillusgrevillei4.jpg')\n"
     ]
    }
   ],
   "source": [
    "\n",
    "for each_row in enumerate(df['image_name']):\n",
    "#divide images with 2 in their string into the holdout/testing image folder\n",
    "    if '2' in each_row[1]:\n",
    "        try:\n",
    "            edibile_test = (df.loc[each_row[0]]['edibility'])\n",
    "            image_name = (each_row[1])\n",
    "            shutil.copyfile(f'scrape_images/{image_name}',  # old path\n",
    "                            f'edible_classifier_images/test/{edibile_test}/{image_name}') #new path\n",
    "\n",
    "        except:\n",
    "            print(f'error on {each_row}')\n",
    "#divide images without 2 in their string into the training image folder\n",
    "    else:\n",
    "        try:\n",
    "            edibile_test = (df.loc[each_row[0]]['edibility'])\n",
    "            image_name = (each_row[1])\n",
    "            shutil.copyfile(f'scrape_images/{image_name}',  # old path\n",
    "                            f'edible_classifier_images/train/{edibile_test}/{image_name}') #new path\n",
    "\n",
    "        except:\n",
    "            print(f'error on {each_row}')"
   ]
  },
  {
   "cell_type": "markdown",
   "metadata": {},
   "source": [
    "# This portion will divide mushrooms pictures into species folders"
   ]
  },
  {
   "cell_type": "code",
   "execution_count": 12,
   "metadata": {},
   "outputs": [],
   "source": [
    " try:\n",
    "    os.mkdir(f\"species_classifier_images\")\n",
    "except:\n",
    "    print (\"directory error\")"
   ]
  },
  {
   "cell_type": "code",
   "execution_count": 13,
   "metadata": {},
   "outputs": [],
   "source": [
    "try:\n",
    "    os.mkdir(f\"species_classifier_images/train/\")\n",
    "except:\n",
    "    print (\"directory error\")"
   ]
  },
  {
   "cell_type": "code",
   "execution_count": 14,
   "metadata": {},
   "outputs": [],
   "source": [
    "try:\n",
    "    os.mkdir(f\"species_classifier_images/test/\")\n",
    "except:\n",
    "    print (\"directory error\")"
   ]
  },
  {
   "cell_type": "code",
   "execution_count": 15,
   "metadata": {},
   "outputs": [],
   "source": [
    "species_name = df['name'].unique()"
   ]
  },
  {
   "cell_type": "code",
   "execution_count": 16,
   "metadata": {},
   "outputs": [],
   "source": [
    "for each_mushroom in species_name:\n",
    "    try:\n",
    "        os.mkdir(f\"species_classifier_images/train/{each_mushroom}\")\n",
    "        os.mkdir(f\"species_classifier_images/test/{each_mushroom}\")\n",
    "    except:\n",
    "        print(f\"{each_mushroom} directory error\")"
   ]
  },
  {
   "cell_type": "code",
   "execution_count": 17,
   "metadata": {},
   "outputs": [
    {
     "name": "stdout",
     "output_type": "stream",
     "text": [
      "imagealbatrellusovinus2.jpg is missing\n",
      "imageamanitaceciliae2.jpg is missing\n",
      "imagecortinariuslaniger4.jpg is missing\n",
      "imageleccinumversipelle4.jpg is missing\n",
      "imagepaxillusinvolutus4.jpg is missing\n",
      "imagepholiotasquarrosa1.jpg is missing\n",
      "imagepolyporusciliatus4.jpg is missing\n",
      "imagerussulaxerampelina1.jpg is missing\n",
      "imagesuillusgrevillei4.jpg is missing\n"
     ]
    }
   ],
   "source": [
    "# Copy each image from scraped images into testing and training folder by species\n",
    "# image labled with 2 will be set aside into the testing/validation folder\n",
    "for each_image_name in enumerate(df['image_name']):\n",
    "    try: \n",
    "        image_name = (each_image_name[1])\n",
    "        folder_name = (df.iloc[each_image_name[0]]['name'])\n",
    "        if \"2\" in image_name:\n",
    "            shutil.copyfile(f'scrape_images/{image_name}',\n",
    "                            f'species_classifier_images/test/{folder_name}/{image_name}'\n",
    "                           )\n",
    "        else:    \n",
    "            shutil.copyfile(f'scrape_images/{image_name}',\n",
    "                            f'species_classifier_images/train/{folder_name}/{image_name}'\n",
    "                           )\n",
    "    except:\n",
    "        print(f'image{(each_image_name[1])} is missing')"
   ]
  },
  {
   "cell_type": "markdown",
   "metadata": {},
   "source": [
    "# Setup CSV for training - species"
   ]
  },
  {
   "cell_type": "code",
   "execution_count": 18,
   "metadata": {
    "scrolled": true
   },
   "outputs": [
    {
     "data": {
      "text/html": [
       "<div>\n",
       "<style scoped>\n",
       "    .dataframe tbody tr th:only-of-type {\n",
       "        vertical-align: middle;\n",
       "    }\n",
       "\n",
       "    .dataframe tbody tr th {\n",
       "        vertical-align: top;\n",
       "    }\n",
       "\n",
       "    .dataframe thead th {\n",
       "        text-align: right;\n",
       "    }\n",
       "</style>\n",
       "<table border=\"1\" class=\"dataframe\">\n",
       "  <thead>\n",
       "    <tr style=\"text-align: right;\">\n",
       "      <th></th>\n",
       "      <th>folder_list</th>\n",
       "    </tr>\n",
       "  </thead>\n",
       "  <tbody>\n",
       "  </tbody>\n",
       "</table>\n",
       "</div>"
      ],
      "text/plain": [
       "Empty DataFrame\n",
       "Columns: [folder_list]\n",
       "Index: []"
      ]
     },
     "execution_count": 18,
     "metadata": {},
     "output_type": "execute_result"
    }
   ],
   "source": [
    "training_df = pd.DataFrame(columns=['folder_list'])\n",
    "training_df.head()"
   ]
  },
  {
   "cell_type": "code",
   "execution_count": 19,
   "metadata": {},
   "outputs": [
    {
     "name": "stdout",
     "output_type": "stream",
     "text": [
      "file not removed\n"
     ]
    }
   ],
   "source": [
    "train_folders = sorted(os.listdir('species_classifier_images/train'))\n",
    "try:\n",
    "    train_folders.remove('.DS_Store')\n",
    "except:\n",
    "    print('file not removed')"
   ]
  },
  {
   "cell_type": "code",
   "execution_count": 20,
   "metadata": {},
   "outputs": [],
   "source": [
    "train_image=[]\n",
    "folder_list =[]\n",
    "for i in train_folders:\n",
    "        image_list=[]\n",
    "        image_list=(sorted(os.listdir(f'species_classifier_images/train/{i}')))\n",
    "        for each in image_list:\n",
    "            train_image.append(f'{i}/{each}')\n",
    "            folder_list.append(f'{i}')"
   ]
  },
  {
   "cell_type": "code",
   "execution_count": 21,
   "metadata": {},
   "outputs": [
    {
     "data": {
      "text/plain": [
       "['agaricus_arvensis/agaricusarvensis1.jpg',\n",
       " 'agaricus_arvensis/agaricusarvensis3.jpg',\n",
       " 'agaricus_arvensis/agaricusarvensis4.jpg',\n",
       " 'agaricus_arvensis/agaricusarvensis5.jpg',\n",
       " 'agaricus_augustus/agaricusaugustus1.jpg',\n",
       " 'agaricus_augustus/agaricusaugustus3.jpg',\n",
       " 'agaricus_augustus/agaricusaugustus4.jpg',\n",
       " 'albatrellus_confluens/albatrellusconfluens1.jpg',\n",
       " 'albatrellus_confluens/albatrellusconfluens3.jpg']"
      ]
     },
     "execution_count": 21,
     "metadata": {},
     "output_type": "execute_result"
    }
   ],
   "source": [
    "train_image[:9]"
   ]
  },
  {
   "cell_type": "code",
   "execution_count": 22,
   "metadata": {},
   "outputs": [
    {
     "data": {
      "text/plain": [
       "['agaricus_arvensis',\n",
       " 'agaricus_arvensis',\n",
       " 'agaricus_arvensis',\n",
       " 'agaricus_arvensis',\n",
       " 'agaricus_augustus',\n",
       " 'agaricus_augustus',\n",
       " 'agaricus_augustus',\n",
       " 'albatrellus_confluens',\n",
       " 'albatrellus_confluens']"
      ]
     },
     "execution_count": 22,
     "metadata": {},
     "output_type": "execute_result"
    }
   ],
   "source": [
    "folder_list[:9]"
   ]
  },
  {
   "cell_type": "code",
   "execution_count": 23,
   "metadata": {},
   "outputs": [
    {
     "data": {
      "text/plain": [
       "(483, 483)"
      ]
     },
     "execution_count": 23,
     "metadata": {},
     "output_type": "execute_result"
    }
   ],
   "source": [
    "len(train_image), len(folder_list)"
   ]
  },
  {
   "cell_type": "code",
   "execution_count": 24,
   "metadata": {},
   "outputs": [],
   "source": [
    "training_df = pd.concat([pd.DataFrame(train_image,columns=['image_path']), \n",
    "                pd.DataFrame(folder_list,columns=['species'])],axis=1)"
   ]
  },
  {
   "cell_type": "code",
   "execution_count": 25,
   "metadata": {},
   "outputs": [
    {
     "data": {
      "text/html": [
       "<div>\n",
       "<style scoped>\n",
       "    .dataframe tbody tr th:only-of-type {\n",
       "        vertical-align: middle;\n",
       "    }\n",
       "\n",
       "    .dataframe tbody tr th {\n",
       "        vertical-align: top;\n",
       "    }\n",
       "\n",
       "    .dataframe thead th {\n",
       "        text-align: right;\n",
       "    }\n",
       "</style>\n",
       "<table border=\"1\" class=\"dataframe\">\n",
       "  <thead>\n",
       "    <tr style=\"text-align: right;\">\n",
       "      <th></th>\n",
       "      <th>image_path</th>\n",
       "      <th>species</th>\n",
       "    </tr>\n",
       "  </thead>\n",
       "  <tbody>\n",
       "    <tr>\n",
       "      <th>0</th>\n",
       "      <td>agaricus_arvensis/agaricusarvensis1.jpg</td>\n",
       "      <td>agaricus_arvensis</td>\n",
       "    </tr>\n",
       "    <tr>\n",
       "      <th>1</th>\n",
       "      <td>agaricus_arvensis/agaricusarvensis3.jpg</td>\n",
       "      <td>agaricus_arvensis</td>\n",
       "    </tr>\n",
       "    <tr>\n",
       "      <th>2</th>\n",
       "      <td>agaricus_arvensis/agaricusarvensis4.jpg</td>\n",
       "      <td>agaricus_arvensis</td>\n",
       "    </tr>\n",
       "    <tr>\n",
       "      <th>3</th>\n",
       "      <td>agaricus_arvensis/agaricusarvensis5.jpg</td>\n",
       "      <td>agaricus_arvensis</td>\n",
       "    </tr>\n",
       "    <tr>\n",
       "      <th>4</th>\n",
       "      <td>agaricus_augustus/agaricusaugustus1.jpg</td>\n",
       "      <td>agaricus_augustus</td>\n",
       "    </tr>\n",
       "  </tbody>\n",
       "</table>\n",
       "</div>"
      ],
      "text/plain": [
       "                                image_path            species\n",
       "0  agaricus_arvensis/agaricusarvensis1.jpg  agaricus_arvensis\n",
       "1  agaricus_arvensis/agaricusarvensis3.jpg  agaricus_arvensis\n",
       "2  agaricus_arvensis/agaricusarvensis4.jpg  agaricus_arvensis\n",
       "3  agaricus_arvensis/agaricusarvensis5.jpg  agaricus_arvensis\n",
       "4  agaricus_augustus/agaricusaugustus1.jpg  agaricus_augustus"
      ]
     },
     "execution_count": 25,
     "metadata": {},
     "output_type": "execute_result"
    }
   ],
   "source": [
    "training_df.head()"
   ]
  },
  {
   "cell_type": "code",
   "execution_count": 26,
   "metadata": {},
   "outputs": [],
   "source": [
    "training_df.to_csv(\"CSVs/categorical_training.csv\",index=False)"
   ]
  },
  {
   "cell_type": "code",
   "execution_count": 27,
   "metadata": {
    "scrolled": true
   },
   "outputs": [
    {
     "data": {
      "text/html": [
       "<div>\n",
       "<style scoped>\n",
       "    .dataframe tbody tr th:only-of-type {\n",
       "        vertical-align: middle;\n",
       "    }\n",
       "\n",
       "    .dataframe tbody tr th {\n",
       "        vertical-align: top;\n",
       "    }\n",
       "\n",
       "    .dataframe thead th {\n",
       "        text-align: right;\n",
       "    }\n",
       "</style>\n",
       "<table border=\"1\" class=\"dataframe\">\n",
       "  <thead>\n",
       "    <tr style=\"text-align: right;\">\n",
       "      <th></th>\n",
       "      <th>image_path</th>\n",
       "      <th>species</th>\n",
       "    </tr>\n",
       "  </thead>\n",
       "  <tbody>\n",
       "    <tr>\n",
       "      <th>0</th>\n",
       "      <td>agaricus_arvensis/agaricusarvensis1.jpg</td>\n",
       "      <td>agaricus_arvensis</td>\n",
       "    </tr>\n",
       "    <tr>\n",
       "      <th>1</th>\n",
       "      <td>agaricus_arvensis/agaricusarvensis3.jpg</td>\n",
       "      <td>agaricus_arvensis</td>\n",
       "    </tr>\n",
       "    <tr>\n",
       "      <th>2</th>\n",
       "      <td>agaricus_arvensis/agaricusarvensis4.jpg</td>\n",
       "      <td>agaricus_arvensis</td>\n",
       "    </tr>\n",
       "    <tr>\n",
       "      <th>3</th>\n",
       "      <td>agaricus_arvensis/agaricusarvensis5.jpg</td>\n",
       "      <td>agaricus_arvensis</td>\n",
       "    </tr>\n",
       "    <tr>\n",
       "      <th>4</th>\n",
       "      <td>agaricus_augustus/agaricusaugustus1.jpg</td>\n",
       "      <td>agaricus_augustus</td>\n",
       "    </tr>\n",
       "    <tr>\n",
       "      <th>...</th>\n",
       "      <td>...</td>\n",
       "      <td>...</td>\n",
       "    </tr>\n",
       "    <tr>\n",
       "      <th>478</th>\n",
       "      <td>tylopilus_felleus/tylopilusfelleus3.jpg</td>\n",
       "      <td>tylopilus_felleus</td>\n",
       "    </tr>\n",
       "    <tr>\n",
       "      <th>479</th>\n",
       "      <td>tylopilus_felleus/tylopilusfelleus4.jpg</td>\n",
       "      <td>tylopilus_felleus</td>\n",
       "    </tr>\n",
       "    <tr>\n",
       "      <th>480</th>\n",
       "      <td>tylopilus_felleus/tylopilusfelleus5.jpg</td>\n",
       "      <td>tylopilus_felleus</td>\n",
       "    </tr>\n",
       "    <tr>\n",
       "      <th>481</th>\n",
       "      <td>tylopilus_felleus/tylopilusfelleus6.jpg</td>\n",
       "      <td>tylopilus_felleus</td>\n",
       "    </tr>\n",
       "    <tr>\n",
       "      <th>482</th>\n",
       "      <td>tylopilus_felleus/tylopilusfelleus7.jpg</td>\n",
       "      <td>tylopilus_felleus</td>\n",
       "    </tr>\n",
       "  </tbody>\n",
       "</table>\n",
       "<p>483 rows × 2 columns</p>\n",
       "</div>"
      ],
      "text/plain": [
       "                                  image_path            species\n",
       "0    agaricus_arvensis/agaricusarvensis1.jpg  agaricus_arvensis\n",
       "1    agaricus_arvensis/agaricusarvensis3.jpg  agaricus_arvensis\n",
       "2    agaricus_arvensis/agaricusarvensis4.jpg  agaricus_arvensis\n",
       "3    agaricus_arvensis/agaricusarvensis5.jpg  agaricus_arvensis\n",
       "4    agaricus_augustus/agaricusaugustus1.jpg  agaricus_augustus\n",
       "..                                       ...                ...\n",
       "478  tylopilus_felleus/tylopilusfelleus3.jpg  tylopilus_felleus\n",
       "479  tylopilus_felleus/tylopilusfelleus4.jpg  tylopilus_felleus\n",
       "480  tylopilus_felleus/tylopilusfelleus5.jpg  tylopilus_felleus\n",
       "481  tylopilus_felleus/tylopilusfelleus6.jpg  tylopilus_felleus\n",
       "482  tylopilus_felleus/tylopilusfelleus7.jpg  tylopilus_felleus\n",
       "\n",
       "[483 rows x 2 columns]"
      ]
     },
     "execution_count": 27,
     "metadata": {},
     "output_type": "execute_result"
    }
   ],
   "source": [
    "pd.read_csv(\"CSVs/categorical_training.csv\")"
   ]
  },
  {
   "cell_type": "code",
   "execution_count": null,
   "metadata": {},
   "outputs": [],
   "source": []
  },
  {
   "cell_type": "markdown",
   "metadata": {},
   "source": [
    "# Setup CSV for testing- species"
   ]
  },
  {
   "cell_type": "code",
   "execution_count": 28,
   "metadata": {},
   "outputs": [
    {
     "data": {
      "text/html": [
       "<div>\n",
       "<style scoped>\n",
       "    .dataframe tbody tr th:only-of-type {\n",
       "        vertical-align: middle;\n",
       "    }\n",
       "\n",
       "    .dataframe tbody tr th {\n",
       "        vertical-align: top;\n",
       "    }\n",
       "\n",
       "    .dataframe thead th {\n",
       "        text-align: right;\n",
       "    }\n",
       "</style>\n",
       "<table border=\"1\" class=\"dataframe\">\n",
       "  <thead>\n",
       "    <tr style=\"text-align: right;\">\n",
       "      <th></th>\n",
       "      <th>folder_list</th>\n",
       "    </tr>\n",
       "  </thead>\n",
       "  <tbody>\n",
       "  </tbody>\n",
       "</table>\n",
       "</div>"
      ],
      "text/plain": [
       "Empty DataFrame\n",
       "Columns: [folder_list]\n",
       "Index: []"
      ]
     },
     "execution_count": 28,
     "metadata": {},
     "output_type": "execute_result"
    }
   ],
   "source": [
    "testing_df = pd.DataFrame(columns=['folder_list'])\n",
    "testing_df.head()"
   ]
  },
  {
   "cell_type": "code",
   "execution_count": 29,
   "metadata": {},
   "outputs": [
    {
     "name": "stdout",
     "output_type": "stream",
     "text": [
      "file not removed\n"
     ]
    }
   ],
   "source": [
    "test_folders = sorted(os.listdir('species_classifier_images/train'))\n",
    "\n",
    "try:\n",
    "    test_folders.remove('.DS_Store')\n",
    "except:\n",
    "    print('file not removed')"
   ]
  },
  {
   "cell_type": "code",
   "execution_count": 30,
   "metadata": {},
   "outputs": [],
   "source": [
    "test_image=[]\n",
    "test_folder_list =[]\n",
    "for i in test_folders:\n",
    "        image_list=[]\n",
    "        image_list=(sorted(os.listdir(f'species_classifier_images/test/{i}')))\n",
    "        for each in image_list:\n",
    "            test_image.append(f'{i}/{each}')\n",
    "            test_folder_list.append(f'{i}')"
   ]
  },
  {
   "cell_type": "code",
   "execution_count": 31,
   "metadata": {},
   "outputs": [
    {
     "data": {
      "text/plain": [
       "['agaricus_arvensis/agaricusarvensis2.jpg',\n",
       " 'agaricus_augustus/agaricusaugustus2.jpg',\n",
       " 'albatrellus_confluens/albatrellusconfluens2.jpg',\n",
       " 'amanita_fulva/amanitafulva2.jpg',\n",
       " 'amanita_muscaria/amanitamuscaria2.jpg',\n",
       " 'amanita_pantherina/amanitapantherina2.jpg',\n",
       " 'amanita_phalloides/amanitaphalloides2.jpg',\n",
       " 'amanita_porphyria/amanitaporphyria2.jpg',\n",
       " 'amanita_regalis/amanitaregalis2.jpg']"
      ]
     },
     "execution_count": 31,
     "metadata": {},
     "output_type": "execute_result"
    }
   ],
   "source": [
    "test_image[:9]"
   ]
  },
  {
   "cell_type": "code",
   "execution_count": 32,
   "metadata": {},
   "outputs": [
    {
     "data": {
      "text/plain": [
       "['agaricus_arvensis',\n",
       " 'agaricus_augustus',\n",
       " 'albatrellus_confluens',\n",
       " 'amanita_fulva',\n",
       " 'amanita_muscaria',\n",
       " 'amanita_pantherina',\n",
       " 'amanita_phalloides',\n",
       " 'amanita_porphyria',\n",
       " 'amanita_regalis']"
      ]
     },
     "execution_count": 32,
     "metadata": {},
     "output_type": "execute_result"
    }
   ],
   "source": [
    "test_folder_list[:9]"
   ]
  },
  {
   "cell_type": "code",
   "execution_count": 33,
   "metadata": {},
   "outputs": [
    {
     "data": {
      "text/plain": [
       "(135, 135)"
      ]
     },
     "execution_count": 33,
     "metadata": {},
     "output_type": "execute_result"
    }
   ],
   "source": [
    "len(test_image), len(test_folder_list)"
   ]
  },
  {
   "cell_type": "code",
   "execution_count": 34,
   "metadata": {},
   "outputs": [],
   "source": [
    "testing_df = pd.DataFrame(test_image,columns=['image_path'])"
   ]
  },
  {
   "cell_type": "code",
   "execution_count": 35,
   "metadata": {},
   "outputs": [
    {
     "data": {
      "text/html": [
       "<div>\n",
       "<style scoped>\n",
       "    .dataframe tbody tr th:only-of-type {\n",
       "        vertical-align: middle;\n",
       "    }\n",
       "\n",
       "    .dataframe tbody tr th {\n",
       "        vertical-align: top;\n",
       "    }\n",
       "\n",
       "    .dataframe thead th {\n",
       "        text-align: right;\n",
       "    }\n",
       "</style>\n",
       "<table border=\"1\" class=\"dataframe\">\n",
       "  <thead>\n",
       "    <tr style=\"text-align: right;\">\n",
       "      <th></th>\n",
       "      <th>image_path</th>\n",
       "    </tr>\n",
       "  </thead>\n",
       "  <tbody>\n",
       "    <tr>\n",
       "      <th>0</th>\n",
       "      <td>agaricus_arvensis/agaricusarvensis2.jpg</td>\n",
       "    </tr>\n",
       "    <tr>\n",
       "      <th>1</th>\n",
       "      <td>agaricus_augustus/agaricusaugustus2.jpg</td>\n",
       "    </tr>\n",
       "    <tr>\n",
       "      <th>2</th>\n",
       "      <td>albatrellus_confluens/albatrellusconfluens2.jpg</td>\n",
       "    </tr>\n",
       "    <tr>\n",
       "      <th>3</th>\n",
       "      <td>amanita_fulva/amanitafulva2.jpg</td>\n",
       "    </tr>\n",
       "    <tr>\n",
       "      <th>4</th>\n",
       "      <td>amanita_muscaria/amanitamuscaria2.jpg</td>\n",
       "    </tr>\n",
       "  </tbody>\n",
       "</table>\n",
       "</div>"
      ],
      "text/plain": [
       "                                        image_path\n",
       "0          agaricus_arvensis/agaricusarvensis2.jpg\n",
       "1          agaricus_augustus/agaricusaugustus2.jpg\n",
       "2  albatrellus_confluens/albatrellusconfluens2.jpg\n",
       "3                  amanita_fulva/amanitafulva2.jpg\n",
       "4            amanita_muscaria/amanitamuscaria2.jpg"
      ]
     },
     "execution_count": 35,
     "metadata": {},
     "output_type": "execute_result"
    }
   ],
   "source": [
    "testing_df.head()"
   ]
  },
  {
   "cell_type": "code",
   "execution_count": 36,
   "metadata": {},
   "outputs": [],
   "source": [
    "testing_df.to_csv(\"CSVs/categorical_testing.csv\",index=False)"
   ]
  },
  {
   "cell_type": "code",
   "execution_count": 37,
   "metadata": {
    "scrolled": true
   },
   "outputs": [
    {
     "data": {
      "text/html": [
       "<div>\n",
       "<style scoped>\n",
       "    .dataframe tbody tr th:only-of-type {\n",
       "        vertical-align: middle;\n",
       "    }\n",
       "\n",
       "    .dataframe tbody tr th {\n",
       "        vertical-align: top;\n",
       "    }\n",
       "\n",
       "    .dataframe thead th {\n",
       "        text-align: right;\n",
       "    }\n",
       "</style>\n",
       "<table border=\"1\" class=\"dataframe\">\n",
       "  <thead>\n",
       "    <tr style=\"text-align: right;\">\n",
       "      <th></th>\n",
       "      <th>image_path</th>\n",
       "    </tr>\n",
       "  </thead>\n",
       "  <tbody>\n",
       "    <tr>\n",
       "      <th>0</th>\n",
       "      <td>agaricus_arvensis/agaricusarvensis2.jpg</td>\n",
       "    </tr>\n",
       "    <tr>\n",
       "      <th>1</th>\n",
       "      <td>agaricus_augustus/agaricusaugustus2.jpg</td>\n",
       "    </tr>\n",
       "    <tr>\n",
       "      <th>2</th>\n",
       "      <td>albatrellus_confluens/albatrellusconfluens2.jpg</td>\n",
       "    </tr>\n",
       "    <tr>\n",
       "      <th>3</th>\n",
       "      <td>amanita_fulva/amanitafulva2.jpg</td>\n",
       "    </tr>\n",
       "    <tr>\n",
       "      <th>4</th>\n",
       "      <td>amanita_muscaria/amanitamuscaria2.jpg</td>\n",
       "    </tr>\n",
       "    <tr>\n",
       "      <th>...</th>\n",
       "      <td>...</td>\n",
       "    </tr>\n",
       "    <tr>\n",
       "      <th>130</th>\n",
       "      <td>tricholoma_sejunctum/tricholomasejunctum2.jpg</td>\n",
       "    </tr>\n",
       "    <tr>\n",
       "      <th>131</th>\n",
       "      <td>tricholomopsis_decora/tricholomopsisdecora2.jpg</td>\n",
       "    </tr>\n",
       "    <tr>\n",
       "      <th>132</th>\n",
       "      <td>tricholomopsis_rutilans/tricholomopsisrutilans...</td>\n",
       "    </tr>\n",
       "    <tr>\n",
       "      <th>133</th>\n",
       "      <td>turbinellus_floccosus/turbinellusfloccosus2.jpg</td>\n",
       "    </tr>\n",
       "    <tr>\n",
       "      <th>134</th>\n",
       "      <td>tylopilus_felleus/tylopilusfelleus2.jpg</td>\n",
       "    </tr>\n",
       "  </tbody>\n",
       "</table>\n",
       "<p>135 rows × 1 columns</p>\n",
       "</div>"
      ],
      "text/plain": [
       "                                            image_path\n",
       "0              agaricus_arvensis/agaricusarvensis2.jpg\n",
       "1              agaricus_augustus/agaricusaugustus2.jpg\n",
       "2      albatrellus_confluens/albatrellusconfluens2.jpg\n",
       "3                      amanita_fulva/amanitafulva2.jpg\n",
       "4                amanita_muscaria/amanitamuscaria2.jpg\n",
       "..                                                 ...\n",
       "130      tricholoma_sejunctum/tricholomasejunctum2.jpg\n",
       "131    tricholomopsis_decora/tricholomopsisdecora2.jpg\n",
       "132  tricholomopsis_rutilans/tricholomopsisrutilans...\n",
       "133    turbinellus_floccosus/turbinellusfloccosus2.jpg\n",
       "134            tylopilus_felleus/tylopilusfelleus2.jpg\n",
       "\n",
       "[135 rows x 1 columns]"
      ]
     },
     "execution_count": 37,
     "metadata": {},
     "output_type": "execute_result"
    }
   ],
   "source": [
    "pd.read_csv(\"CSVs/categorical_testing.csv\")"
   ]
  },
  {
   "cell_type": "code",
   "execution_count": null,
   "metadata": {},
   "outputs": [],
   "source": []
  },
  {
   "cell_type": "code",
   "execution_count": null,
   "metadata": {},
   "outputs": [],
   "source": []
  }
 ],
 "metadata": {
  "kernelspec": {
   "display_name": "Python 3",
   "language": "python",
   "name": "python3"
  },
  "language_info": {
   "codemirror_mode": {
    "name": "ipython",
    "version": 3
   },
   "file_extension": ".py",
   "mimetype": "text/x-python",
   "name": "python",
   "nbconvert_exporter": "python",
   "pygments_lexer": "ipython3",
   "version": "3.6.10"
  }
 },
 "nbformat": 4,
 "nbformat_minor": 4
}
