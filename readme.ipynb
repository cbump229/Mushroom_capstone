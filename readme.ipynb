{
 "cells": [
  {
   "cell_type": "markdown",
   "metadata": {},
   "source": [
    "# Problem Statement\n",
    "There are over 10,000 known species of mushrooms across the world; the goal of this project is to train neural networks to classify mushrooms based on their various features."
   ]
  },
  {
   "cell_type": "markdown",
   "metadata": {},
   "source": [
    "# Obtain the data\n",
    "This portion of the project proved to be the most essential in properly training a model. I started out with the grand idea of providing an image of a mushroom to a model and having the program tell me the exact species of the mushroom but decided to delve deeper into creating models that would make better predictions.<br>\n",
    "Mushroom.world had plenty of data on many different species of mushrooms as well as their scientific names that are extremely useful in gathering pictures of the right kind of mushroom from other search engines like bing or google."
   ]
  },
  {
   "cell_type": "markdown",
   "metadata": {},
   "source": [
    "#### Construct Convolutional Neural Networks"
   ]
  },
  {
   "cell_type": "markdown",
   "metadata": {},
   "source": [
    "1. Convert image data to numeric arrays based off of color data stored in a file\n",
    "    - Construct a Sequential Neural Network<br><br>\n",
    "2. Multiple Convolutional Layers\n",
    "    - Flattened into an Array<br>\n",
    "    - Feed into a Dense Neural Network<br><br>\n",
    "3. Compile the layers<br><br>\n",
    "4. Fit the model with Training Data<br>\n"
   ]
  },
  {
   "cell_type": "markdown",
   "metadata": {},
   "source": [
    "---"
   ]
  },
  {
   "cell_type": "markdown",
   "metadata": {},
   "source": [
    "#### Train a neural network to identify species:\n",
    "\n",
    "<br>\n",
    "\n",
    "[Mushroom World](https://www.mushroom.world/) \n",
    "had a fantastic alphabetical list of mushrooms by species with measurements for the mushroom as well as indicators on if the species was edible. Through the use of the webscraper I obtained 137 different species of mushrooms and anywhere between 4-7 images for each mushroom!\n",
    "\n",
    "After exploring the obtained images in more detail and running some models; I quickly concluded that the network would need far more than a fist full of mushrooms in order to make accurate predictions on species. Trying to identify 137 different classes on 5 images per class wasn't going to cut it no matter how many ways the pictures were turned or zoomed."
   ]
  },
  {
   "cell_type": "markdown",
   "metadata": {},
   "source": [
    "---"
   ]
  },
  {
   "cell_type": "markdown",
   "metadata": {},
   "source": [
    "#### Since attempting to identify species wasn't working out:\n",
    "I proceed to use this data from the webscraper in order to divide the data into two classes. \n",
    "> 0 - Edible<br>\n",
    "1- Inedible\n",
    "\n",
    "Figuring that since I had 273 images of edible species and 347 images of inedible species already in a folder and saved into a database I can quickly build models with slight adjustments to the original codes. These tests had a sudden impact and training the models yielded much better results! "
   ]
  },
  {
   "cell_type": "markdown",
   "metadata": {},
   "source": [
    "<img src=\"figures/edibile_acc.png\">"
   ]
  },
  {
   "cell_type": "markdown",
   "metadata": {},
   "source": [
    "### <center>Summary Results</center>"
   ]
  },
  {
   "cell_type": "markdown",
   "metadata": {},
   "source": [
    "|                 | Predicted Edible | Predicted Poison |\n",
    "|-----------------|------------------|------------------|\n",
    "| Actually Edible | 30               | 26               |\n",
    "| Actual Poison   | 27               | 52               |"
   ]
  },
  {
   "cell_type": "markdown",
   "metadata": {},
   "source": [
    "<center>66% Accurate predictions</center>\n",
    "\n",
    "<center>20% False Negatives</center>\n",
    "\n",
    "\n",
    "\n",
    "<center>60% ROC AUC on trained model</center>\n",
    "<center>VS 50% ROC AUC score on baseline</center>\n"
   ]
  },
  {
   "cell_type": "markdown",
   "metadata": {},
   "source": [
    "---"
   ]
  },
  {
   "cell_type": "markdown",
   "metadata": {},
   "source": [
    "#### Putting our mushrooms where the money is at:\n",
    "Since using more data on two classes was giving more accurate results I decided to go for gold and separate the good morels from the bad.<br>\n",
    "[Chrome image downloader](https://chrome.google.com/webstore/detail/image-downloader/cnpniohnfphhjihaiiggeabnkjhpaldj?hl=en-US)\n",
    "was a very useful tool in quickly obtaining a large batch of images from [Bing](http://www.bing.com) of the three morels :\n",
    "> Morchella elata   (Black Morel) - The Good - Edible<br>\n",
    "Gyromitra esculenta   (False Morel) - The Bad - Lethally Poisonous <br>\n",
    "Gyromitra infula   (Hooded false morel) - The Ugly - Poisonous\n",
    "\n",
    "These three species were put into two groups to be tested on the neural network\n",
    "- True Morels\n",
    "    - Morchella elata   (Black Morel) <br><br>\n",
    "- Bad Morels\n",
    "    - Gyromitra esculenta   (False Morel)<br>\n",
    "    - Gyromitra infula   (Hooded false morel)<br>"
   ]
  },
  {
   "cell_type": "markdown",
   "metadata": {},
   "source": [
    "<img src=\"figures/morel_acc.png\">"
   ]
  },
  {
   "cell_type": "markdown",
   "metadata": {},
   "source": [
    "### <center>Summary Results</center>"
   ]
  },
  {
   "cell_type": "markdown",
   "metadata": {},
   "source": [
    "|                    | Predicted True Morel | Predicted False Morel |   |   |\n",
    "|--------------------|----------------------|-----------------------|---|---|\n",
    "| Actual True Morel  | 260                  | 31                    |   |   |\n",
    "| Actual False Morel | 65                   | 260                   |   |   |"
   ]
  },
  {
   "cell_type": "markdown",
   "metadata": {},
   "source": [
    "<center>80% Accurate predictions</center>\n",
    "\n",
    "<center>10% False Negatives</center>\n",
    "\n",
    "\n",
    "\n",
    "<center>85% ROC AUC on trained model</center>\n",
    "<center>VS 50% ROC AUC score on baseline</center>\n"
   ]
  },
  {
   "cell_type": "markdown",
   "metadata": {},
   "source": [
    "___"
   ]
  },
  {
   "cell_type": "markdown",
   "metadata": {},
   "source": [
    "# <center>Conclusion</center>"
   ]
  },
  {
   "cell_type": "markdown",
   "metadata": {},
   "source": [
    "Any which way you can get a larger amount of relevant data is going to be greatly beneficial in using neural networks to classify features of mushrooms. The accuracy result increases going from 5 images per class, to 300 per class, to 1000 per class shows how much having enough of the proper data is probably the most important aspect of making accurate predictions on future data."
   ]
  }
 ],
 "metadata": {
  "kernelspec": {
   "display_name": "Python 3",
   "language": "python",
   "name": "python3"
  },
  "language_info": {
   "codemirror_mode": {
    "name": "ipython",
    "version": 3
   },
   "file_extension": ".py",
   "mimetype": "text/x-python",
   "name": "python",
   "nbconvert_exporter": "python",
   "pygments_lexer": "ipython3",
   "version": "3.6.10"
  }
 },
 "nbformat": 4,
 "nbformat_minor": 4
}
