{
 "cells": [
  {
   "cell_type": "markdown",
   "metadata": {},
   "source": [
    "# Problem Statement\n",
    "There are over 10,000 known species of mushrooms across the world the goal of this project will be to train neural networks to classify mushrooms based on its various features."
   ]
  },
  {
   "cell_type": "markdown",
   "metadata": {},
   "source": [
    "# Obtain the data\n",
    "This portion of the project proved to be the most essential in properly training a model. I started out with the grand idea of providing an image of a mushroom to a model and having the program tell me the exact species of the mushroom."
   ]
  },
  {
   "cell_type": "markdown",
   "metadata": {},
   "source": [
    "#### Train a neural network to identify species:\n",
    "\n",
    "<br>\n",
    "\n",
    "[Mushroom World](https://www.mushroom.world/) \n",
    "had a fantastic alphabetical list of mushrooms by species with measurements for the mushroom as well as indicators on if the species was edible. Through the use of the webscraper I obtained 137 different species of mushrooms and anywhere between 4-7 images for each mushroom!\n",
    "\n",
    "After exploring the obtained images in more detail and running some models; I quickly concluded that the network would need far more than a first full of mushrooms in order to make accurate predictions on species. Trying to identify 137 different classes on 5 images per class wasn't going to cut it no matter how many ways the pictures were turned or zoomed."
   ]
  },
  {
   "cell_type": "markdown",
   "metadata": {},
   "source": [
    "#### Since attempting to identify species was working out:\n",
    "I proceed to use this data from the webscraper in order to divide the data into two classes. \n",
    "> 0 - Edible<br>\n",
    "1- Inedible\n",
    "\n",
    "Figuring that since I had 273 images of edible species and 347 images of inedible species already in a folder and saved into a database I can quickly build models with slight adjustments to the original codes. These tests had a sudden impact and training the models yielded much better results! "
   ]
  },
  {
   "cell_type": "markdown",
   "metadata": {},
   "source": [
    "#### Putting our mushrooms where the money is at:\n",
    "Since using more data on two classes was giving more accurate results I decided to go for gold and separate the good morels from the bad.<br>\n",
    "[Chrome image downloader](https://chrome.google.com/webstore/detail/image-downloader/cnpniohnfphhjihaiiggeabnkjhpaldj?hl=en-US)\n",
    "was a very useful tool in quickly obtaining a large batch of images from [Bing](http://www.bing.com) of the three morels :\n",
    "> Morchella elata   (Black Morel) - The Gold - Edible<br>\n",
    "Gyromitra esculenta   (False Morel) - The Bad - Lethally Poisonous <br>\n",
    "Gyromitra infula   (Hooded false morel) - The Ugly - Poisonous\n",
    "\n",
    "These three species were put into two groups to be tested on the neural network\n",
    "- True Morels\n",
    "    - Morchella elata   (Black Morel) <br><br>\n",
    "- Bad Morels\n",
    "    - Gyromitra esculenta   (False Morel)<br>\n",
    "    - Gyromitra infula   (Hooded false morel)<br>"
   ]
  },
  {
   "cell_type": "markdown",
   "metadata": {},
   "source": [
    "## Evaluating the Results"
   ]
  },
  {
   "cell_type": "markdown",
   "metadata": {},
   "source": []
  },
  {
   "cell_type": "markdown",
   "metadata": {},
   "source": []
  },
  {
   "cell_type": "markdown",
   "metadata": {},
   "source": []
  },
  {
   "cell_type": "markdown",
   "metadata": {},
   "source": [
    "# Answers"
   ]
  },
  {
   "cell_type": "markdown",
   "metadata": {},
   "source": []
  },
  {
   "cell_type": "code",
   "execution_count": null,
   "metadata": {},
   "outputs": [],
   "source": []
  },
  {
   "cell_type": "code",
   "execution_count": null,
   "metadata": {},
   "outputs": [],
   "source": []
  },
  {
   "cell_type": "markdown",
   "metadata": {},
   "source": [
    "# Conclusion"
   ]
  },
  {
   "cell_type": "markdown",
   "metadata": {},
   "source": [
    "Any which way you can get a larger amount of relevant data is going to be greatly beneficial in using neural networks to classify features of mushrooms. The accuracy result increases going from 5 images per class, to 300 per class, to 1000 per class show how much having enough of the proper data is probably the most important aspect of making accurate predictions on future data."
   ]
  },
  {
   "cell_type": "code",
   "execution_count": null,
   "metadata": {},
   "outputs": [],
   "source": []
  }
 ],
 "metadata": {
  "kernelspec": {
   "display_name": "Python 3",
   "language": "python",
   "name": "python3"
  },
  "language_info": {
   "codemirror_mode": {
    "name": "ipython",
    "version": 3
   },
   "file_extension": ".py",
   "mimetype": "text/x-python",
   "name": "python",
   "nbconvert_exporter": "python",
   "pygments_lexer": "ipython3",
   "version": "3.6.10"
  }
 },
 "nbformat": 4,
 "nbformat_minor": 4
}
