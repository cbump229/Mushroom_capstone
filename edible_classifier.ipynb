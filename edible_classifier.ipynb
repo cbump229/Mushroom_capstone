{
 "cells": [
  {
   "cell_type": "code",
   "execution_count": 1,
   "metadata": {},
   "outputs": [
    {
     "name": "stderr",
     "output_type": "stream",
     "text": [
      "Using TensorFlow backend.\n"
     ]
    }
   ],
   "source": [
    "from keras.preprocessing.image import ImageDataGenerator, DirectoryIterator\n",
    "from keras.models import Sequential\n",
    "from keras.layers import Conv2D, MaxPooling2D\n",
    "from keras.layers import Activation,Dropout,Flatten,Dense\n",
    "from keras import backend as K\n",
    "from keras import regularizers\n",
    "\n",
    "import numpy as np\n",
    "from keras.preprocessing import image\n",
    "import tensorflow.keras.metrics\n",
    "\n",
    "\n",
    "import matplotlib.pyplot as plt\n",
    "\n",
    "import pandas as pd\n",
    "import os\n",
    "import shutil\n",
    "import sys"
   ]
  },
  {
   "cell_type": "code",
   "execution_count": 2,
   "metadata": {},
   "outputs": [],
   "source": [
    "# Variables to feed down into modeling\n",
    "image_width,img_height = 150,150\n",
    "\n",
    "train_data_dir = 'edible_classifier_images/train'\n",
    "test_data_dir = 'edible_classifier_images/test'\n",
    "\n",
    "nb_train_samples = 200\n",
    "nb_test_samples = 20\n",
    "\n",
    "\n",
    "epochs = 60\n",
    "batch_size = 81 # Use powers of 2"
   ]
  },
  {
   "cell_type": "code",
   "execution_count": 3,
   "metadata": {},
   "outputs": [],
   "source": [
    "# tell Keras to find the proper placement of the RBG data in each image\n",
    "if K.image_data_format() =='channels_first':\n",
    "    input_shape = (3,image_width,img_height)\n",
    "else:\n",
    "    input_shape = (image_width,img_height,3)"
   ]
  },
  {
   "cell_type": "code",
   "execution_count": 4,
   "metadata": {},
   "outputs": [],
   "source": [
    "train_datagen = ImageDataGenerator(\n",
    "                            rescale= (1.0 /255),\n",
    "                            shear_range =0.2,\n",
    "                            zoom_range =0.2,\n",
    "                            horizontal_flip = True,\n",
    "                            vertical_flip= True\n",
    "                                    )"
   ]
  },
  {
   "cell_type": "code",
   "execution_count": 5,
   "metadata": {},
   "outputs": [],
   "source": [
    "test_datagen = ImageDataGenerator( rescale= 1.0/255)"
   ]
  },
  {
   "cell_type": "code",
   "execution_count": 6,
   "metadata": {},
   "outputs": [
    {
     "name": "stdout",
     "output_type": "stream",
     "text": [
      "Found 483 images belonging to 2 classes.\n"
     ]
    }
   ],
   "source": [
    "train_generator = train_datagen.flow_from_directory(\n",
    "                                                    train_data_dir,\n",
    "                                                    target_size=(image_width,img_height),\n",
    "                                                    batch_size=batch_size,\n",
    "                                                    class_mode = 'binary'\n",
    "                                                    )"
   ]
  },
  {
   "cell_type": "code",
   "execution_count": 7,
   "metadata": {},
   "outputs": [
    {
     "name": "stdout",
     "output_type": "stream",
     "text": [
      "Found 135 images belonging to 2 classes.\n"
     ]
    }
   ],
   "source": [
    "test_generator = test_datagen.flow_from_directory(\n",
    "                                                test_data_dir,\n",
    "                                                target_size=(image_width,img_height),\n",
    "                                                batch_size=batch_size,\n",
    "                                                class_mode='binary'\n",
    "                                                    )"
   ]
  },
  {
   "cell_type": "code",
   "execution_count": 8,
   "metadata": {},
   "outputs": [],
   "source": [
    "model = Sequential()"
   ]
  },
  {
   "cell_type": "code",
   "execution_count": 9,
   "metadata": {},
   "outputs": [],
   "source": [
    "# First layer - input image\n",
    "model.add(Conv2D(256,\n",
    "                 kernel_size= (2,2), \n",
    "                 input_shape=input_shape, \n",
    "                 activation='relu',\n",
    "                ))\n",
    "model.add(MaxPooling2D(pool_size=(2,2)))"
   ]
  },
  {
   "cell_type": "code",
   "execution_count": 10,
   "metadata": {},
   "outputs": [],
   "source": [
    "# 2nd layer\n",
    "model.add(Conv2D(81,\n",
    "                 kernel_size=(2,2),\n",
    "                 activation='relu',\n",
    "                ))\n",
    "\n",
    "model.add(MaxPooling2D(pool_size=(2,2)))\n"
   ]
  },
  {
   "cell_type": "code",
   "execution_count": 11,
   "metadata": {},
   "outputs": [],
   "source": [
    "#3rd Layer\n",
    "model.add(Conv2D(36,\n",
    "                 kernel_size=(2,2),\n",
    "                 activation='relu',\n",
    "                ))\n",
    "\n",
    "model.add(MaxPooling2D(pool_size=(2,2)))\n"
   ]
  },
  {
   "cell_type": "code",
   "execution_count": 12,
   "metadata": {},
   "outputs": [],
   "source": [
    "# flatten\n",
    "model.add(Flatten(input_shape=input_shape))"
   ]
  },
  {
   "cell_type": "code",
   "execution_count": 13,
   "metadata": {},
   "outputs": [],
   "source": [
    "# 1st Dense\n",
    "model.add(Dense(155, \n",
    "                activation='relu',\n",
    "               ))\n"
   ]
  },
  {
   "cell_type": "code",
   "execution_count": 14,
   "metadata": {},
   "outputs": [],
   "source": [
    "# 2nd Dense\n",
    "model.add(Dense(32, \n",
    "                activation='relu',\n",
    "               ))\n"
   ]
  },
  {
   "cell_type": "code",
   "execution_count": 15,
   "metadata": {},
   "outputs": [],
   "source": [
    "# final output layer\n",
    "model.add(Dense(1, activation = 'sigmoid'))"
   ]
  },
  {
   "cell_type": "code",
   "execution_count": 16,
   "metadata": {},
   "outputs": [],
   "source": [
    "model.compile( \n",
    "    loss = 'binary_crossentropy',\n",
    "    optimizer='adam',\n",
    "    metrics=['acc']\n",
    "                )"
   ]
  },
  {
   "cell_type": "code",
   "execution_count": 17,
   "metadata": {
    "scrolled": false
   },
   "outputs": [
    {
     "name": "stdout",
     "output_type": "stream",
     "text": [
      "Epoch 1/60\n",
      "2/2 [==============================] - 53s 26s/step - loss: 0.6910 - acc: 0.5370 - val_loss: 0.7680 - val_acc: 0.5852\n",
      "Epoch 2/60\n",
      "2/2 [==============================] - 40s 20s/step - loss: 0.6713 - acc: 0.5912 - val_loss: 0.7069 - val_acc: 0.4148\n",
      "Epoch 3/60\n",
      "2/2 [==============================] - 41s 21s/step - loss: 0.7025 - acc: 0.4630 - val_loss: 0.6729 - val_acc: 0.5852\n",
      "Epoch 4/60\n",
      "2/2 [==============================] - 43s 21s/step - loss: 0.6918 - acc: 0.5247 - val_loss: 0.6636 - val_acc: 0.5852\n",
      "Epoch 5/60\n",
      "2/2 [==============================] - 38s 19s/step - loss: 0.6830 - acc: 0.5849 - val_loss: 0.7147 - val_acc: 0.5852\n",
      "Epoch 6/60\n",
      "2/2 [==============================] - 42s 21s/step - loss: 0.6908 - acc: 0.5494 - val_loss: 0.6864 - val_acc: 0.5852\n",
      "Epoch 7/60\n",
      "2/2 [==============================] - 38s 19s/step - loss: 0.6863 - acc: 0.5494 - val_loss: 0.6789 - val_acc: 0.5852\n",
      "Epoch 8/60\n",
      "2/2 [==============================] - 31s 16s/step - loss: 0.6931 - acc: 0.5185 - val_loss: 0.6815 - val_acc: 0.5852\n",
      "Epoch 9/60\n",
      "2/2 [==============================] - 32s 16s/step - loss: 0.6814 - acc: 0.5912 - val_loss: 0.6501 - val_acc: 0.5852\n",
      "Epoch 10/60\n",
      "2/2 [==============================] - 35s 17s/step - loss: 0.6864 - acc: 0.5370 - val_loss: 0.6862 - val_acc: 0.5852\n",
      "Epoch 11/60\n",
      "2/2 [==============================] - 34s 17s/step - loss: 0.6725 - acc: 0.6049 - val_loss: 0.6879 - val_acc: 0.5852\n",
      "Epoch 12/60\n",
      "2/2 [==============================] - 33s 16s/step - loss: 0.7055 - acc: 0.5157 - val_loss: 0.6810 - val_acc: 0.5852\n",
      "Epoch 13/60\n",
      "2/2 [==============================] - 34s 17s/step - loss: 0.6826 - acc: 0.5370 - val_loss: 0.6969 - val_acc: 0.4222\n",
      "Epoch 14/60\n",
      "2/2 [==============================] - 32s 16s/step - loss: 0.6931 - acc: 0.4938 - val_loss: 0.7035 - val_acc: 0.4074\n",
      "Epoch 15/60\n",
      "2/2 [==============================] - 38s 19s/step - loss: 0.6944 - acc: 0.4465 - val_loss: 0.6846 - val_acc: 0.6296\n",
      "Epoch 16/60\n",
      "2/2 [==============================] - 39s 19s/step - loss: 0.6845 - acc: 0.6049 - val_loss: 0.6770 - val_acc: 0.5852\n",
      "Epoch 17/60\n",
      "2/2 [==============================] - 33s 17s/step - loss: 0.6882 - acc: 0.5535 - val_loss: 0.6795 - val_acc: 0.5852\n",
      "Epoch 18/60\n",
      "2/2 [==============================] - 42s 21s/step - loss: 0.6948 - acc: 0.5185 - val_loss: 0.6617 - val_acc: 0.5852\n",
      "Epoch 19/60\n",
      "2/2 [==============================] - 38s 19s/step - loss: 0.6778 - acc: 0.5741 - val_loss: 0.7032 - val_acc: 0.5852\n",
      "Epoch 20/60\n",
      "2/2 [==============================] - 39s 20s/step - loss: 0.6885 - acc: 0.5432 - val_loss: 0.6823 - val_acc: 0.5852\n",
      "Epoch 21/60\n",
      "2/2 [==============================] - 37s 18s/step - loss: 0.6836 - acc: 0.5409 - val_loss: 0.6613 - val_acc: 0.5852\n",
      "Epoch 22/60\n",
      "2/2 [==============================] - 37s 18s/step - loss: 0.6833 - acc: 0.5679 - val_loss: 0.6774 - val_acc: 0.5926\n",
      "Epoch 23/60\n",
      "2/2 [==============================] - 39s 19s/step - loss: 0.6812 - acc: 0.5617 - val_loss: 0.6636 - val_acc: 0.6074\n",
      "Epoch 24/60\n",
      "2/2 [==============================] - 40s 20s/step - loss: 0.6700 - acc: 0.5723 - val_loss: 0.6694 - val_acc: 0.6370\n",
      "Epoch 25/60\n",
      "2/2 [==============================] - 42s 21s/step - loss: 0.6734 - acc: 0.5660 - val_loss: 0.6651 - val_acc: 0.6296\n",
      "Epoch 26/60\n",
      "2/2 [==============================] - 41s 21s/step - loss: 0.6635 - acc: 0.6049 - val_loss: 0.6548 - val_acc: 0.6296\n",
      "Epoch 27/60\n",
      "2/2 [==============================] - 40s 20s/step - loss: 0.6777 - acc: 0.5679 - val_loss: 0.6416 - val_acc: 0.5333\n",
      "Epoch 28/60\n",
      "2/2 [==============================] - 38s 19s/step - loss: 0.6630 - acc: 0.5988 - val_loss: 0.7512 - val_acc: 0.6296\n",
      "Epoch 29/60\n",
      "2/2 [==============================] - 36s 18s/step - loss: 0.7003 - acc: 0.5786 - val_loss: 0.6497 - val_acc: 0.6370\n",
      "Epoch 30/60\n",
      "2/2 [==============================] - 41s 21s/step - loss: 0.6802 - acc: 0.5556 - val_loss: 0.6537 - val_acc: 0.6000\n",
      "Epoch 31/60\n",
      "2/2 [==============================] - 39s 20s/step - loss: 0.6744 - acc: 0.6226 - val_loss: 0.6662 - val_acc: 0.5259\n",
      "Epoch 32/60\n",
      "2/2 [==============================] - 36s 18s/step - loss: 0.6778 - acc: 0.5617 - val_loss: 0.6836 - val_acc: 0.6000\n",
      "Epoch 33/60\n",
      "2/2 [==============================] - 39s 19s/step - loss: 0.6726 - acc: 0.5741 - val_loss: 0.6464 - val_acc: 0.6593\n",
      "Epoch 34/60\n",
      "2/2 [==============================] - 43s 22s/step - loss: 0.6755 - acc: 0.5597 - val_loss: 0.6335 - val_acc: 0.6370\n",
      "Epoch 35/60\n",
      "2/2 [==============================] - 37s 19s/step - loss: 0.6640 - acc: 0.5741 - val_loss: 0.6447 - val_acc: 0.6370\n",
      "Epoch 36/60\n",
      "2/2 [==============================] - 36s 18s/step - loss: 0.6629 - acc: 0.6173 - val_loss: 0.6026 - val_acc: 0.6815\n",
      "Epoch 37/60\n",
      "2/2 [==============================] - 33s 17s/step - loss: 0.6585 - acc: 0.5926 - val_loss: 0.6640 - val_acc: 0.5852\n",
      "Epoch 38/60\n",
      "2/2 [==============================] - 31s 15s/step - loss: 0.6578 - acc: 0.6173 - val_loss: 0.5963 - val_acc: 0.6667\n",
      "Epoch 39/60\n",
      "2/2 [==============================] - 33s 16s/step - loss: 0.6752 - acc: 0.5723 - val_loss: 0.6349 - val_acc: 0.6815\n",
      "Epoch 40/60\n",
      "2/2 [==============================] - 32s 16s/step - loss: 0.6816 - acc: 0.6352 - val_loss: 0.6744 - val_acc: 0.5852\n",
      "Epoch 41/60\n",
      "2/2 [==============================] - 32s 16s/step - loss: 0.6474 - acc: 0.6790 - val_loss: 0.6303 - val_acc: 0.6667\n",
      "Epoch 42/60\n",
      "2/2 [==============================] - 37s 19s/step - loss: 0.6522 - acc: 0.5926 - val_loss: 0.6572 - val_acc: 0.6444\n",
      "Epoch 43/60\n",
      "2/2 [==============================] - 32s 16s/step - loss: 0.6864 - acc: 0.5741 - val_loss: 0.5749 - val_acc: 0.6667\n",
      "Epoch 44/60\n",
      "2/2 [==============================] - 31s 15s/step - loss: 0.6178 - acc: 0.6543 - val_loss: 0.6588 - val_acc: 0.6148\n",
      "Epoch 45/60\n",
      "2/2 [==============================] - 35s 17s/step - loss: 0.6749 - acc: 0.6164 - val_loss: 0.5857 - val_acc: 0.6222\n",
      "Epoch 46/60\n",
      "2/2 [==============================] - 37s 19s/step - loss: 0.6703 - acc: 0.6173 - val_loss: 0.6512 - val_acc: 0.6741\n",
      "Epoch 47/60\n",
      "2/2 [==============================] - 35s 18s/step - loss: 0.6322 - acc: 0.6667 - val_loss: 0.6964 - val_acc: 0.6741\n",
      "Epoch 48/60\n",
      "2/2 [==============================] - 41s 21s/step - loss: 0.6374 - acc: 0.6164 - val_loss: 0.5823 - val_acc: 0.6593\n",
      "Epoch 49/60\n",
      "2/2 [==============================] - 37s 18s/step - loss: 0.6653 - acc: 0.6289 - val_loss: 0.6051 - val_acc: 0.6519\n",
      "Epoch 50/60\n",
      "2/2 [==============================] - 33s 16s/step - loss: 0.6389 - acc: 0.6296 - val_loss: 0.6637 - val_acc: 0.6667\n",
      "Epoch 51/60\n",
      "2/2 [==============================] - 38s 19s/step - loss: 0.6287 - acc: 0.6605 - val_loss: 0.5871 - val_acc: 0.6593\n",
      "Epoch 52/60\n",
      "2/2 [==============================] - 42s 21s/step - loss: 0.6522 - acc: 0.6289 - val_loss: 0.6210 - val_acc: 0.6370\n",
      "Epoch 53/60\n",
      "2/2 [==============================] - 37s 18s/step - loss: 0.6243 - acc: 0.7037 - val_loss: 0.6519 - val_acc: 0.6593\n",
      "Epoch 54/60\n",
      "2/2 [==============================] - 39s 20s/step - loss: 0.6518 - acc: 0.5988 - val_loss: 0.6349 - val_acc: 0.6444\n",
      "Epoch 55/60\n",
      "2/2 [==============================] - 39s 19s/step - loss: 0.6697 - acc: 0.6358 - val_loss: 0.6315 - val_acc: 0.5852\n",
      "Epoch 56/60\n",
      "2/2 [==============================] - 38s 19s/step - loss: 0.6349 - acc: 0.6289 - val_loss: 0.7024 - val_acc: 0.6593\n",
      "Epoch 57/60\n",
      "2/2 [==============================] - 40s 20s/step - loss: 0.6370 - acc: 0.6296 - val_loss: 0.6058 - val_acc: 0.6667\n",
      "Epoch 58/60\n",
      "2/2 [==============================] - 42s 21s/step - loss: 0.6363 - acc: 0.6289 - val_loss: 0.5895 - val_acc: 0.6741\n",
      "Epoch 59/60\n",
      "2/2 [==============================] - 44s 22s/step - loss: 0.6198 - acc: 0.6914 - val_loss: 0.5875 - val_acc: 0.6889\n",
      "Epoch 60/60\n",
      "2/2 [==============================] - 43s 22s/step - loss: 0.6389 - acc: 0.6358 - val_loss: 0.6104 - val_acc: 0.6667\n"
     ]
    }
   ],
   "source": [
    "history = model.fit_generator(\n",
    "            train_generator,\n",
    "            steps_per_epoch= nb_train_samples // batch_size,\n",
    "            epochs=epochs,\n",
    "            validation_data=test_generator,\n",
    "            validation_steps=nb_test_samples // batch_size,\n",
    "\n",
    ")\n",
    "\n",
    "model.save('history/edible_try.h5')"
   ]
  },
  {
   "cell_type": "code",
   "execution_count": 18,
   "metadata": {
    "scrolled": false
   },
   "outputs": [
    {
     "data": {
      "image/png": "[encoded data removed]",
      "text/plain": [
       "<Figure size 864x576 with 1 Axes>"
      ]
     },
     "metadata": {
      "needs_background": "light"
     },
     "output_type": "display_data"
    }
   ],
   "source": [
    "train_loss = history.history['loss']\n",
    "test_loss = history.history['val_loss']\n",
    "plt.figure(figsize=(12, 8))\n",
    "plt.plot(train_loss, label='Training loss', color='navy')\n",
    "plt.plot(test_loss, label='Testing loss', color='skyblue')\n",
    "plt.legend()\n",
    "plt.savefig('figures/edibile_loss.png');"
   ]
  },
  {
   "cell_type": "code",
   "execution_count": 20,
   "metadata": {},
   "outputs": [
    {
     "data": {
      "image/png": "[encoded data removed]",
      "text/plain": [
       "<Figure size 864x576 with 1 Axes>"
      ]
     },
     "metadata": {
      "needs_background": "light"
     },
     "output_type": "display_data"
    }
   ],
   "source": [
    "plt.figure(figsize=(12,8))\n",
    "plt.plot(history.history['acc'], label='Train accuracy')\n",
    "plt.plot(history.history['val_acc'], label='Test accuracy')\n",
    "plt.legend()\n",
    "\n",
    "plt.title(\"Accuracy of Image recognition\", fontsize=25)\n",
    "plt.xlabel(\"Number of Epochs\", fontsize=25)\n",
    "plt.ylabel(\"Accuracy by Percent\", fontsize=25)\n",
    "plt.savefig('figures/edibile_acc.png');"
   ]
  },
  {
   "cell_type": "markdown",
   "metadata": {},
   "source": [
    "# Test single image"
   ]
  },
  {
   "cell_type": "code",
   "execution_count": 21,
   "metadata": {},
   "outputs": [],
   "source": [
    "# img_pred = image.load_img('edible_classifier_images/test/inedible/albatrellusconfluens2.jpg',target_size=(img_height,image_width))\n",
    "# img_pred = image.img_to_array(img_pred)\n",
    "# img_pred = np.expand_dims(img_pred, axis = 0)"
   ]
  },
  {
   "cell_type": "code",
   "execution_count": 22,
   "metadata": {},
   "outputs": [],
   "source": [
    "# result = model.predict_classes(img_pred)"
   ]
  },
  {
   "cell_type": "code",
   "execution_count": 23,
   "metadata": {},
   "outputs": [],
   "source": [
    "# print(result)"
   ]
  },
  {
   "cell_type": "code",
   "execution_count": 24,
   "metadata": {},
   "outputs": [],
   "source": [
    "# if result[0][0] == 1:\n",
    "#     prediction = 'inedible'\n",
    "# else:\n",
    "#     prediction = 'edible'\n",
    "    \n",
    "# print(prediction)"
   ]
  },
  {
   "cell_type": "code",
   "execution_count": 25,
   "metadata": {
    "scrolled": true
   },
   "outputs": [],
   "source": [
    "# model.predict(img_pred)"
   ]
  },
  {
   "cell_type": "code",
   "execution_count": 26,
   "metadata": {},
   "outputs": [],
   "source": [
    "# float(model.predict(img_pred))"
   ]
  },
  {
   "cell_type": "markdown",
   "metadata": {},
   "source": [
    "# Predict classes on testing - Inedible -data"
   ]
  },
  {
   "cell_type": "code",
   "execution_count": 27,
   "metadata": {
    "scrolled": false
   },
   "outputs": [
    {
     "data": {
      "text/plain": [
       "['albatrellusconfluens2.jpg',\n",
       " 'amanitafulva2.jpg',\n",
       " 'amanitamuscaria2.jpg',\n",
       " 'amanitapantherina2.jpg',\n",
       " 'amanitaphalloides2.jpg']"
      ]
     },
     "execution_count": 27,
     "metadata": {},
     "output_type": "execute_result"
    }
   ],
   "source": [
    "#Create list for each image to be predicted on\n",
    "ined_folder_list = sorted(os.listdir('edible_classifier_images/test/inedible'))\n",
    "ined_folder_list[:5]"
   ]
  },
  {
   "cell_type": "code",
   "execution_count": 28,
   "metadata": {},
   "outputs": [
    {
     "name": "stdout",
     "output_type": "stream",
     "text": [
      "item not removed from folder list\n"
     ]
    }
   ],
   "source": [
    "# Remove system/hidden files from the list so predictions aren't made on them\n",
    "try:\n",
    "    folder_list.remove('.DS_Store')\n",
    "    folder_list.remove('.ipynb_checkpoints')\n",
    "except:\n",
    "    print('item not removed from folder list')"
   ]
  },
  {
   "cell_type": "code",
   "execution_count": 29,
   "metadata": {
    "scrolled": false
   },
   "outputs": [
    {
     "data": {
      "text/plain": [
       "['albatrellusconfluens2.jpg',\n",
       " 'amanitafulva2.jpg',\n",
       " 'amanitamuscaria2.jpg',\n",
       " 'amanitapantherina2.jpg',\n",
       " 'amanitaphalloides2.jpg']"
      ]
     },
     "execution_count": 29,
     "metadata": {},
     "output_type": "execute_result"
    }
   ],
   "source": [
    "ined_folder_list[:5]"
   ]
  },
  {
   "cell_type": "code",
   "execution_count": 30,
   "metadata": {},
   "outputs": [],
   "source": [
    "# Generate Predictions on each test image in the inedible folder\n",
    "ined_preds = []\n",
    "ined_proba =[]\n",
    "counter=0\n",
    "for i in ined_folder_list[:]:\n",
    "     # Read each image from the testing - bad morels folder and generate/save predictions   \n",
    "    try:\n",
    "        img_path =(f'edible_classifier_images/test/inedible/{i}')\n",
    "\n",
    "        img_pred = image.load_img(img_path,target_size=(img_height,image_width))\n",
    "        img_pred = image.img_to_array(img_pred)\n",
    "        img_pred = np.expand_dims(img_pred, axis = 0)\n",
    "        \n",
    "        ined_preds.append(int(model.predict_classes(img_pred)))\n",
    "        ined_proba.append(float(model.predict(img_pred)))\n",
    "        \n",
    "        counter += 1\n",
    "    # if there is an error assign a 3 to the error in the list so we can find it in EDA steps    \n",
    "    except:\n",
    "        print(f'error on {counter}')\n",
    "        ined_preds.append(3)\n",
    "        ined_proba.append(3)"
   ]
  },
  {
   "cell_type": "code",
   "execution_count": 31,
   "metadata": {
    "scrolled": true
   },
   "outputs": [
    {
     "data": {
      "text/plain": [
       "[0, 0, 1, 1, 1, 0, 0, 1, 1, 1]"
      ]
     },
     "execution_count": 31,
     "metadata": {},
     "output_type": "execute_result"
    }
   ],
   "source": [
    "ined_preds[:10]"
   ]
  },
  {
   "cell_type": "code",
   "execution_count": 32,
   "metadata": {},
   "outputs": [
    {
     "data": {
      "text/plain": [
       "[4.3736417482467815e-14,\n",
       " 3.1145145588927866e-24,\n",
       " 1.0,\n",
       " 1.0,\n",
       " 1.0,\n",
       " 0.06332806497812271,\n",
       " 7.684425213274546e-31,\n",
       " 1.0,\n",
       " 1.0,\n",
       " 1.0]"
      ]
     },
     "execution_count": 32,
     "metadata": {},
     "output_type": "execute_result"
    }
   ],
   "source": [
    "ined_proba[:10]"
   ]
  },
  {
   "cell_type": "markdown",
   "metadata": {},
   "source": [
    "    Convert predictions into a dataframe"
   ]
  },
  {
   "cell_type": "code",
   "execution_count": 33,
   "metadata": {
    "scrolled": false
   },
   "outputs": [
    {
     "data": {
      "text/html": [
       "<div>\n",
       "<style scoped>\n",
       "    .dataframe tbody tr th:only-of-type {\n",
       "        vertical-align: middle;\n",
       "    }\n",
       "\n",
       "    .dataframe tbody tr th {\n",
       "        vertical-align: top;\n",
       "    }\n",
       "\n",
       "    .dataframe thead th {\n",
       "        text-align: right;\n",
       "    }\n",
       "</style>\n",
       "<table border=\"1\" class=\"dataframe\">\n",
       "  <thead>\n",
       "    <tr style=\"text-align: right;\">\n",
       "      <th></th>\n",
       "      <th>predictions</th>\n",
       "    </tr>\n",
       "  </thead>\n",
       "  <tbody>\n",
       "    <tr>\n",
       "      <th>0</th>\n",
       "      <td>0</td>\n",
       "    </tr>\n",
       "    <tr>\n",
       "      <th>1</th>\n",
       "      <td>0</td>\n",
       "    </tr>\n",
       "    <tr>\n",
       "      <th>2</th>\n",
       "      <td>1</td>\n",
       "    </tr>\n",
       "    <tr>\n",
       "      <th>3</th>\n",
       "      <td>1</td>\n",
       "    </tr>\n",
       "    <tr>\n",
       "      <th>4</th>\n",
       "      <td>1</td>\n",
       "    </tr>\n",
       "  </tbody>\n",
       "</table>\n",
       "</div>"
      ],
      "text/plain": [
       "   predictions\n",
       "0            0\n",
       "1            0\n",
       "2            1\n",
       "3            1\n",
       "4            1"
      ]
     },
     "execution_count": 33,
     "metadata": {},
     "output_type": "execute_result"
    }
   ],
   "source": [
    "ined_predictions_df = pd.DataFrame(ined_preds, columns =[\"predictions\"])\n",
    "ined_predictions_df.head()"
   ]
  },
  {
   "cell_type": "code",
   "execution_count": 34,
   "metadata": {
    "scrolled": false
   },
   "outputs": [
    {
     "data": {
      "text/html": [
       "<div>\n",
       "<style scoped>\n",
       "    .dataframe tbody tr th:only-of-type {\n",
       "        vertical-align: middle;\n",
       "    }\n",
       "\n",
       "    .dataframe tbody tr th {\n",
       "        vertical-align: top;\n",
       "    }\n",
       "\n",
       "    .dataframe thead th {\n",
       "        text-align: right;\n",
       "    }\n",
       "</style>\n",
       "<table border=\"1\" class=\"dataframe\">\n",
       "  <thead>\n",
       "    <tr style=\"text-align: right;\">\n",
       "      <th></th>\n",
       "      <th>predictions_proba</th>\n",
       "    </tr>\n",
       "  </thead>\n",
       "  <tbody>\n",
       "    <tr>\n",
       "      <th>0</th>\n",
       "      <td>4.373642e-14</td>\n",
       "    </tr>\n",
       "    <tr>\n",
       "      <th>1</th>\n",
       "      <td>3.114515e-24</td>\n",
       "    </tr>\n",
       "    <tr>\n",
       "      <th>2</th>\n",
       "      <td>1.000000e+00</td>\n",
       "    </tr>\n",
       "    <tr>\n",
       "      <th>3</th>\n",
       "      <td>1.000000e+00</td>\n",
       "    </tr>\n",
       "    <tr>\n",
       "      <th>4</th>\n",
       "      <td>1.000000e+00</td>\n",
       "    </tr>\n",
       "  </tbody>\n",
       "</table>\n",
       "</div>"
      ],
      "text/plain": [
       "   predictions_proba\n",
       "0       4.373642e-14\n",
       "1       3.114515e-24\n",
       "2       1.000000e+00\n",
       "3       1.000000e+00\n",
       "4       1.000000e+00"
      ]
     },
     "execution_count": 34,
     "metadata": {},
     "output_type": "execute_result"
    }
   ],
   "source": [
    "ined_predprobas_df = pd.DataFrame(ined_proba, columns =[\"predictions_proba\"])\n",
    "ined_predprobas_df.head()"
   ]
  },
  {
   "cell_type": "code",
   "execution_count": 35,
   "metadata": {
    "scrolled": true
   },
   "outputs": [
    {
     "data": {
      "text/html": [
       "<div>\n",
       "<style scoped>\n",
       "    .dataframe tbody tr th:only-of-type {\n",
       "        vertical-align: middle;\n",
       "    }\n",
       "\n",
       "    .dataframe tbody tr th {\n",
       "        vertical-align: top;\n",
       "    }\n",
       "\n",
       "    .dataframe thead th {\n",
       "        text-align: right;\n",
       "    }\n",
       "</style>\n",
       "<table border=\"1\" class=\"dataframe\">\n",
       "  <thead>\n",
       "    <tr style=\"text-align: right;\">\n",
       "      <th></th>\n",
       "      <th>predictions</th>\n",
       "    </tr>\n",
       "  </thead>\n",
       "  <tbody>\n",
       "  </tbody>\n",
       "</table>\n",
       "</div>"
      ],
      "text/plain": [
       "Empty DataFrame\n",
       "Columns: [predictions]\n",
       "Index: []"
      ]
     },
     "execution_count": 35,
     "metadata": {},
     "output_type": "execute_result"
    }
   ],
   "source": [
    "# test to find if any results are 'unclassified'\n",
    "ined_predictions_df.loc[ined_predictions_df['predictions']==3]"
   ]
  },
  {
   "cell_type": "code",
   "execution_count": 36,
   "metadata": {},
   "outputs": [
    {
     "data": {
      "text/html": [
       "<div>\n",
       "<style scoped>\n",
       "    .dataframe tbody tr th:only-of-type {\n",
       "        vertical-align: middle;\n",
       "    }\n",
       "\n",
       "    .dataframe tbody tr th {\n",
       "        vertical-align: top;\n",
       "    }\n",
       "\n",
       "    .dataframe thead th {\n",
       "        text-align: right;\n",
       "    }\n",
       "</style>\n",
       "<table border=\"1\" class=\"dataframe\">\n",
       "  <thead>\n",
       "    <tr style=\"text-align: right;\">\n",
       "      <th></th>\n",
       "      <th>predictions_proba</th>\n",
       "    </tr>\n",
       "  </thead>\n",
       "  <tbody>\n",
       "  </tbody>\n",
       "</table>\n",
       "</div>"
      ],
      "text/plain": [
       "Empty DataFrame\n",
       "Columns: [predictions_proba]\n",
       "Index: []"
      ]
     },
     "execution_count": 36,
     "metadata": {},
     "output_type": "execute_result"
    }
   ],
   "source": [
    "# test to find if any results are 'unclassified'\n",
    "ined_predprobas_df.loc[ined_predprobas_df['predictions_proba']==3]"
   ]
  },
  {
   "cell_type": "code",
   "execution_count": 37,
   "metadata": {},
   "outputs": [],
   "source": [
    "ined_file_name = pd.DataFrame(ined_folder_list, columns=['file_name'])"
   ]
  },
  {
   "cell_type": "markdown",
   "metadata": {},
   "source": [
    "    Combined file name, prediction , and predict proba data frames"
   ]
  },
  {
   "cell_type": "code",
   "execution_count": 38,
   "metadata": {},
   "outputs": [],
   "source": [
    "ined_predictions_df = pd.concat([ined_file_name,ined_predictions_df,ined_predprobas_df],axis=1)"
   ]
  },
  {
   "cell_type": "code",
   "execution_count": 39,
   "metadata": {},
   "outputs": [],
   "source": [
    "ined_predictions_df['actual_edible_type'] = 1\n",
    "ined_predictions_df['edible_type'] = 'inedible'"
   ]
  },
  {
   "cell_type": "code",
   "execution_count": 40,
   "metadata": {
    "scrolled": true
   },
   "outputs": [
    {
     "data": {
      "text/html": [
       "<div>\n",
       "<style scoped>\n",
       "    .dataframe tbody tr th:only-of-type {\n",
       "        vertical-align: middle;\n",
       "    }\n",
       "\n",
       "    .dataframe tbody tr th {\n",
       "        vertical-align: top;\n",
       "    }\n",
       "\n",
       "    .dataframe thead th {\n",
       "        text-align: right;\n",
       "    }\n",
       "</style>\n",
       "<table border=\"1\" class=\"dataframe\">\n",
       "  <thead>\n",
       "    <tr style=\"text-align: right;\">\n",
       "      <th></th>\n",
       "      <th>file_name</th>\n",
       "      <th>predictions</th>\n",
       "      <th>predictions_proba</th>\n",
       "      <th>actual_edible_type</th>\n",
       "      <th>edible_type</th>\n",
       "    </tr>\n",
       "  </thead>\n",
       "  <tbody>\n",
       "    <tr>\n",
       "      <th>0</th>\n",
       "      <td>albatrellusconfluens2.jpg</td>\n",
       "      <td>0</td>\n",
       "      <td>4.373642e-14</td>\n",
       "      <td>1</td>\n",
       "      <td>inedible</td>\n",
       "    </tr>\n",
       "    <tr>\n",
       "      <th>1</th>\n",
       "      <td>amanitafulva2.jpg</td>\n",
       "      <td>0</td>\n",
       "      <td>3.114515e-24</td>\n",
       "      <td>1</td>\n",
       "      <td>inedible</td>\n",
       "    </tr>\n",
       "    <tr>\n",
       "      <th>2</th>\n",
       "      <td>amanitamuscaria2.jpg</td>\n",
       "      <td>1</td>\n",
       "      <td>1.000000e+00</td>\n",
       "      <td>1</td>\n",
       "      <td>inedible</td>\n",
       "    </tr>\n",
       "    <tr>\n",
       "      <th>3</th>\n",
       "      <td>amanitapantherina2.jpg</td>\n",
       "      <td>1</td>\n",
       "      <td>1.000000e+00</td>\n",
       "      <td>1</td>\n",
       "      <td>inedible</td>\n",
       "    </tr>\n",
       "    <tr>\n",
       "      <th>4</th>\n",
       "      <td>amanitaphalloides2.jpg</td>\n",
       "      <td>1</td>\n",
       "      <td>1.000000e+00</td>\n",
       "      <td>1</td>\n",
       "      <td>inedible</td>\n",
       "    </tr>\n",
       "  </tbody>\n",
       "</table>\n",
       "</div>"
      ],
      "text/plain": [
       "                   file_name  predictions  predictions_proba  \\\n",
       "0  albatrellusconfluens2.jpg            0       4.373642e-14   \n",
       "1          amanitafulva2.jpg            0       3.114515e-24   \n",
       "2       amanitamuscaria2.jpg            1       1.000000e+00   \n",
       "3     amanitapantherina2.jpg            1       1.000000e+00   \n",
       "4     amanitaphalloides2.jpg            1       1.000000e+00   \n",
       "\n",
       "   actual_edible_type edible_type  \n",
       "0                   1    inedible  \n",
       "1                   1    inedible  \n",
       "2                   1    inedible  \n",
       "3                   1    inedible  \n",
       "4                   1    inedible  "
      ]
     },
     "execution_count": 40,
     "metadata": {},
     "output_type": "execute_result"
    }
   ],
   "source": [
    "ined_predictions_df.head()"
   ]
  },
  {
   "cell_type": "markdown",
   "metadata": {},
   "source": [
    "# Predict classes on testing - Inedible -data"
   ]
  },
  {
   "cell_type": "code",
   "execution_count": 41,
   "metadata": {
    "scrolled": true
   },
   "outputs": [
    {
     "data": {
      "text/plain": [
       "(['agaricusarvensis2.jpg',\n",
       "  'agaricusaugustus2.jpg',\n",
       "  'armillariamellea2.jpg',\n",
       "  'boletusbadius2.jpg',\n",
       "  'boletusedulis2.jpg'],\n",
       " 56)"
      ]
     },
     "execution_count": 41,
     "metadata": {},
     "output_type": "execute_result"
    }
   ],
   "source": [
    "#Create list for each image to be predicted on\n",
    "ed_folder_list = sorted(os.listdir('edible_classifier_images/test/edible'))\n",
    "ed_folder_list[:5], len(ed_folder_list)"
   ]
  },
  {
   "cell_type": "code",
   "execution_count": 42,
   "metadata": {},
   "outputs": [
    {
     "name": "stdout",
     "output_type": "stream",
     "text": [
      "item not removed from folder list\n"
     ]
    }
   ],
   "source": [
    "# Remove system/hidden files from the list so predictions aren't made on them\n",
    "try:\n",
    "    folder_list.remove('.DS_Store')\n",
    "    folder_list.remove('.ipynb_checkpoints')\n",
    "except:\n",
    "    print('item not removed from folder list')"
   ]
  },
  {
   "cell_type": "code",
   "execution_count": 43,
   "metadata": {
    "scrolled": false
   },
   "outputs": [
    {
     "data": {
      "text/plain": [
       "['agaricusarvensis2.jpg',\n",
       " 'agaricusaugustus2.jpg',\n",
       " 'armillariamellea2.jpg',\n",
       " 'boletusbadius2.jpg',\n",
       " 'boletusedulis2.jpg']"
      ]
     },
     "execution_count": 43,
     "metadata": {},
     "output_type": "execute_result"
    }
   ],
   "source": [
    "ed_folder_list[:5]"
   ]
  },
  {
   "cell_type": "code",
   "execution_count": 44,
   "metadata": {},
   "outputs": [],
   "source": [
    "# Generate Predictions on each test image in the edible folder\n",
    "ed_preds = []\n",
    "ed_proba = []\n",
    "counter=0\n",
    "for i in ed_folder_list[:]:\n",
    "     # Read each image from the testing - bad morels folder and generate/save predictions   \n",
    "    try:\n",
    "        img_path =(f'edible_classifier_images/test/edible/{i}')\n",
    "\n",
    "        img_pred = image.load_img(img_path,target_size=(img_height,image_width))\n",
    "        img_pred = image.img_to_array(img_pred)\n",
    "        img_pred = np.expand_dims(img_pred, axis = 0)\n",
    "        \n",
    "        ed_preds.append(int(model.predict_classes(img_pred)))\n",
    "        ed_proba.append(float(model.predict(img_pred)))\n",
    "        \n",
    "        counter += 1\n",
    "    # if there is an error assign a 3 to the error in the list so we can find it in EDA steps    \n",
    "    except:\n",
    "        print(f'error on {counter}')\n",
    "        ed_preds.append(3)\n",
    "        ed_proba.append(3)"
   ]
  },
  {
   "cell_type": "code",
   "execution_count": 45,
   "metadata": {
    "scrolled": false
   },
   "outputs": [
    {
     "data": {
      "text/plain": [
       "[0, 0, 0, 0, 1, 0, 0, 0, 1, 0]"
      ]
     },
     "execution_count": 45,
     "metadata": {},
     "output_type": "execute_result"
    }
   ],
   "source": [
    "ed_preds[:10]"
   ]
  },
  {
   "cell_type": "code",
   "execution_count": 46,
   "metadata": {},
   "outputs": [
    {
     "data": {
      "text/plain": [
       "[8.624308178395418e-34,\n",
       " 0.0015453427331522107,\n",
       " 0.0,\n",
       " 0.0,\n",
       " 1.0,\n",
       " 1.5046948728068049e-34,\n",
       " 0.0,\n",
       " 0.0,\n",
       " 1.0,\n",
       " 3.989882673866102e-31]"
      ]
     },
     "execution_count": 46,
     "metadata": {},
     "output_type": "execute_result"
    }
   ],
   "source": [
    "ed_proba[:10]"
   ]
  },
  {
   "cell_type": "markdown",
   "metadata": {},
   "source": [
    "    Convert predictions into a dataframe"
   ]
  },
  {
   "cell_type": "code",
   "execution_count": 47,
   "metadata": {
    "scrolled": false
   },
   "outputs": [
    {
     "data": {
      "text/html": [
       "<div>\n",
       "<style scoped>\n",
       "    .dataframe tbody tr th:only-of-type {\n",
       "        vertical-align: middle;\n",
       "    }\n",
       "\n",
       "    .dataframe tbody tr th {\n",
       "        vertical-align: top;\n",
       "    }\n",
       "\n",
       "    .dataframe thead th {\n",
       "        text-align: right;\n",
       "    }\n",
       "</style>\n",
       "<table border=\"1\" class=\"dataframe\">\n",
       "  <thead>\n",
       "    <tr style=\"text-align: right;\">\n",
       "      <th></th>\n",
       "      <th>predictions</th>\n",
       "    </tr>\n",
       "  </thead>\n",
       "  <tbody>\n",
       "    <tr>\n",
       "      <th>0</th>\n",
       "      <td>0</td>\n",
       "    </tr>\n",
       "    <tr>\n",
       "      <th>1</th>\n",
       "      <td>0</td>\n",
       "    </tr>\n",
       "    <tr>\n",
       "      <th>2</th>\n",
       "      <td>0</td>\n",
       "    </tr>\n",
       "    <tr>\n",
       "      <th>3</th>\n",
       "      <td>0</td>\n",
       "    </tr>\n",
       "    <tr>\n",
       "      <th>4</th>\n",
       "      <td>1</td>\n",
       "    </tr>\n",
       "  </tbody>\n",
       "</table>\n",
       "</div>"
      ],
      "text/plain": [
       "   predictions\n",
       "0            0\n",
       "1            0\n",
       "2            0\n",
       "3            0\n",
       "4            1"
      ]
     },
     "execution_count": 47,
     "metadata": {},
     "output_type": "execute_result"
    }
   ],
   "source": [
    "ed_predictions_df = pd.DataFrame(ed_preds, columns =[\"predictions\"])\n",
    "ed_predictions_df.head()"
   ]
  },
  {
   "cell_type": "code",
   "execution_count": 48,
   "metadata": {},
   "outputs": [
    {
     "data": {
      "text/html": [
       "<div>\n",
       "<style scoped>\n",
       "    .dataframe tbody tr th:only-of-type {\n",
       "        vertical-align: middle;\n",
       "    }\n",
       "\n",
       "    .dataframe tbody tr th {\n",
       "        vertical-align: top;\n",
       "    }\n",
       "\n",
       "    .dataframe thead th {\n",
       "        text-align: right;\n",
       "    }\n",
       "</style>\n",
       "<table border=\"1\" class=\"dataframe\">\n",
       "  <thead>\n",
       "    <tr style=\"text-align: right;\">\n",
       "      <th></th>\n",
       "      <th>predictions_proba</th>\n",
       "    </tr>\n",
       "  </thead>\n",
       "  <tbody>\n",
       "    <tr>\n",
       "      <th>0</th>\n",
       "      <td>8.624308e-34</td>\n",
       "    </tr>\n",
       "    <tr>\n",
       "      <th>1</th>\n",
       "      <td>1.545343e-03</td>\n",
       "    </tr>\n",
       "    <tr>\n",
       "      <th>2</th>\n",
       "      <td>0.000000e+00</td>\n",
       "    </tr>\n",
       "    <tr>\n",
       "      <th>3</th>\n",
       "      <td>0.000000e+00</td>\n",
       "    </tr>\n",
       "    <tr>\n",
       "      <th>4</th>\n",
       "      <td>1.000000e+00</td>\n",
       "    </tr>\n",
       "  </tbody>\n",
       "</table>\n",
       "</div>"
      ],
      "text/plain": [
       "   predictions_proba\n",
       "0       8.624308e-34\n",
       "1       1.545343e-03\n",
       "2       0.000000e+00\n",
       "3       0.000000e+00\n",
       "4       1.000000e+00"
      ]
     },
     "execution_count": 48,
     "metadata": {},
     "output_type": "execute_result"
    }
   ],
   "source": [
    "ed_predprobas_df = pd.DataFrame(ed_proba, columns =[\"predictions_proba\"])\n",
    "ed_predprobas_df.head()"
   ]
  },
  {
   "cell_type": "code",
   "execution_count": 49,
   "metadata": {},
   "outputs": [
    {
     "data": {
      "text/html": [
       "<div>\n",
       "<style scoped>\n",
       "    .dataframe tbody tr th:only-of-type {\n",
       "        vertical-align: middle;\n",
       "    }\n",
       "\n",
       "    .dataframe tbody tr th {\n",
       "        vertical-align: top;\n",
       "    }\n",
       "\n",
       "    .dataframe thead th {\n",
       "        text-align: right;\n",
       "    }\n",
       "</style>\n",
       "<table border=\"1\" class=\"dataframe\">\n",
       "  <thead>\n",
       "    <tr style=\"text-align: right;\">\n",
       "      <th></th>\n",
       "      <th>predictions</th>\n",
       "    </tr>\n",
       "  </thead>\n",
       "  <tbody>\n",
       "  </tbody>\n",
       "</table>\n",
       "</div>"
      ],
      "text/plain": [
       "Empty DataFrame\n",
       "Columns: [predictions]\n",
       "Index: []"
      ]
     },
     "execution_count": 49,
     "metadata": {},
     "output_type": "execute_result"
    }
   ],
   "source": [
    "# test to find if any results are 'unclassified'\n",
    "ed_predictions_df.loc[ed_predictions_df['predictions']==3]"
   ]
  },
  {
   "cell_type": "code",
   "execution_count": 50,
   "metadata": {},
   "outputs": [
    {
     "data": {
      "text/html": [
       "<div>\n",
       "<style scoped>\n",
       "    .dataframe tbody tr th:only-of-type {\n",
       "        vertical-align: middle;\n",
       "    }\n",
       "\n",
       "    .dataframe tbody tr th {\n",
       "        vertical-align: top;\n",
       "    }\n",
       "\n",
       "    .dataframe thead th {\n",
       "        text-align: right;\n",
       "    }\n",
       "</style>\n",
       "<table border=\"1\" class=\"dataframe\">\n",
       "  <thead>\n",
       "    <tr style=\"text-align: right;\">\n",
       "      <th></th>\n",
       "      <th>predictions_proba</th>\n",
       "    </tr>\n",
       "  </thead>\n",
       "  <tbody>\n",
       "  </tbody>\n",
       "</table>\n",
       "</div>"
      ],
      "text/plain": [
       "Empty DataFrame\n",
       "Columns: [predictions_proba]\n",
       "Index: []"
      ]
     },
     "execution_count": 50,
     "metadata": {},
     "output_type": "execute_result"
    }
   ],
   "source": [
    "ed_predprobas_df.loc[ed_predprobas_df[\"predictions_proba\"]==3]"
   ]
  },
  {
   "cell_type": "code",
   "execution_count": 51,
   "metadata": {},
   "outputs": [],
   "source": [
    "ed_file_name = pd.DataFrame(ed_folder_list, columns=['file_name'])"
   ]
  },
  {
   "cell_type": "markdown",
   "metadata": {},
   "source": [
    "    Combined file name, prediction , and predict proba data frames"
   ]
  },
  {
   "cell_type": "code",
   "execution_count": 52,
   "metadata": {},
   "outputs": [],
   "source": [
    "ed_predictions_df = pd.concat([ed_file_name,ed_predictions_df,ed_predprobas_df],axis=1)"
   ]
  },
  {
   "cell_type": "code",
   "execution_count": 53,
   "metadata": {},
   "outputs": [],
   "source": [
    "ed_predictions_df['actual_edible_type'] = 0\n",
    "ed_predictions_df['edible_type'] = 'edible'"
   ]
  },
  {
   "cell_type": "code",
   "execution_count": 54,
   "metadata": {},
   "outputs": [
    {
     "data": {
      "text/html": [
       "<div>\n",
       "<style scoped>\n",
       "    .dataframe tbody tr th:only-of-type {\n",
       "        vertical-align: middle;\n",
       "    }\n",
       "\n",
       "    .dataframe tbody tr th {\n",
       "        vertical-align: top;\n",
       "    }\n",
       "\n",
       "    .dataframe thead th {\n",
       "        text-align: right;\n",
       "    }\n",
       "</style>\n",
       "<table border=\"1\" class=\"dataframe\">\n",
       "  <thead>\n",
       "    <tr style=\"text-align: right;\">\n",
       "      <th></th>\n",
       "      <th>file_name</th>\n",
       "      <th>predictions</th>\n",
       "      <th>predictions_proba</th>\n",
       "      <th>actual_edible_type</th>\n",
       "      <th>edible_type</th>\n",
       "    </tr>\n",
       "  </thead>\n",
       "  <tbody>\n",
       "    <tr>\n",
       "      <th>0</th>\n",
       "      <td>agaricusarvensis2.jpg</td>\n",
       "      <td>0</td>\n",
       "      <td>8.624308e-34</td>\n",
       "      <td>0</td>\n",
       "      <td>edible</td>\n",
       "    </tr>\n",
       "    <tr>\n",
       "      <th>1</th>\n",
       "      <td>agaricusaugustus2.jpg</td>\n",
       "      <td>0</td>\n",
       "      <td>1.545343e-03</td>\n",
       "      <td>0</td>\n",
       "      <td>edible</td>\n",
       "    </tr>\n",
       "    <tr>\n",
       "      <th>2</th>\n",
       "      <td>armillariamellea2.jpg</td>\n",
       "      <td>0</td>\n",
       "      <td>0.000000e+00</td>\n",
       "      <td>0</td>\n",
       "      <td>edible</td>\n",
       "    </tr>\n",
       "    <tr>\n",
       "      <th>3</th>\n",
       "      <td>boletusbadius2.jpg</td>\n",
       "      <td>0</td>\n",
       "      <td>0.000000e+00</td>\n",
       "      <td>0</td>\n",
       "      <td>edible</td>\n",
       "    </tr>\n",
       "    <tr>\n",
       "      <th>4</th>\n",
       "      <td>boletusedulis2.jpg</td>\n",
       "      <td>1</td>\n",
       "      <td>1.000000e+00</td>\n",
       "      <td>0</td>\n",
       "      <td>edible</td>\n",
       "    </tr>\n",
       "  </tbody>\n",
       "</table>\n",
       "</div>"
      ],
      "text/plain": [
       "               file_name  predictions  predictions_proba  actual_edible_type  \\\n",
       "0  agaricusarvensis2.jpg            0       8.624308e-34                   0   \n",
       "1  agaricusaugustus2.jpg            0       1.545343e-03                   0   \n",
       "2  armillariamellea2.jpg            0       0.000000e+00                   0   \n",
       "3     boletusbadius2.jpg            0       0.000000e+00                   0   \n",
       "4     boletusedulis2.jpg            1       1.000000e+00                   0   \n",
       "\n",
       "  edible_type  \n",
       "0      edible  \n",
       "1      edible  \n",
       "2      edible  \n",
       "3      edible  \n",
       "4      edible  "
      ]
     },
     "execution_count": 54,
     "metadata": {},
     "output_type": "execute_result"
    }
   ],
   "source": [
    "ed_predictions_df.head()"
   ]
  },
  {
   "cell_type": "markdown",
   "metadata": {},
   "source": [
    "    Merge Data frames and export to CSV"
   ]
  },
  {
   "cell_type": "code",
   "execution_count": 55,
   "metadata": {},
   "outputs": [],
   "source": [
    "final_df = pd.concat([ed_predictions_df,ined_predictions_df])"
   ]
  },
  {
   "cell_type": "code",
   "execution_count": 56,
   "metadata": {},
   "outputs": [
    {
     "data": {
      "text/plain": [
       "1    79\n",
       "0    56\n",
       "Name: actual_edible_type, dtype: int64"
      ]
     },
     "execution_count": 56,
     "metadata": {},
     "output_type": "execute_result"
    }
   ],
   "source": [
    "final_df['actual_edible_type'].value_counts()"
   ]
  },
  {
   "cell_type": "code",
   "execution_count": 57,
   "metadata": {},
   "outputs": [
    {
     "data": {
      "text/plain": [
       "1    78\n",
       "0    57\n",
       "Name: predictions, dtype: int64"
      ]
     },
     "execution_count": 57,
     "metadata": {},
     "output_type": "execute_result"
    }
   ],
   "source": [
    "final_df['predictions'].value_counts()"
   ]
  },
  {
   "cell_type": "code",
   "execution_count": 58,
   "metadata": {},
   "outputs": [],
   "source": [
    "final_df.to_csv('CSVs/pred_edibile_or_not.csv', index=False)"
   ]
  }
 ],
 "metadata": {
  "kernelspec": {
   "display_name": "Python 3",
   "language": "python",
   "name": "python3"
  },
  "language_info": {
   "codemirror_mode": {
    "name": "ipython",
    "version": 3
   },
   "file_extension": ".py",
   "mimetype": "text/x-python",
   "name": "python",
   "nbconvert_exporter": "python",
   "pygments_lexer": "ipython3",
   "version": "3.6.10"
  }
 },
 "nbformat": 4,
 "nbformat_minor": 4
}
