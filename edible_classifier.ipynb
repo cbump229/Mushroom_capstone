{
 "cells": [
  {
   "cell_type": "code",
   "execution_count": 1,
   "metadata": {},
   "outputs": [],
   "source": [
    "# Notes from guest lecture\n",
    "# preprocess all images\n",
    "# augmentation training images only"
   ]
  },
  {
   "cell_type": "code",
   "execution_count": 2,
   "metadata": {},
   "outputs": [
    {
     "name": "stderr",
     "output_type": "stream",
     "text": [
      "Using TensorFlow backend.\n"
     ]
    }
   ],
   "source": [
    "from keras.preprocessing.image import ImageDataGenerator, DirectoryIterator\n",
    "from keras.models import Sequential\n",
    "from keras.layers import Conv2D, MaxPooling2D\n",
    "from keras.layers import Activation,Dropout,Flatten,Dense\n",
    "from keras import backend as K\n",
    "from keras import regularizers\n",
    "\n",
    "import numpy as np\n",
    "from keras.preprocessing import image\n",
    "import tensorflow.keras.metrics\n",
    "\n",
    "\n",
    "import matplotlib.pyplot as plt\n",
    "\n",
    "import pandas as pd\n",
    "import os\n",
    "import shutil\n",
    "import sys"
   ]
  },
  {
   "cell_type": "code",
   "execution_count": 3,
   "metadata": {},
   "outputs": [],
   "source": [
    "# Variables to feed down into modeling\n",
    "image_width,img_height = 81,81\n",
    "\n",
    "train_data_dir = 'edible_classifier_images/train'\n",
    "test_data_dir = 'edible_classifier_images/test'\n",
    "\n",
    "nb_train_samples = 200\n",
    "nb_test_samples = 20\n",
    "reg_num = 0.0001\n",
    "\n",
    "epochs = 30\n",
    "batch_size = 36 # Use powers of 2"
   ]
  },
  {
   "cell_type": "code",
   "execution_count": 4,
   "metadata": {},
   "outputs": [],
   "source": [
    "# tell Keras to find the proper placement of the RBG data in each image\n",
    "if K.image_data_format() =='channels_first':\n",
    "    input_shape = (3,image_width,img_height)\n",
    "else:\n",
    "    input_shape = (image_width,img_height,3)"
   ]
  },
  {
   "cell_type": "code",
   "execution_count": 5,
   "metadata": {},
   "outputs": [],
   "source": [
    "train_datagen = ImageDataGenerator(\n",
    "                            rescale= (1.0 /255),\n",
    "                            shear_range =0.2,\n",
    "                            zoom_range =0.2,\n",
    "                            horizontal_flip = True,\n",
    "                            vertical_flip= True\n",
    "                                    )"
   ]
  },
  {
   "cell_type": "code",
   "execution_count": 6,
   "metadata": {},
   "outputs": [],
   "source": [
    "test_datagen = ImageDataGenerator( rescale= 1.0/255)"
   ]
  },
  {
   "cell_type": "code",
   "execution_count": 7,
   "metadata": {},
   "outputs": [
    {
     "name": "stdout",
     "output_type": "stream",
     "text": [
      "Found 475 images belonging to 2 classes.\n"
     ]
    }
   ],
   "source": [
    "train_generator = train_datagen.flow_from_directory(\n",
    "                                                    train_data_dir,\n",
    "                                                    target_size=(image_width,img_height),\n",
    "                                                    batch_size=batch_size,\n",
    "                                                    class_mode = 'binary'\n",
    "                                                    )"
   ]
  },
  {
   "cell_type": "code",
   "execution_count": 8,
   "metadata": {},
   "outputs": [
    {
     "name": "stdout",
     "output_type": "stream",
     "text": [
      "Found 152 images belonging to 2 classes.\n"
     ]
    }
   ],
   "source": [
    "test_generator = test_datagen.flow_from_directory(\n",
    "                                                test_data_dir,\n",
    "                                                target_size=(image_width,img_height),\n",
    "                                                batch_size=batch_size,\n",
    "                                                class_mode='binary'\n",
    "                                                    )"
   ]
  },
  {
   "cell_type": "code",
   "execution_count": 9,
   "metadata": {},
   "outputs": [],
   "source": [
    "model = Sequential()"
   ]
  },
  {
   "cell_type": "code",
   "execution_count": 10,
   "metadata": {},
   "outputs": [],
   "source": [
    "# First layer - input image\n",
    "model.add(Conv2D(256,\n",
    "                 kernel_size= (2,2), \n",
    "                 input_shape=input_shape, \n",
    "                 activation='relu',\n",
    "                ))\n",
    "model.add(MaxPooling2D(pool_size=(2,2)))"
   ]
  },
  {
   "cell_type": "code",
   "execution_count": 11,
   "metadata": {},
   "outputs": [],
   "source": [
    "# 2nd layer\n",
    "model.add(Conv2D(81,\n",
    "                 kernel_size=(2,2),\n",
    "                 activation='relu',\n",
    "                ))\n",
    "\n",
    "model.add(MaxPooling2D(pool_size=(2,2)))\n",
    "model.add(Dropout(0.25))"
   ]
  },
  {
   "cell_type": "code",
   "execution_count": 12,
   "metadata": {},
   "outputs": [],
   "source": [
    "#3rd Layer\n",
    "model.add(Conv2D(81,\n",
    "                 kernel_size=(2,2),\n",
    "                 activation='relu',\n",
    "                ))\n",
    "\n",
    "model.add(MaxPooling2D(pool_size=(2,2)))"
   ]
  },
  {
   "cell_type": "code",
   "execution_count": 13,
   "metadata": {},
   "outputs": [],
   "source": [
    "# flatten\n",
    "model.add(Flatten(input_shape=input_shape))"
   ]
  },
  {
   "cell_type": "code",
   "execution_count": 14,
   "metadata": {},
   "outputs": [],
   "source": [
    "# 1st Dense\n",
    "model.add(Dense(32, \n",
    "                activation='relu',\n",
    "               ))"
   ]
  },
  {
   "cell_type": "code",
   "execution_count": 15,
   "metadata": {},
   "outputs": [],
   "source": [
    "# 2nd Dense\n",
    "model.add(Dense(32, \n",
    "                activation='relu',\n",
    "               ))\n"
   ]
  },
  {
   "cell_type": "code",
   "execution_count": 16,
   "metadata": {},
   "outputs": [],
   "source": [
    "# final output layer\n",
    "model.add(Dense(1, activation = 'sigmoid'))"
   ]
  },
  {
   "cell_type": "code",
   "execution_count": 17,
   "metadata": {},
   "outputs": [],
   "source": [
    "model.compile( \n",
    "    loss = 'binary_crossentropy',\n",
    "    optimizer='adam',\n",
    "    metrics=['acc']\n",
    "                )"
   ]
  },
  {
   "cell_type": "code",
   "execution_count": 18,
   "metadata": {
    "scrolled": true
   },
   "outputs": [
    {
     "name": "stdout",
     "output_type": "stream",
     "text": [
      "Epoch 1/30\n",
      "5/5 [==============================] - 15s 3s/step - loss: 0.7010 - acc: 0.4722 - val_loss: 0.6699 - val_acc: 0.5724\n",
      "Epoch 2/30\n",
      "5/5 [==============================] - 12s 2s/step - loss: 0.6972 - acc: 0.5166 - val_loss: 0.6832 - val_acc: 0.5724\n",
      "Epoch 3/30\n",
      "5/5 [==============================] - 12s 2s/step - loss: 0.6796 - acc: 0.6000 - val_loss: 0.6746 - val_acc: 0.5724\n",
      "Epoch 4/30\n",
      "5/5 [==============================] - 11s 2s/step - loss: 0.6800 - acc: 0.5833 - val_loss: 0.6965 - val_acc: 0.5724\n",
      "Epoch 5/30\n",
      "5/5 [==============================] - 9s 2s/step - loss: 0.7125 - acc: 0.5232 - val_loss: 0.6853 - val_acc: 0.5724\n",
      "Epoch 6/30\n",
      "5/5 [==============================] - 11s 2s/step - loss: 0.6879 - acc: 0.5778 - val_loss: 0.6978 - val_acc: 0.5724\n",
      "Epoch 7/30\n",
      "5/5 [==============================] - 10s 2s/step - loss: 0.6887 - acc: 0.5629 - val_loss: 0.6590 - val_acc: 0.5724\n",
      "Epoch 8/30\n",
      "5/5 [==============================] - 11s 2s/step - loss: 0.6902 - acc: 0.5278 - val_loss: 0.7113 - val_acc: 0.5724\n",
      "Epoch 9/30\n",
      "5/5 [==============================] - 11s 2s/step - loss: 0.6911 - acc: 0.5333 - val_loss: 0.6912 - val_acc: 0.5724\n",
      "Epoch 10/30\n",
      "5/5 [==============================] - 13s 3s/step - loss: 0.6900 - acc: 0.5444 - val_loss: 0.6978 - val_acc: 0.5724\n",
      "Epoch 11/30\n",
      "5/5 [==============================] - 12s 2s/step - loss: 0.6785 - acc: 0.6000 - val_loss: 0.6743 - val_acc: 0.5724\n",
      "Epoch 12/30\n",
      "5/5 [==============================] - 12s 2s/step - loss: 0.6869 - acc: 0.5430 - val_loss: 0.6734 - val_acc: 0.5724\n",
      "Epoch 13/30\n",
      "5/5 [==============================] - 11s 2s/step - loss: 0.6900 - acc: 0.5298 - val_loss: 0.7263 - val_acc: 0.5855\n",
      "Epoch 14/30\n",
      "5/5 [==============================] - 11s 2s/step - loss: 0.6818 - acc: 0.5667 - val_loss: 0.6517 - val_acc: 0.5724\n",
      "Epoch 15/30\n",
      "5/5 [==============================] - 12s 2s/step - loss: 0.6939 - acc: 0.5500 - val_loss: 0.7106 - val_acc: 0.5724\n",
      "Epoch 16/30\n",
      "5/5 [==============================] - 11s 2s/step - loss: 0.6843 - acc: 0.5556 - val_loss: 0.6797 - val_acc: 0.5987\n",
      "Epoch 17/30\n",
      "5/5 [==============================] - 11s 2s/step - loss: 0.6845 - acc: 0.6093 - val_loss: 0.6778 - val_acc: 0.6184\n",
      "Epoch 18/30\n",
      "5/5 [==============================] - 11s 2s/step - loss: 0.6836 - acc: 0.5894 - val_loss: 0.5998 - val_acc: 0.5724\n",
      "Epoch 19/30\n",
      "5/5 [==============================] - 11s 2s/step - loss: 0.6815 - acc: 0.5667 - val_loss: 0.7054 - val_acc: 0.5724\n",
      "Epoch 20/30\n",
      "5/5 [==============================] - 9s 2s/step - loss: 0.6935 - acc: 0.5364 - val_loss: 0.7059 - val_acc: 0.6184\n",
      "Epoch 21/30\n",
      "5/5 [==============================] - 11s 2s/step - loss: 0.6797 - acc: 0.6000 - val_loss: 0.6904 - val_acc: 0.5395\n",
      "Epoch 22/30\n",
      "5/5 [==============================] - 10s 2s/step - loss: 0.6767 - acc: 0.5944 - val_loss: 0.7451 - val_acc: 0.6184\n",
      "Epoch 23/30\n",
      "5/5 [==============================] - 11s 2s/step - loss: 0.6924 - acc: 0.5556 - val_loss: 0.6478 - val_acc: 0.5855\n",
      "Epoch 24/30\n",
      "5/5 [==============================] - 11s 2s/step - loss: 0.7111 - acc: 0.4889 - val_loss: 0.6903 - val_acc: 0.6053\n",
      "Epoch 25/30\n",
      "5/5 [==============================] - 9s 2s/step - loss: 0.6803 - acc: 0.6278 - val_loss: 0.6909 - val_acc: 0.5724\n",
      "Epoch 26/30\n",
      "5/5 [==============================] - 10s 2s/step - loss: 0.6945 - acc: 0.5497 - val_loss: 0.6528 - val_acc: 0.5724\n",
      "Epoch 27/30\n",
      "5/5 [==============================] - 11s 2s/step - loss: 0.6920 - acc: 0.5222 - val_loss: 0.7082 - val_acc: 0.5724\n",
      "Epoch 28/30\n",
      "5/5 [==============================] - 9s 2s/step - loss: 0.6778 - acc: 0.6093 - val_loss: 0.7004 - val_acc: 0.5724\n",
      "Epoch 29/30\n",
      "5/5 [==============================] - 11s 2s/step - loss: 0.6884 - acc: 0.5389 - val_loss: 0.6854 - val_acc: 0.6118\n",
      "Epoch 30/30\n",
      "5/5 [==============================] - 10s 2s/step - loss: 0.6817 - acc: 0.6111 - val_loss: 0.6708 - val_acc: 0.5921\n"
     ]
    }
   ],
   "source": [
    "history = model.fit_generator(\n",
    "            train_generator,\n",
    "            steps_per_epoch= nb_train_samples // batch_size,\n",
    "            epochs=epochs,\n",
    "            validation_data=test_generator,\n",
    "            validation_steps=nb_test_samples // batch_size,\n",
    "\n",
    ")\n",
    "\n",
    "model.save('history/edible_try.h5')"
   ]
  },
  {
   "cell_type": "code",
   "execution_count": 19,
   "metadata": {
    "scrolled": false
   },
   "outputs": [
    {
     "data": {
      "image/png": "[encoded data removed]",
      "text/plain": [
       "<Figure size 864x576 with 1 Axes>"
      ]
     },
     "metadata": {
      "needs_background": "light"
     },
     "output_type": "display_data"
    }
   ],
   "source": [
    "train_loss = history.history['loss']\n",
    "test_loss = history.history['val_loss']\n",
    "plt.figure(figsize=(12, 8))\n",
    "plt.plot(train_loss, label='Training loss', color='navy')\n",
    "plt.plot(test_loss, label='Testing loss', color='skyblue')\n",
    "plt.legend()\n",
    "plt.savefig('figures/edibile_loss.png');"
   ]
  },
  {
   "cell_type": "code",
   "execution_count": 20,
   "metadata": {},
   "outputs": [
    {
     "data": {
      "image/png": "[encoded data removed]",
      "text/plain": [
       "<Figure size 432x288 with 1 Axes>"
      ]
     },
     "metadata": {
      "needs_background": "light"
     },
     "output_type": "display_data"
    }
   ],
   "source": [
    "plt.plot(history.history['acc'], label='Train accuracy')\n",
    "plt.plot(history.history['val_acc'], label='Test accuracy')\n",
    "plt.legend()\n",
    "plt.savefig('figures/edibile_acc.png');"
   ]
  },
  {
   "cell_type": "markdown",
   "metadata": {},
   "source": [
    "# Test single image"
   ]
  },
  {
   "cell_type": "code",
   "execution_count": 183,
   "metadata": {},
   "outputs": [],
   "source": [
    "# img_pred = image.load_img('edible_classifier_images/test/agaricusarvensis/Agaricusarvensis2.JPG',target_size=(img_height,image_width))\n",
    "# img_pred = image.img_to_array(img_pred)\n",
    "# img_pred = np.expand_dims(img_pred, axis = 0)"
   ]
  },
  {
   "cell_type": "code",
   "execution_count": 184,
   "metadata": {},
   "outputs": [],
   "source": [
    "# result = model.predict_classes(img_pred)"
   ]
  },
  {
   "cell_type": "code",
   "execution_count": 185,
   "metadata": {},
   "outputs": [],
   "source": [
    "# print(result)"
   ]
  },
  {
   "cell_type": "code",
   "execution_count": 186,
   "metadata": {},
   "outputs": [],
   "source": [
    "# if result[0][0] == 1:\n",
    "#     prediction = 'inedible'\n",
    "# else:\n",
    "#     prediction = 'edible'\n",
    "    \n",
    "# print(prediction)"
   ]
  },
  {
   "cell_type": "markdown",
   "metadata": {},
   "source": [
    "# Predict classes on testing - Inedible -data"
   ]
  },
  {
   "cell_type": "code",
   "execution_count": 187,
   "metadata": {
    "scrolled": true
   },
   "outputs": [
    {
     "data": {
      "text/plain": [
       "['albatrellusconfluens2.jpg',\n",
       " 'amanitaceciliae2.jpg',\n",
       " 'amanitafulva2.jpg',\n",
       " 'amanitamuscaria2.jpg',\n",
       " 'amanitapantherina2.jpg']"
      ]
     },
     "execution_count": 187,
     "metadata": {},
     "output_type": "execute_result"
    }
   ],
   "source": [
    "#Create list for each image to be predicted on\n",
    "ined_folder_list = sorted(os.listdir('edible_classifier_images/test/inedible'))\n",
    "ined_folder_list[:5]"
   ]
  },
  {
   "cell_type": "code",
   "execution_count": 188,
   "metadata": {},
   "outputs": [
    {
     "name": "stdout",
     "output_type": "stream",
     "text": [
      "file didnt exist\n"
     ]
    }
   ],
   "source": [
    "# Remove system/hidden files from the list so predictions aren't made on them\n",
    "try:\n",
    "    folder_list.remove('.DS_Store')\n",
    "    folder_list.remove('.ipynb_checkpoints')\n",
    "except:\n",
    "    print('item not removed from folder list')"
   ]
  },
  {
   "cell_type": "code",
   "execution_count": 189,
   "metadata": {
    "scrolled": false
   },
   "outputs": [
    {
     "data": {
      "text/plain": [
       "['albatrellusconfluens2.jpg',\n",
       " 'amanitaceciliae2.jpg',\n",
       " 'amanitafulva2.jpg',\n",
       " 'amanitamuscaria2.jpg',\n",
       " 'amanitapantherina2.jpg']"
      ]
     },
     "execution_count": 189,
     "metadata": {},
     "output_type": "execute_result"
    }
   ],
   "source": [
    "ined_folder_list[:5]"
   ]
  },
  {
   "cell_type": "code",
   "execution_count": 190,
   "metadata": {},
   "outputs": [],
   "source": [
    "# Generate Predictions on each test image in the inedible folder\n",
    "ined_preds = []\n",
    "counter=0\n",
    "for i in ined_folder_list[:]:\n",
    "     # Read each image from the testing - bad morels folder and generate/save predictions   \n",
    "    try:\n",
    "        img_path =(f'edible_classifier_images/test/inedible/{i}')\n",
    "\n",
    "        img_pred = image.load_img(img_path,target_size=(img_height,image_width))\n",
    "        img_pred = image.img_to_array(img_pred)\n",
    "        img_pred = np.expand_dims(img_pred, axis = 0)\n",
    "        result = model.predict_classes(img_pred)\n",
    "        \n",
    "        ined_preds.append(result)\n",
    "        \n",
    "        counter += 1\n",
    "    # if there is an error assign a 3 to the error in the list so we can find it in EDA steps    \n",
    "    except:\n",
    "        print(f'error on {counter}')\n",
    "        ined_preds.append(3)"
   ]
  },
  {
   "cell_type": "code",
   "execution_count": 191,
   "metadata": {},
   "outputs": [
    {
     "data": {
      "text/plain": [
       "[array([[0]], dtype=int32),\n",
       " array([[0]], dtype=int32),\n",
       " array([[0]], dtype=int32),\n",
       " array([[1]], dtype=int32),\n",
       " array([[1]], dtype=int32),\n",
       " array([[0]], dtype=int32),\n",
       " array([[0]], dtype=int32),\n",
       " array([[0]], dtype=int32),\n",
       " array([[1]], dtype=int32),\n",
       " array([[1]], dtype=int32)]"
      ]
     },
     "execution_count": 191,
     "metadata": {},
     "output_type": "execute_result"
    }
   ],
   "source": [
    "ined_preds[:10]"
   ]
  },
  {
   "cell_type": "code",
   "execution_count": 192,
   "metadata": {},
   "outputs": [],
   "source": [
    "# Filter out 0 and 1 predictions from the results\n",
    "ined_predictions=[]\n",
    "for i in ined_preds:\n",
    "    ined_predictions.append(int(i))\n",
    "    "
   ]
  },
  {
   "cell_type": "code",
   "execution_count": 194,
   "metadata": {},
   "outputs": [],
   "source": [
    "ined_predictions_df = pd.DataFrame(ined_predictions, columns =[\"predictions\"])\n",
    "ined_predictions_df.head()"
   ]
  },
  {
   "cell_type": "code",
   "execution_count": 196,
   "metadata": {},
   "outputs": [],
   "source": [
    "ined_file_name = pd.DataFrame(ined_folder_list, columns=['file_name'])"
   ]
  },
  {
   "cell_type": "code",
   "execution_count": 197,
   "metadata": {},
   "outputs": [
    {
     "data": {
      "text/html": [
       "<div>\n",
       "<style scoped>\n",
       "    .dataframe tbody tr th:only-of-type {\n",
       "        vertical-align: middle;\n",
       "    }\n",
       "\n",
       "    .dataframe tbody tr th {\n",
       "        vertical-align: top;\n",
       "    }\n",
       "\n",
       "    .dataframe thead th {\n",
       "        text-align: right;\n",
       "    }\n",
       "</style>\n",
       "<table border=\"1\" class=\"dataframe\">\n",
       "  <thead>\n",
       "    <tr style=\"text-align: right;\">\n",
       "      <th></th>\n",
       "      <th>predictions</th>\n",
       "    </tr>\n",
       "  </thead>\n",
       "  <tbody>\n",
       "  </tbody>\n",
       "</table>\n",
       "</div>"
      ],
      "text/plain": [
       "Empty DataFrame\n",
       "Columns: [predictions]\n",
       "Index: []"
      ]
     },
     "execution_count": 197,
     "metadata": {},
     "output_type": "execute_result"
    }
   ],
   "source": [
    "# test to find if any results are 'unclassified'\n",
    "ined_predictions_df.loc[ined_predictions_df['predictions']==3]"
   ]
  },
  {
   "cell_type": "code",
   "execution_count": 198,
   "metadata": {},
   "outputs": [],
   "source": [
    "ined_predictions_df = pd.concat([ined_file_name,ined_predictions_df],axis=1)"
   ]
  },
  {
   "cell_type": "code",
   "execution_count": 199,
   "metadata": {},
   "outputs": [],
   "source": [
    "ined_predictions_df['actual_edible_type'] = 1\n",
    "ined_predictions_df['edible_type'] = 'inedible'"
   ]
  },
  {
   "cell_type": "code",
   "execution_count": 200,
   "metadata": {
    "scrolled": true
   },
   "outputs": [
    {
     "data": {
      "text/html": [
       "<div>\n",
       "<style scoped>\n",
       "    .dataframe tbody tr th:only-of-type {\n",
       "        vertical-align: middle;\n",
       "    }\n",
       "\n",
       "    .dataframe tbody tr th {\n",
       "        vertical-align: top;\n",
       "    }\n",
       "\n",
       "    .dataframe thead th {\n",
       "        text-align: right;\n",
       "    }\n",
       "</style>\n",
       "<table border=\"1\" class=\"dataframe\">\n",
       "  <thead>\n",
       "    <tr style=\"text-align: right;\">\n",
       "      <th></th>\n",
       "      <th>file_name</th>\n",
       "      <th>predictions</th>\n",
       "      <th>actual_edible_type</th>\n",
       "      <th>edible_type</th>\n",
       "    </tr>\n",
       "  </thead>\n",
       "  <tbody>\n",
       "    <tr>\n",
       "      <th>0</th>\n",
       "      <td>albatrellusconfluens2.jpg</td>\n",
       "      <td>0</td>\n",
       "      <td>1</td>\n",
       "      <td>inedible</td>\n",
       "    </tr>\n",
       "    <tr>\n",
       "      <th>1</th>\n",
       "      <td>amanitaceciliae2.jpg</td>\n",
       "      <td>0</td>\n",
       "      <td>1</td>\n",
       "      <td>inedible</td>\n",
       "    </tr>\n",
       "    <tr>\n",
       "      <th>2</th>\n",
       "      <td>amanitafulva2.jpg</td>\n",
       "      <td>0</td>\n",
       "      <td>1</td>\n",
       "      <td>inedible</td>\n",
       "    </tr>\n",
       "    <tr>\n",
       "      <th>3</th>\n",
       "      <td>amanitamuscaria2.jpg</td>\n",
       "      <td>1</td>\n",
       "      <td>1</td>\n",
       "      <td>inedible</td>\n",
       "    </tr>\n",
       "    <tr>\n",
       "      <th>4</th>\n",
       "      <td>amanitapantherina2.jpg</td>\n",
       "      <td>1</td>\n",
       "      <td>1</td>\n",
       "      <td>inedible</td>\n",
       "    </tr>\n",
       "  </tbody>\n",
       "</table>\n",
       "</div>"
      ],
      "text/plain": [
       "                   file_name  predictions  actual_edible_type edible_type\n",
       "0  albatrellusconfluens2.jpg            0                   1    inedible\n",
       "1       amanitaceciliae2.jpg            0                   1    inedible\n",
       "2          amanitafulva2.jpg            0                   1    inedible\n",
       "3       amanitamuscaria2.jpg            1                   1    inedible\n",
       "4     amanitapantherina2.jpg            1                   1    inedible"
      ]
     },
     "execution_count": 200,
     "metadata": {},
     "output_type": "execute_result"
    }
   ],
   "source": [
    "ined_predictions_df.head()"
   ]
  },
  {
   "cell_type": "markdown",
   "metadata": {},
   "source": [
    "# Predict classes on testing - Inedible -data"
   ]
  },
  {
   "cell_type": "code",
   "execution_count": 202,
   "metadata": {
    "scrolled": false
   },
   "outputs": [
    {
     "data": {
      "text/plain": [
       "(['agaricusarvensis2.jpg',\n",
       "  'agaricusaugustus2.jpg',\n",
       "  'albatrellusovinus2.jpg',\n",
       "  'armillariamellea2.jpg',\n",
       "  'boletusbadius2.jpg'],\n",
       " 65)"
      ]
     },
     "execution_count": 202,
     "metadata": {},
     "output_type": "execute_result"
    }
   ],
   "source": [
    "#Create list for each image to be predicted on\n",
    "ed_folder_list = sorted(os.listdir('edible_classifier_images/test/edible'))\n",
    "ed_folder_list[:5], len(ed_folder_list)"
   ]
  },
  {
   "cell_type": "code",
   "execution_count": 203,
   "metadata": {},
   "outputs": [
    {
     "name": "stdout",
     "output_type": "stream",
     "text": [
      "file didnt exist\n"
     ]
    }
   ],
   "source": [
    "# Remove system/hidden files from the list so predictions aren't made on them\n",
    "try:\n",
    "    folder_list.remove('.DS_Store')\n",
    "    folder_list.remove('.ipynb_checkpoints')\n",
    "except:\n",
    "    print('item not removed from folder list')"
   ]
  },
  {
   "cell_type": "code",
   "execution_count": 204,
   "metadata": {
    "scrolled": false
   },
   "outputs": [
    {
     "data": {
      "text/plain": [
       "['agaricusarvensis2.jpg',\n",
       " 'agaricusaugustus2.jpg',\n",
       " 'albatrellusovinus2.jpg',\n",
       " 'armillariamellea2.jpg',\n",
       " 'boletusbadius2.jpg']"
      ]
     },
     "execution_count": 204,
     "metadata": {},
     "output_type": "execute_result"
    }
   ],
   "source": [
    "ed_folder_list[:5]"
   ]
  },
  {
   "cell_type": "code",
   "execution_count": 205,
   "metadata": {},
   "outputs": [],
   "source": [
    "# Generate Predictions on each test image in the edible folder\n",
    "ed_preds = []\n",
    "counter=0\n",
    "for i in ed_folder_list[:]:\n",
    "     # Read each image from the testing - bad morels folder and generate/save predictions   \n",
    "    try:\n",
    "        img_path =(f'edible_classifier_images/test/edible/{i}')\n",
    "\n",
    "        img_pred = image.load_img(img_path,target_size=(img_height,image_width))\n",
    "        img_pred = image.img_to_array(img_pred)\n",
    "        img_pred = np.expand_dims(img_pred, axis = 0)\n",
    "        result = model.predict_classes(img_pred)\n",
    "        \n",
    "        ed_preds.append(result)\n",
    "        \n",
    "        counter += 1\n",
    "    # if there is an error assign a 3 to the error in the list so we can find it in EDA steps    \n",
    "    except:\n",
    "        print(f'error on {counter}')\n",
    "        ed_preds.append(3)"
   ]
  },
  {
   "cell_type": "code",
   "execution_count": 206,
   "metadata": {
    "scrolled": false
   },
   "outputs": [
    {
     "data": {
      "text/plain": [
       "[array([[0]], dtype=int32),\n",
       " array([[0]], dtype=int32),\n",
       " array([[0]], dtype=int32),\n",
       " array([[0]], dtype=int32),\n",
       " array([[0]], dtype=int32),\n",
       " array([[0]], dtype=int32),\n",
       " array([[0]], dtype=int32),\n",
       " array([[0]], dtype=int32),\n",
       " array([[0]], dtype=int32),\n",
       " array([[0]], dtype=int32)]"
      ]
     },
     "execution_count": 206,
     "metadata": {},
     "output_type": "execute_result"
    }
   ],
   "source": [
    "ed_preds[:10]"
   ]
  },
  {
   "cell_type": "code",
   "execution_count": 207,
   "metadata": {},
   "outputs": [],
   "source": [
    "# Filter out 0 and 1 predictions from the results\n",
    "ed_predictions=[]\n",
    "for i in ed_preds:\n",
    "    ed_predictions.append(int(i))\n",
    "    "
   ]
  },
  {
   "cell_type": "code",
   "execution_count": 209,
   "metadata": {},
   "outputs": [],
   "source": [
    "ed_predictions_df = pd.DataFrame(ed_predictions, columns =[\"predictions\"])\n",
    "ed_predictions_df.head()"
   ]
  },
  {
   "cell_type": "code",
   "execution_count": 212,
   "metadata": {},
   "outputs": [],
   "source": [
    "ed_file_name = pd.DataFrame(ed_folder_list, columns=['file_name'])"
   ]
  },
  {
   "cell_type": "code",
   "execution_count": 213,
   "metadata": {},
   "outputs": [
    {
     "data": {
      "text/html": [
       "<div>\n",
       "<style scoped>\n",
       "    .dataframe tbody tr th:only-of-type {\n",
       "        vertical-align: middle;\n",
       "    }\n",
       "\n",
       "    .dataframe tbody tr th {\n",
       "        vertical-align: top;\n",
       "    }\n",
       "\n",
       "    .dataframe thead th {\n",
       "        text-align: right;\n",
       "    }\n",
       "</style>\n",
       "<table border=\"1\" class=\"dataframe\">\n",
       "  <thead>\n",
       "    <tr style=\"text-align: right;\">\n",
       "      <th></th>\n",
       "      <th>predictions</th>\n",
       "    </tr>\n",
       "  </thead>\n",
       "  <tbody>\n",
       "  </tbody>\n",
       "</table>\n",
       "</div>"
      ],
      "text/plain": [
       "Empty DataFrame\n",
       "Columns: [predictions]\n",
       "Index: []"
      ]
     },
     "execution_count": 213,
     "metadata": {},
     "output_type": "execute_result"
    }
   ],
   "source": [
    "# test to find if any results are 'unclassified'\n",
    "ed_predictions_df.loc[ed_predictions_df['predictions']==3]"
   ]
  },
  {
   "cell_type": "code",
   "execution_count": 214,
   "metadata": {},
   "outputs": [],
   "source": [
    "ed_predictions_df = pd.concat([ed_file_name,ed_predictions_df],axis=1)"
   ]
  },
  {
   "cell_type": "code",
   "execution_count": 215,
   "metadata": {},
   "outputs": [],
   "source": [
    "ed_predictions_df['actual_edible_type'] = 0\n",
    "ed_predictions_df['edible_type'] = 'edible'"
   ]
  },
  {
   "cell_type": "code",
   "execution_count": 216,
   "metadata": {},
   "outputs": [
    {
     "data": {
      "text/html": [
       "<div>\n",
       "<style scoped>\n",
       "    .dataframe tbody tr th:only-of-type {\n",
       "        vertical-align: middle;\n",
       "    }\n",
       "\n",
       "    .dataframe tbody tr th {\n",
       "        vertical-align: top;\n",
       "    }\n",
       "\n",
       "    .dataframe thead th {\n",
       "        text-align: right;\n",
       "    }\n",
       "</style>\n",
       "<table border=\"1\" class=\"dataframe\">\n",
       "  <thead>\n",
       "    <tr style=\"text-align: right;\">\n",
       "      <th></th>\n",
       "      <th>file_name</th>\n",
       "      <th>predictions</th>\n",
       "      <th>actual_edible_type</th>\n",
       "    </tr>\n",
       "  </thead>\n",
       "  <tbody>\n",
       "    <tr>\n",
       "      <th>0</th>\n",
       "      <td>agaricusarvensis2.jpg</td>\n",
       "      <td>0</td>\n",
       "      <td>0</td>\n",
       "    </tr>\n",
       "    <tr>\n",
       "      <th>1</th>\n",
       "      <td>agaricusaugustus2.jpg</td>\n",
       "      <td>0</td>\n",
       "      <td>0</td>\n",
       "    </tr>\n",
       "    <tr>\n",
       "      <th>2</th>\n",
       "      <td>albatrellusovinus2.jpg</td>\n",
       "      <td>0</td>\n",
       "      <td>0</td>\n",
       "    </tr>\n",
       "    <tr>\n",
       "      <th>3</th>\n",
       "      <td>armillariamellea2.jpg</td>\n",
       "      <td>0</td>\n",
       "      <td>0</td>\n",
       "    </tr>\n",
       "    <tr>\n",
       "      <th>4</th>\n",
       "      <td>boletusbadius2.jpg</td>\n",
       "      <td>0</td>\n",
       "      <td>0</td>\n",
       "    </tr>\n",
       "  </tbody>\n",
       "</table>\n",
       "</div>"
      ],
      "text/plain": [
       "                file_name  predictions  actual_edible_type\n",
       "0   agaricusarvensis2.jpg            0                   0\n",
       "1   agaricusaugustus2.jpg            0                   0\n",
       "2  albatrellusovinus2.jpg            0                   0\n",
       "3   armillariamellea2.jpg            0                   0\n",
       "4      boletusbadius2.jpg            0                   0"
      ]
     },
     "execution_count": 216,
     "metadata": {},
     "output_type": "execute_result"
    }
   ],
   "source": [
    "ed_predictions_df.head()"
   ]
  },
  {
   "cell_type": "code",
   "execution_count": 217,
   "metadata": {},
   "outputs": [
    {
     "data": {
      "text/plain": [
       "(65, 3)"
      ]
     },
     "execution_count": 217,
     "metadata": {},
     "output_type": "execute_result"
    }
   ],
   "source": [
    "ed_predictions_df.shape"
   ]
  },
  {
   "cell_type": "markdown",
   "metadata": {},
   "source": [
    "# Merge DFs"
   ]
  },
  {
   "cell_type": "code",
   "execution_count": 218,
   "metadata": {},
   "outputs": [],
   "source": [
    "final_df = pd.concat([ed_predictions_df,ined_predictions_df])"
   ]
  },
  {
   "cell_type": "code",
   "execution_count": 219,
   "metadata": {},
   "outputs": [
    {
     "data": {
      "text/plain": [
       "1    87\n",
       "0    65\n",
       "Name: actual_edible_type, dtype: int64"
      ]
     },
     "execution_count": 219,
     "metadata": {},
     "output_type": "execute_result"
    }
   ],
   "source": [
    "final_df['actual_edible_type'].value_counts()"
   ]
  },
  {
   "cell_type": "code",
   "execution_count": 220,
   "metadata": {},
   "outputs": [
    {
     "data": {
      "text/plain": [
       "1    79\n",
       "0    73\n",
       "Name: predictions, dtype: int64"
      ]
     },
     "execution_count": 220,
     "metadata": {},
     "output_type": "execute_result"
    }
   ],
   "source": [
    "final_df['predictions'].value_counts()"
   ]
  },
  {
   "cell_type": "code",
   "execution_count": 221,
   "metadata": {},
   "outputs": [],
   "source": [
    "final_df.to_csv('CSVs/pred_edibile_or_not.csv', index=False)"
   ]
  }
 ],
 "metadata": {
  "kernelspec": {
   "display_name": "Python 3",
   "language": "python",
   "name": "python3"
  },
  "language_info": {
   "codemirror_mode": {
    "name": "ipython",
    "version": 3
   },
   "file_extension": ".py",
   "mimetype": "text/x-python",
   "name": "python",
   "nbconvert_exporter": "python",
   "pygments_lexer": "ipython3",
   "version": "3.6.10"
  }
 },
 "nbformat": 4,
 "nbformat_minor": 4
}
