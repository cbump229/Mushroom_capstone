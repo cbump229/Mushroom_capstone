{
 "cells": [
  {
   "cell_type": "code",
   "execution_count": 2,
   "metadata": {},
   "outputs": [],
   "source": [
    "import requests\n",
    "import pandas as pd\n",
    "import numpy as np\n",
    "from bs4 import BeautifulSoup\n",
    "import re\n",
    "import os\n",
    "\n",
    "import time"
   ]
  },
  {
   "cell_type": "code",
   "execution_count": 3,
   "metadata": {},
   "outputs": [],
   "source": [
    "# This function will take in one website soup object and append a row to a dataframe\n",
    "# Containing a unique row for each mushroom\n",
    "\n",
    "def Compile_Mushrooms(one_mushroom_soup):\n",
    "    name = []\n",
    "    family = []\n",
    "    location = []\n",
    "    min_cap_cm = []\n",
    "    max_cap_cm = []\n",
    "    min_stem_hgt = []\n",
    "    max_stem_hgt = []\n",
    "    min_stem_diam = []\n",
    "    max_stem_diam = []\n",
    "    edibility = []\n",
    "    long_desc = []\n",
    "    \n",
    "\n",
    "    # Create Family Column Data in the list\n",
    "    family.append(one_mushroom_soup[0])\n",
    "    \n",
    "    # Create Location Column Data in the list\n",
    "    location.append(one_mushroom_soup[1])\n",
    "    \n",
    "    # Try to create dimension columns in the lists, some mushrooms don't have enough all dimensions\n",
    "    try:\n",
    "        min_cap_cm.append([float(s) for s in re.findall(r'(\\d+(?:\\.\\d+)?)',one_mushroom_soup[2])][0])\n",
    "    except:\n",
    "        pass\n",
    "    \n",
    "    try:\n",
    "        max_cap_cm.append([float(s) for s in re.findall(r'(\\d+(?:\\.\\d+)?)',one_mushroom_soup[2])][1])\n",
    "    except:\n",
    "        pass\n",
    "    \n",
    "    try:\n",
    "        min_stem_hgt.append([float(s) for s in re.findall(r'(\\d+(?:\\.\\d+)?)',one_mushroom_soup[2])][2])\n",
    "    except:\n",
    "        pass\n",
    "    \n",
    "    try:    \n",
    "        max_stem_hgt.append([float(s) for s in re.findall(r'(\\d+(?:\\.\\d+)?)',one_mushroom_soup[2])][3])\n",
    "    except:\n",
    "        pass\n",
    "    \n",
    "    try:   \n",
    "        min_stem_diam.append([float(s) for s in re.findall(r'(\\d+(?:\\.\\d+)?)',one_mushroom_soup[2])][4])\n",
    "    except:\n",
    "        pass\n",
    "    \n",
    "    try:\n",
    "        max_stem_diam.append([float(s) for s in re.findall(r'(\\d+(?:\\.\\d+)?)',one_mushroom_soup[2])][5])\n",
    "    except:\n",
    "        pass\n",
    "    \n",
    "\n",
    "\n",
    "    # Create edibility column data in the list\n",
    "    edibility.append(\n",
    "        one_mushroom_soup[3]\\\n",
    "        .replace(' (see important information about picking mushrooms)','')\n",
    "                    )\n",
    "    # Create long description column data in the list\n",
    "    long_desc.append(one_mushroom_soup[4])\n",
    "    \n",
    "    # Create name/species column data in the list\n",
    "    name.append(one_mushroom_soup[5])\n",
    "    \n",
    "    # use lists to generate rows in the dataframes\n",
    "    family_df   = pd.DataFrame(family,columns=[\"family\"])\n",
    "    location_df = pd.DataFrame(location, columns=[\"location\"])\n",
    "    min_cap_cm_df  = pd.DataFrame(min_cap_cm, columns=[\"min_cap_cm\"])\n",
    "    max_cap_cm_df  = pd.DataFrame(max_cap_cm, columns=[\"max_cap_cm\"])\n",
    "    min_stem_cm_df  = pd.DataFrame(min_stem_hgt, columns=[\"min_stem_hgt_cm\"])\n",
    "    max_stem_cm_df  = pd.DataFrame(max_stem_hgt, columns=[\"max_stem_hgt_cm\"])\n",
    "    min_stem_diam_df = pd.DataFrame(min_stem_diam, columns=[\"min_stem_diam_cm\"])\n",
    "    max_stem_diam_df = pd.DataFrame(max_stem_diam, columns=[\"max_stem_diam_cm\"])\n",
    "    edibility_df = pd.DataFrame(edibility, columns=[\"edibility\"])\n",
    "    long_desc_df = pd.DataFrame(long_desc, columns=[\"long_desc\"])\n",
    "    name_df = pd.DataFrame(name,columns=[\"name\"])\n",
    "    \n",
    "    #Smoosh all data frames togther starting with the family name\n",
    "    outout_df = family_df.join(location_df, lsuffix='_caller',rsuffix='_other')\n",
    "    outout_df = outout_df.join(min_cap_cm_df, lsuffix='_caller',rsuffix='_other')\n",
    "    outout_df = outout_df.join(max_cap_cm_df, lsuffix='_caller',rsuffix='_other')\n",
    "    outout_df = outout_df.join(min_stem_cm_df, lsuffix='_caller',rsuffix='_other')\n",
    "    outout_df = outout_df.join(max_stem_cm_df, lsuffix='_caller',rsuffix='_other')\n",
    "    outout_df = outout_df.join(min_stem_diam_df, lsuffix='_caller',rsuffix='_other')\n",
    "    outout_df = outout_df.join(max_stem_diam_df, lsuffix='_caller',rsuffix='_other')\n",
    "    outout_df = outout_df.join(edibility_df, lsuffix='_caller',rsuffix='_other')\n",
    "    outout_df = outout_df.join(long_desc_df, lsuffix='_caller',rsuffix='_other')    \n",
    "    outout_df = outout_df.join(name_df, lsuffix='_caller',rsuffix='_other') \n",
    "    \n",
    "    return outout_df"
   ]
  },
  {
   "cell_type": "code",
   "execution_count": 4,
   "metadata": {},
   "outputs": [],
   "source": [
    "#url for alphabetical list\n",
    "url = 'https://www.mushroom.world/mushrooms/namelist'"
   ]
  },
  {
   "cell_type": "code",
   "execution_count": 5,
   "metadata": {},
   "outputs": [],
   "source": [
    "res = requests.get(url)"
   ]
  },
  {
   "cell_type": "code",
   "execution_count": 6,
   "metadata": {},
   "outputs": [
    {
     "data": {
      "text/plain": [
       "200"
      ]
     },
     "execution_count": 6,
     "metadata": {},
     "output_type": "execute_result"
    }
   ],
   "source": [
    "res.status_code"
   ]
  },
  {
   "cell_type": "code",
   "execution_count": 7,
   "metadata": {},
   "outputs": [],
   "source": [
    "# this soup object will hold the data for the page with links to each mushroom\n",
    "soup = BeautifulSoup(res.content,'lxml')"
   ]
  },
  {
   "cell_type": "code",
   "execution_count": 8,
   "metadata": {},
   "outputs": [],
   "source": [
    "name_list = soup.find('div', {'class':'item'})"
   ]
  },
  {
   "cell_type": "code",
   "execution_count": 9,
   "metadata": {},
   "outputs": [],
   "source": [
    "# One link for each mushroom from the alphabetical Url\n",
    "link_list = []\n",
    "for item in soup.find_all('div', {'class':'item'}):\n",
    "    link_list.append(item.find('a').attrs['href'])"
   ]
  },
  {
   "cell_type": "code",
   "execution_count": 10,
   "metadata": {
    "scrolled": false
   },
   "outputs": [
    {
     "data": {
      "text/plain": [
       "['https://www.mushroom.world/show?n=Agaricus-arvensis',\n",
       " 'https://www.mushroom.world/show?n=Agaricus-augustus',\n",
       " 'https://www.mushroom.world/show?n=Albatrellus-confluens',\n",
       " 'https://www.mushroom.world/show?n=Albatrellus-ovinus',\n",
       " 'https://www.mushroom.world/show?n=Amanita-ceciliae',\n",
       " 'https://www.mushroom.world/show?n=Amanita-fulva',\n",
       " 'https://www.mushroom.world/show?n=Amanita-muscaria',\n",
       " 'https://www.mushroom.world/show?n=Amanita-pantherina',\n",
       " 'https://www.mushroom.world/show?n=Amanita-phalloides',\n",
       " 'https://www.mushroom.world/show?n=Amanita-porphyria']"
      ]
     },
     "execution_count": 10,
     "metadata": {},
     "output_type": "execute_result"
    }
   ],
   "source": [
    "link_list[0:10]"
   ]
  },
  {
   "cell_type": "code",
   "execution_count": 11,
   "metadata": {},
   "outputs": [],
   "source": [
    "# This will extract the genus and species from each link\n",
    "name_list = []\n",
    "for each_link in link_list:\n",
    "    name_list.append(\n",
    "        (re.search(r'(\\w*-\\w*)',each_link)).group().lower().replace(\"\"\"-\"\"\",\"\"\"_\"\"\")\n",
    "    )"
   ]
  },
  {
   "cell_type": "code",
   "execution_count": 12,
   "metadata": {},
   "outputs": [
    {
     "data": {
      "text/plain": [
       "['https://www.mushroom.world/show?n=Agaricus-arvensis',\n",
       " 'https://www.mushroom.world/show?n=Agaricus-augustus',\n",
       " 'https://www.mushroom.world/show?n=Albatrellus-confluens',\n",
       " 'https://www.mushroom.world/show?n=Albatrellus-ovinus',\n",
       " 'https://www.mushroom.world/show?n=Amanita-ceciliae']"
      ]
     },
     "execution_count": 12,
     "metadata": {},
     "output_type": "execute_result"
    }
   ],
   "source": [
    "link_list[:5]"
   ]
  },
  {
   "cell_type": "code",
   "execution_count": 13,
   "metadata": {},
   "outputs": [
    {
     "data": {
      "text/plain": [
       "['agaricus_arvensis',\n",
       " 'agaricus_augustus',\n",
       " 'albatrellus_confluens',\n",
       " 'albatrellus_ovinus',\n",
       " 'amanita_ceciliae']"
      ]
     },
     "execution_count": 13,
     "metadata": {},
     "output_type": "execute_result"
    }
   ],
   "source": [
    "name_list[:5]"
   ]
  },
  {
   "cell_type": "code",
   "execution_count": 14,
   "metadata": {
    "scrolled": false
   },
   "outputs": [
    {
     "data": {
      "text/plain": [
       "(139, 139)"
      ]
     },
     "execution_count": 14,
     "metadata": {},
     "output_type": "execute_result"
    }
   ],
   "source": [
    "# one species per hyperlink\n",
    "len(link_list), len(name_list)"
   ]
  },
  {
   "cell_type": "markdown",
   "metadata": {},
   "source": [
    "# make all the soups"
   ]
  },
  {
   "cell_type": "code",
   "execution_count": 15,
   "metadata": {},
   "outputs": [],
   "source": [
    "#Go to one link - read the webpage associated with the link make a list containing one soup object per page\n",
    "\n",
    "mushroom_soups = []\n",
    "for link in link_list:\n",
    "    item_res = requests.get(link)\n",
    "    item_soup = BeautifulSoup(item_res.content,'lxml')\n",
    "    mushroom_soups.append(item_soup)\n",
    "    time.sleep(5)"
   ]
  },
  {
   "cell_type": "markdown",
   "metadata": {},
   "source": [
    "# long description code"
   ]
  },
  {
   "cell_type": "code",
   "execution_count": 16,
   "metadata": {},
   "outputs": [],
   "source": [
    "names_df=pd.DataFrame(name_list, columns = ['mushroom_long_name'])"
   ]
  },
  {
   "cell_type": "code",
   "execution_count": 17,
   "metadata": {},
   "outputs": [
    {
     "data": {
      "text/html": [
       "<div>\n",
       "<style scoped>\n",
       "    .dataframe tbody tr th:only-of-type {\n",
       "        vertical-align: middle;\n",
       "    }\n",
       "\n",
       "    .dataframe tbody tr th {\n",
       "        vertical-align: top;\n",
       "    }\n",
       "\n",
       "    .dataframe thead th {\n",
       "        text-align: right;\n",
       "    }\n",
       "</style>\n",
       "<table border=\"1\" class=\"dataframe\">\n",
       "  <thead>\n",
       "    <tr style=\"text-align: right;\">\n",
       "      <th></th>\n",
       "      <th>mushroom_long_name</th>\n",
       "    </tr>\n",
       "  </thead>\n",
       "  <tbody>\n",
       "    <tr>\n",
       "      <th>0</th>\n",
       "      <td>agaricus_arvensis</td>\n",
       "    </tr>\n",
       "    <tr>\n",
       "      <th>1</th>\n",
       "      <td>agaricus_augustus</td>\n",
       "    </tr>\n",
       "    <tr>\n",
       "      <th>2</th>\n",
       "      <td>albatrellus_confluens</td>\n",
       "    </tr>\n",
       "    <tr>\n",
       "      <th>3</th>\n",
       "      <td>albatrellus_ovinus</td>\n",
       "    </tr>\n",
       "    <tr>\n",
       "      <th>4</th>\n",
       "      <td>amanita_ceciliae</td>\n",
       "    </tr>\n",
       "  </tbody>\n",
       "</table>\n",
       "</div>"
      ],
      "text/plain": [
       "      mushroom_long_name\n",
       "0      agaricus_arvensis\n",
       "1      agaricus_augustus\n",
       "2  albatrellus_confluens\n",
       "3     albatrellus_ovinus\n",
       "4       amanita_ceciliae"
      ]
     },
     "execution_count": 17,
     "metadata": {},
     "output_type": "execute_result"
    }
   ],
   "source": [
    "names_df.head()"
   ]
  },
  {
   "cell_type": "code",
   "execution_count": 18,
   "metadata": {
    "scrolled": true
   },
   "outputs": [
    {
     "data": {
      "text/plain": [
       "(139, 139)"
      ]
     },
     "execution_count": 18,
     "metadata": {},
     "output_type": "execute_result"
    }
   ],
   "source": [
    "len(names_df),len(mushroom_soups)"
   ]
  },
  {
   "cell_type": "code",
   "execution_count": 19,
   "metadata": {},
   "outputs": [],
   "source": [
    "# Use each soup object to read the specific website data in order to create a list for each individual mushroom.\n",
    "final_df = pd.DataFrame()\n",
    "\n",
    "num = 0\n",
    "while num < len(mushroom_soups):\n",
    "    try:\n",
    "        alltheshrooms = []\n",
    "        # Gets name of mushroom species\n",
    "        stringy = (mushroom_soups[num].find('div',{'class':'caption'}).text)\n",
    "        \n",
    "        # Gets 'dimensions'\n",
    "        for i in mushroom_soups[num].find_all('div',{'class':'textus'}):\n",
    "            alltheshrooms.append(i.text)\n",
    "        \n",
    "        # Gets long description\n",
    "        alltheshrooms.append(mushroom_soups[num].find('div',{'class':'longtextus'}).text)\n",
    "        alltheshrooms.append(\n",
    "            re.search(r'([^\\r\\n]+)',stringy).group().strip().lower()\n",
    "                            )\n",
    "        \n",
    "        final_df = pd.concat([final_df,Compile_Mushrooms(alltheshrooms)], ignore_index=True)\n",
    "    \n",
    "    # common exceptions occur when a mushroom does not have 3 dimensions\n",
    "    except IndexError:\n",
    "        error_shroom = []\n",
    "        stringy = (mushroom_soups[num].find('div',{'class':'caption'}).text)\n",
    "        error_shroom = re.search(r'([^\\r\\n]+)',stringy).group().strip().lower()\n",
    "        \n",
    "        final_df = pd.concat([final_df,pd.DataFrame([error_shroom ],columns=['name'])],ignore_index=True)\n",
    "        print(f\"Missing measurements/index error on line {num} - {error_shroom}\")\n",
    "    \n",
    "    except AttributeError:\n",
    "        print(f\"Missing name/attribute error on line {num}\")\n",
    "        \n",
    "    num+=1\n",
    "\n"
   ]
  },
  {
   "cell_type": "code",
   "execution_count": 20,
   "metadata": {},
   "outputs": [
    {
     "data": {
      "text/plain": [
       "['Boletaceae',\n",
       " 'North America, Europe',\n",
       " 'Cap 6-12 cm diamter, stem 7-10 cm tall * 2-3 cm diameter',\n",
       " 'Inedible',\n",
       " 'Slightly to distinctly pink pores on the underside of the bun-shaped brown cap and a dark net on the thick stem are characteristic of this bolete. It is also distinguished by a very bitter taste.\\r\\n\\nCap snuff- or fulvous-brown; convex or bun-shaped, at first slightly downy then smooth and dry. Flesh whitish, with pinkish tinge beneath cap cuticle, unchanging, thick and firm. Stem pallid background with brown reticulation, stout and slightly bulbous. The mushroom has no ring.\\r\\n\\nSimilar species When young this is easily mistaken for Boletus edulis, except that it is very bitter and has a dark stem net.\\r\\n\\nTylopilus felleus on the MushroomExpert.Com Web site.',\n",
       " 'tylopilus felleus']"
      ]
     },
     "execution_count": 20,
     "metadata": {},
     "output_type": "execute_result"
    }
   ],
   "source": [
    "alltheshrooms"
   ]
  },
  {
   "cell_type": "code",
   "execution_count": 21,
   "metadata": {
    "scrolled": true
   },
   "outputs": [
    {
     "data": {
      "text/plain": [
       "(139, 11)"
      ]
     },
     "execution_count": 21,
     "metadata": {},
     "output_type": "execute_result"
    }
   ],
   "source": [
    "final_df.shape"
   ]
  },
  {
   "cell_type": "code",
   "execution_count": 22,
   "metadata": {
    "scrolled": false
   },
   "outputs": [
    {
     "data": {
      "text/html": [
       "<div>\n",
       "<style scoped>\n",
       "    .dataframe tbody tr th:only-of-type {\n",
       "        vertical-align: middle;\n",
       "    }\n",
       "\n",
       "    .dataframe tbody tr th {\n",
       "        vertical-align: top;\n",
       "    }\n",
       "\n",
       "    .dataframe thead th {\n",
       "        text-align: right;\n",
       "    }\n",
       "</style>\n",
       "<table border=\"1\" class=\"dataframe\">\n",
       "  <thead>\n",
       "    <tr style=\"text-align: right;\">\n",
       "      <th></th>\n",
       "      <th>family</th>\n",
       "      <th>location</th>\n",
       "      <th>min_cap_cm</th>\n",
       "      <th>max_cap_cm</th>\n",
       "      <th>min_stem_hgt_cm</th>\n",
       "      <th>max_stem_hgt_cm</th>\n",
       "      <th>min_stem_diam_cm</th>\n",
       "      <th>max_stem_diam_cm</th>\n",
       "      <th>edibility</th>\n",
       "      <th>long_desc</th>\n",
       "      <th>name</th>\n",
       "    </tr>\n",
       "  </thead>\n",
       "  <tbody>\n",
       "    <tr>\n",
       "      <th>0</th>\n",
       "      <td>Agaricaceae</td>\n",
       "      <td>North America, Europe</td>\n",
       "      <td>8.0</td>\n",
       "      <td>20.0</td>\n",
       "      <td>8</td>\n",
       "      <td>10</td>\n",
       "      <td>2</td>\n",
       "      <td>3</td>\n",
       "      <td>Edible and good</td>\n",
       "      <td>Agaricus arvensis, commonly known as the horse...</td>\n",
       "      <td>agaricus arvensis</td>\n",
       "    </tr>\n",
       "    <tr>\n",
       "      <th>1</th>\n",
       "      <td>Agaricaceae</td>\n",
       "      <td>North America, Europe</td>\n",
       "      <td>10.0</td>\n",
       "      <td>20.0</td>\n",
       "      <td>10</td>\n",
       "      <td>20</td>\n",
       "      <td>2</td>\n",
       "      <td>4</td>\n",
       "      <td>Edible and good</td>\n",
       "      <td>Agaricus augustus, also known as the prince, i...</td>\n",
       "      <td>agaricus augustus</td>\n",
       "    </tr>\n",
       "    <tr>\n",
       "      <th>2</th>\n",
       "      <td>Polyporaceae</td>\n",
       "      <td>North America, Europe</td>\n",
       "      <td>7.0</td>\n",
       "      <td>18.0</td>\n",
       "      <td>3</td>\n",
       "      <td>7</td>\n",
       "      <td>1</td>\n",
       "      <td>3</td>\n",
       "      <td>Inedible</td>\n",
       "      <td>From above, this pale orange polypore looks li...</td>\n",
       "      <td>albatrellus confluens</td>\n",
       "    </tr>\n",
       "    <tr>\n",
       "      <th>3</th>\n",
       "      <td>Polyporaceae</td>\n",
       "      <td>North America, Europe</td>\n",
       "      <td>7.0</td>\n",
       "      <td>18.0</td>\n",
       "      <td>3</td>\n",
       "      <td>7</td>\n",
       "      <td>1</td>\n",
       "      <td>3</td>\n",
       "      <td>Edible</td>\n",
       "      <td>Albatrellus ovinus, also known as Sheep Polypo...</td>\n",
       "      <td>albatrellus ovinus</td>\n",
       "    </tr>\n",
       "    <tr>\n",
       "      <th>4</th>\n",
       "      <td>Pluteaceae</td>\n",
       "      <td>North America, Europe</td>\n",
       "      <td>7.0</td>\n",
       "      <td>12.0</td>\n",
       "      <td>8</td>\n",
       "      <td>13</td>\n",
       "      <td>1.5</td>\n",
       "      <td>2</td>\n",
       "      <td>Inedible</td>\n",
       "      <td>The cap of this  large, grayish brown, fleshy ...</td>\n",
       "      <td>amanita ceciliae</td>\n",
       "    </tr>\n",
       "  </tbody>\n",
       "</table>\n",
       "</div>"
      ],
      "text/plain": [
       "         family               location  min_cap_cm  max_cap_cm  \\\n",
       "0   Agaricaceae  North America, Europe         8.0        20.0   \n",
       "1   Agaricaceae  North America, Europe        10.0        20.0   \n",
       "2  Polyporaceae  North America, Europe         7.0        18.0   \n",
       "3  Polyporaceae  North America, Europe         7.0        18.0   \n",
       "4    Pluteaceae  North America, Europe         7.0        12.0   \n",
       "\n",
       "  min_stem_hgt_cm max_stem_hgt_cm min_stem_diam_cm max_stem_diam_cm  \\\n",
       "0               8              10                2                3   \n",
       "1              10              20                2                4   \n",
       "2               3               7                1                3   \n",
       "3               3               7                1                3   \n",
       "4               8              13              1.5                2   \n",
       "\n",
       "         edibility                                          long_desc  \\\n",
       "0  Edible and good  Agaricus arvensis, commonly known as the horse...   \n",
       "1  Edible and good  Agaricus augustus, also known as the prince, i...   \n",
       "2         Inedible  From above, this pale orange polypore looks li...   \n",
       "3           Edible  Albatrellus ovinus, also known as Sheep Polypo...   \n",
       "4         Inedible  The cap of this  large, grayish brown, fleshy ...   \n",
       "\n",
       "                    name  \n",
       "0      agaricus arvensis  \n",
       "1      agaricus augustus  \n",
       "2  albatrellus confluens  \n",
       "3     albatrellus ovinus  \n",
       "4       amanita ceciliae  "
      ]
     },
     "execution_count": 22,
     "metadata": {},
     "output_type": "execute_result"
    }
   ],
   "source": [
    "final_df.head(5)"
   ]
  },
  {
   "cell_type": "code",
   "execution_count": 23,
   "metadata": {
    "scrolled": true
   },
   "outputs": [
    {
     "data": {
      "text/html": [
       "<div>\n",
       "<style scoped>\n",
       "    .dataframe tbody tr th:only-of-type {\n",
       "        vertical-align: middle;\n",
       "    }\n",
       "\n",
       "    .dataframe tbody tr th {\n",
       "        vertical-align: top;\n",
       "    }\n",
       "\n",
       "    .dataframe thead th {\n",
       "        text-align: right;\n",
       "    }\n",
       "</style>\n",
       "<table border=\"1\" class=\"dataframe\">\n",
       "  <thead>\n",
       "    <tr style=\"text-align: right;\">\n",
       "      <th></th>\n",
       "      <th>family</th>\n",
       "      <th>location</th>\n",
       "      <th>min_cap_cm</th>\n",
       "      <th>max_cap_cm</th>\n",
       "      <th>min_stem_hgt_cm</th>\n",
       "      <th>max_stem_hgt_cm</th>\n",
       "      <th>min_stem_diam_cm</th>\n",
       "      <th>max_stem_diam_cm</th>\n",
       "      <th>edibility</th>\n",
       "      <th>long_desc</th>\n",
       "      <th>name</th>\n",
       "    </tr>\n",
       "  </thead>\n",
       "  <tbody>\n",
       "    <tr>\n",
       "      <th>134</th>\n",
       "      <td>Tricholomataceae</td>\n",
       "      <td>North America, Europe</td>\n",
       "      <td>4.0</td>\n",
       "      <td>10.0</td>\n",
       "      <td>NaN</td>\n",
       "      <td>NaN</td>\n",
       "      <td>NaN</td>\n",
       "      <td>NaN</td>\n",
       "      <td>Inedible</td>\n",
       "      <td>The green or brown cap of this agaric is moist...</td>\n",
       "      <td>tricholoma sejunctum</td>\n",
       "    </tr>\n",
       "    <tr>\n",
       "      <th>135</th>\n",
       "      <td>Tricholomataceae</td>\n",
       "      <td>North America, Europe</td>\n",
       "      <td>4.0</td>\n",
       "      <td>12.0</td>\n",
       "      <td>3.5</td>\n",
       "      <td>5.5</td>\n",
       "      <td>1</td>\n",
       "      <td>1.5</td>\n",
       "      <td>Inedible</td>\n",
       "      <td>This is a medium to large, fleshy agaric, cap ...</td>\n",
       "      <td>tricholomopsis decora</td>\n",
       "    </tr>\n",
       "    <tr>\n",
       "      <th>136</th>\n",
       "      <td>Tricholomataceae</td>\n",
       "      <td>North America, Europe</td>\n",
       "      <td>2.0</td>\n",
       "      <td>12.0</td>\n",
       "      <td>3.5</td>\n",
       "      <td>5.5</td>\n",
       "      <td>1</td>\n",
       "      <td>1.5</td>\n",
       "      <td>Inedible</td>\n",
       "      <td>This medium to large, fleshy agaric has a cap ...</td>\n",
       "      <td>tricholomopsis rutilans</td>\n",
       "    </tr>\n",
       "    <tr>\n",
       "      <th>137</th>\n",
       "      <td>Gomphaceae</td>\n",
       "      <td>North America, Asia</td>\n",
       "      <td>5.0</td>\n",
       "      <td>15.0</td>\n",
       "      <td>8</td>\n",
       "      <td>15</td>\n",
       "      <td>NaN</td>\n",
       "      <td>NaN</td>\n",
       "      <td>Inedible</td>\n",
       "      <td>This mushroom has an orange-capped vase- or tr...</td>\n",
       "      <td>turbinellus floccosus</td>\n",
       "    </tr>\n",
       "    <tr>\n",
       "      <th>138</th>\n",
       "      <td>Boletaceae</td>\n",
       "      <td>North America, Europe</td>\n",
       "      <td>6.0</td>\n",
       "      <td>12.0</td>\n",
       "      <td>7</td>\n",
       "      <td>10</td>\n",
       "      <td>2</td>\n",
       "      <td>3</td>\n",
       "      <td>Inedible</td>\n",
       "      <td>Slightly to distinctly pink pores on the under...</td>\n",
       "      <td>tylopilus felleus</td>\n",
       "    </tr>\n",
       "  </tbody>\n",
       "</table>\n",
       "</div>"
      ],
      "text/plain": [
       "               family               location  min_cap_cm  max_cap_cm  \\\n",
       "134  Tricholomataceae  North America, Europe         4.0        10.0   \n",
       "135  Tricholomataceae  North America, Europe         4.0        12.0   \n",
       "136  Tricholomataceae  North America, Europe         2.0        12.0   \n",
       "137        Gomphaceae    North America, Asia         5.0        15.0   \n",
       "138        Boletaceae  North America, Europe         6.0        12.0   \n",
       "\n",
       "    min_stem_hgt_cm max_stem_hgt_cm min_stem_diam_cm max_stem_diam_cm  \\\n",
       "134             NaN             NaN              NaN              NaN   \n",
       "135             3.5             5.5                1              1.5   \n",
       "136             3.5             5.5                1              1.5   \n",
       "137               8              15              NaN              NaN   \n",
       "138               7              10                2                3   \n",
       "\n",
       "    edibility                                          long_desc  \\\n",
       "134  Inedible  The green or brown cap of this agaric is moist...   \n",
       "135  Inedible  This is a medium to large, fleshy agaric, cap ...   \n",
       "136  Inedible  This medium to large, fleshy agaric has a cap ...   \n",
       "137  Inedible  This mushroom has an orange-capped vase- or tr...   \n",
       "138  Inedible  Slightly to distinctly pink pores on the under...   \n",
       "\n",
       "                        name  \n",
       "134     tricholoma sejunctum  \n",
       "135    tricholomopsis decora  \n",
       "136  tricholomopsis rutilans  \n",
       "137    turbinellus floccosus  \n",
       "138        tylopilus felleus  "
      ]
     },
     "execution_count": 23,
     "metadata": {},
     "output_type": "execute_result"
    }
   ],
   "source": [
    "final_df.tail(5)"
   ]
  },
  {
   "cell_type": "code",
   "execution_count": 24,
   "metadata": {},
   "outputs": [],
   "source": [
    "# Replace all spaces with underscore\n",
    "final_df.name = final_df['name'].apply(lambda x:\"_\".join(x.split()))"
   ]
  },
  {
   "cell_type": "code",
   "execution_count": 25,
   "metadata": {},
   "outputs": [],
   "source": [
    "names_df.to_csv('CSVs/names_only.csv', index=False)"
   ]
  },
  {
   "cell_type": "code",
   "execution_count": 26,
   "metadata": {},
   "outputs": [],
   "source": [
    "final_df.to_csv('CSVs/my_mushrooms.csv', index=False)"
   ]
  },
  {
   "cell_type": "markdown",
   "metadata": {},
   "source": [
    "# single image finding"
   ]
  },
  {
   "cell_type": "code",
   "execution_count": 27,
   "metadata": {},
   "outputs": [],
   "source": [
    "item_url = 'https://www.mushroom.world/show?n=Agaricus-arvensis'"
   ]
  },
  {
   "cell_type": "code",
   "execution_count": 28,
   "metadata": {},
   "outputs": [],
   "source": [
    "item_res = requests.get(item_url)"
   ]
  },
  {
   "cell_type": "code",
   "execution_count": 29,
   "metadata": {},
   "outputs": [
    {
     "data": {
      "text/plain": [
       "200"
      ]
     },
     "execution_count": 29,
     "metadata": {},
     "output_type": "execute_result"
    }
   ],
   "source": [
    "item_res.status_code"
   ]
  },
  {
   "cell_type": "code",
   "execution_count": 30,
   "metadata": {},
   "outputs": [],
   "source": [
    "item_soup = BeautifulSoup(item_res.content,'lxml')"
   ]
  },
  {
   "cell_type": "code",
   "execution_count": 31,
   "metadata": {
    "scrolled": true
   },
   "outputs": [
    {
     "data": {
      "text/plain": [
       "<!DOCTYPE html>\n",
       "<html>\n",
       "<head>\n",
       "<meta charset=\"utf-8\"/>\n",
       "<meta content=\"width=device-width, initial-scale=1.0\" name=\"viewport\"/>\n",
       "<meta content=\"CReYpkkP3rUFpFBcsfDcqgVzipFv861EiWBS9pWmZ04\" name=\"google-site-verification\"/>\n",
       "<title>Agaricus arvensis - Mushroom World</title>\n",
       "<link href=\"/Content/css?v=V76rujkPCSEs2ikOqH5TEGzc1v6VAtO8LZKvVflOKTE1\" rel=\"stylesheet\"/>\n",
       "<script src=\"/bundles/modernizr?v=wBEWDufH_8Md-Pbioxomt90vm6tJN2Pyy9u9zHtWsPo1\"></script>\n",
       "<!-- swipebox http://brutaldesign.github.io/swipebox/ -->\n",
       "<link href=\"/swipebox/src/css/swipebox.css\" rel=\"stylesheet\"/>\n",
       "<!-- https://cookieconsent.insites.com -->\n",
       "<link href=\"//cdnjs.cloudflare.com/ajax/libs/cookieconsent2/3.0.3/cookieconsent.min.css\" rel=\"stylesheet\" type=\"text/css\"/>\n",
       "<script src=\"//cdnjs.cloudflare.com/ajax/libs/cookieconsent2/3.0.3/cookieconsent.min.js\"></script>\n",
       "<script>\n",
       "        window.addEventListener(\"load\", function () {\n",
       "            window.cookieconsent.initialise({\n",
       "                \"palette\": {\n",
       "                    \"popup\": {\n",
       "                        \"background\": \"#edeff5\",\n",
       "                        \"text\": \"#838391\"\n",
       "                    },\n",
       "                    \"button\": {\n",
       "                        \"background\": \"#4b81e8\"\n",
       "                    }\n",
       "                },\n",
       "                \"theme\": \"classic\",\n",
       "                \"position\": \"bottom-right\"\n",
       "            })\n",
       "        });\n",
       "    </script>\n",
       "</head>\n",
       "<body>\n",
       "<div class=\"siteheading container-fluid\">\n",
       "<div class=\"headingbox\">\n",
       "<div class=\"headingtext\">MUSHROOM WORLD</div>\n",
       "<div class=\"headingdesc\">www.mushroom.world</div>\n",
       "<div class=\"headingdesc\"><i>Your resource for fungi information</i></div>\n",
       "</div>\n",
       "</div>\n",
       "<nav>\n",
       "<div class=\"navbar navbar-inverse\">\n",
       "<!--inverse-->\n",
       "<div class=\"container\">\n",
       "<div class=\"navbar-header\">\n",
       "<button class=\"navbar-toggle\" data-target=\".navbar-collapse\" data-toggle=\"collapse\" type=\"button\">\n",
       "<span class=\"icon-bar\"></span>\n",
       "<span class=\"icon-bar\"></span>\n",
       "<span class=\"icon-bar\"></span>\n",
       "</button>\n",
       "<a class=\"navbar-brand\" href=\"/home/index\">Home</a>\n",
       "</div>\n",
       "<div class=\"navbar-collapse collapse\">\n",
       "<ul class=\"nav navbar-nav\">\n",
       "<li><a href=\"/mushrooms/search\">Search the database</a></li>\n",
       "<li><a href=\"/mushrooms/list\">Identification helper</a></li>\n",
       "<li class=\"dropdown\">\n",
       "<a class=\"dropdown-toggle\" data-toggle=\"dropdown\" href=\"#\">Mushrooms <b class=\"caret\"></b></a>\n",
       "<ul class=\"dropdown-menu\">\n",
       "<li><a href=\"/mushrooms/namelist\">Alphabetical list</a></li>\n",
       "<li><a href=\"/mushrooms/edible\">Edible mushrooms</a></li> <!--<a href=\"/mushrooms/edible\">Edible mushrooms</a>-->\n",
       "<li><a href=\"/mushrooms/inedible\">Inedible mushrooms</a></li>\n",
       "<li><a href=\"/mushrooms/poisonous\">Poisonous mushrooms</a></li>\n",
       "<li class=\"divider\"></li>\n",
       "<li><a href=\"/mushrooms/guide\">Guide to picking mushrooms</a></li>\n",
       "<li class=\"divider\"></li>\n",
       "<li><a href=\"/home/upload\">Upload picture</a></li>\n",
       "</ul>\n",
       "</li>\n",
       "<li class=\"dropdown\">\n",
       "<a class=\"dropdown-toggle\" data-toggle=\"dropdown\" href=\"#\">Other <b class=\"caret\"></b></a>\n",
       "<ul class=\"dropdown-menu\">\n",
       "<li><a href=\"/home/about\">About this site</a></li>\n",
       "<li><a href=\"/home/contact\">Contact information</a></li>\n",
       "<li><a href=\"/home/links\">Useful links</a></li>\n",
       "<li><a href=\"/home/disclaimer\">Disclaimer</a></li>\n",
       "</ul>\n",
       "</li>\n",
       "</ul>\n",
       "<ul class=\"nav navbar-nav navbar-right\">\n",
       "<!--<li><a href=\"/Account/Register\" id=\"registerLink\">Register</a></li>-->\n",
       "<li><a href=\"/Account/Login\" id=\"loginLink\">Log in</a></li>\n",
       "</ul>\n",
       "</div>\n",
       "</div>\n",
       "</div>\n",
       "</nav>\n",
       "<div class=\"container body-content\">\n",
       "<div id=\"mushroom-list\">\n",
       "<div class=\"caption\">\n",
       "<b>\n",
       "                Agaricus arvensis\n",
       "                      (Horse Mushroom)\n",
       "            </b>\n",
       "</div>\n",
       "<div class=\"images\">\n",
       "<div class=\"image\">\n",
       "<a class=\"swipebox\" href=\"/../data/fungi/Agaricusarvensis1.JPG\" rel=\"Agaricus arvensis\" title=\"Agaricus arvensis\">\n",
       "<img alt=\"Picture\" src=\"/../data/fungi/Agaricusarvensis1-thumb.JPG\"/>\n",
       "</a>\n",
       "</div>\n",
       "<div class=\"image\">\n",
       "<a class=\"swipebox\" href=\"/../data/fungi/Agaricusarvensis2.JPG\" rel=\"Agaricus arvensis\" title=\"Agaricus arvensis\">\n",
       "<img alt=\"Picture\" src=\"/../data/fungi/Agaricusarvensis2-thumb.JPG\"/>\n",
       "</a>\n",
       "</div>\n",
       "<div class=\"image\">\n",
       "<a class=\"swipebox\" href=\"/../data/fungi/Agaricusarvensis3.JPG\" rel=\"Agaricus arvensis\" title=\"Agaricus arvensis\">\n",
       "<img alt=\"Picture\" src=\"/../data/fungi/Agaricusarvensis3-thumb.JPG\"/>\n",
       "</a>\n",
       "</div>\n",
       "<div class=\"image\">\n",
       "<a class=\"swipebox\" href=\"/../data/fungi/Agaricusarvensis4.JPG\" rel=\"Agaricus arvensis\" title=\"Agaricus arvensis\">\n",
       "<img alt=\"Picture\" src=\"/../data/fungi/Agaricusarvensis4-thumb.JPG\"/>\n",
       "</a>\n",
       "</div>\n",
       "<div class=\"image\">\n",
       "<a class=\"swipebox\" href=\"/../data/fungi/Agaricusarvensis5.JPG\" rel=\"Agaricus arvensis\" title=\"Agaricus arvensis\">\n",
       "<img alt=\"Picture\" src=\"/../data/fungi/Agaricusarvensis5-thumb.JPG\"/>\n",
       "</a>\n",
       "</div>\n",
       "</div>\n",
       "<div style=\"clear:left\"></div>\n",
       "<div class=\"labelus\">Family</div> <div class=\"textus\">Agaricaceae</div>\n",
       "<div class=\"labelus\">Location</div> <div class=\"textus\">North America, Europe</div>\n",
       "<div class=\"labelus\">Dimensions</div> <div class=\"textus\">Cap 8-20 cm diameter, stem 8-10 cm tall * 2-3 cm diameter</div>\n",
       "<div class=\"labelus\">Edibility</div> <div class=\"textus\">Edible and good <span class=\"guide\"><small>(<a href=\"/mushrooms/guide\">see important information about picking mushrooms</a>)</small></span></div>\n",
       "<br/>\n",
       "<div class=\"labelus\">Description</div> <div class=\"longtextus\">Agaricus arvensis, commonly known as the horse mushroom, is a sometimes massive agaric that has a white cap, ringed stem, and pink or chocolate colored gills.\n",
       "<br/><br/>\n",
       "<b>Cap</b> white or cream colored, may have fine scales, first hemispherical in shape before flattening out with maturity. Flesh is white, firm and thick. <b>Gills</b> are at first white, becoming pink, then chocolate brown or blackish, free and crowded. <b>Stem</b> is white or cream; it is slightly club-shaped and smooth or finely scaly below the ring. Ring is white or cream, pendulous and superior. Viewed from below, on a closed-cap specimen, it has a well-developed 'cogwheel' pattern around the stem. \n",
       "<br/><br/>\n",
       "<b>Similar species</b> There are several similar species. Agaricus macrosporus are very fleshy, with scaly stem girdles. Agaricus sylvicola is a woodland variety. Agaricus augustus and Agaricus xanthoderma are also similar. Be careful not to confuse it with the deadly poisonous Amanita virosa, which has white gills.\n",
       "<br/><br/>\n",
       "<a href=\"https://www.first-nature.com/fungi/agaricus-arvensis.php\" rel=\"nofollow\">Agaricus arvensis</a> on the www.first-nature.com web site.\n",
       "</div>\n",
       "</div>\n",
       "<br/>\n",
       "<!-- Google ads -->\n",
       "<br/>\n",
       "<script async=\"\" src=\"//pagead2.googlesyndication.com/pagead/js/adsbygoogle.js\"></script>\n",
       "<!-- Mushroom World responsive -->\n",
       "<ins class=\"adsbygoogle\" data-ad-client=\"ca-pub-9858102044922281\" data-ad-format=\"auto\" data-ad-slot=\"5212346850\" style=\"display:block\"></ins>\n",
       "<script>\n",
       "                        (adsbygoogle = window.adsbygoogle || []).push({});\n",
       "                    </script>\n",
       "<!-- End google ads -->\n",
       "<br/>\n",
       "<hr/>\n",
       "<footer>\n",
       "<p>© 2020 - www.mushroom.world</p>\n",
       "</footer>\n",
       "</div>\n",
       "<!--    <script src=\"/bundles/jquery?v=FVs3ACwOLIVInrAl5sdzR2jrCDmVOWFbZMY6g6Q0ulE1\"></script>\n",
       " -->\n",
       "<script src=\"/swipebox/lib/jquery-2.1.0.min.js\"></script>\n",
       "<script src=\"/Content/helpers.js\"></script>\n",
       "<script src=\"/bundles/bootstrap?v=2Fz3B0iizV2NnnamQFrx-NbYJNTFeBJ2GM05SilbtQU1\"></script>\n",
       "<!-- Warning popup -->\n",
       "<div class=\"warnmodal\" id=\"warningModal\">\n",
       "<!-- Modal content -->\n",
       "<div class=\"warnmodal-content\">\n",
       "<h3>WARNING</h3>\n",
       "<p>If you plan to collect fungi to be eaten, misidentified mushrooms can <b>make you sick or kill you</b>. Do <b>not</b> eat mushrooms you are not 100% certain of. Use many resources, and be skeptical of your own conclusions. The site takes no responsibility for damage caused by wrong identifications. If you continue, you agree to view this website under these terms.</p>\n",
       "<input class=\"btn btn-primary warnbutton\" type=\"button\" value=\"Got it!\"/>   <input class=\"btn btn-primary infobutton\" type=\"button\" value=\"More info\"/>\n",
       "</div>\n",
       "</div>\n",
       "<script type=\"text/javascript\">\n",
       "\n",
       "        // Get the modal\n",
       "        var modal = document.getElementById('warningModal');\n",
       "\n",
       "        // Get the <span> element that closes the modal\n",
       "        var warnbutton = document.getElementsByClassName(\"warnbutton\")[0];\n",
       "\n",
       "        var infobutton = document.getElementsByClassName(\"infobutton\")[0];\n",
       "\n",
       "        var content = document.getElementsByClassName(\"warnmodal-content\")[0];\n",
       "\n",
       "        // When the user clicks on the button, open the modal\n",
       "        window.onload = function () {\n",
       "            if (getCookie('warning_shown2') == \"\") {\n",
       "                setTimeout(function () {\n",
       "                    modal.style.display = \"block\";\n",
       "                }, 4500);\n",
       "            }\n",
       "        }\n",
       "\n",
       "        // When the user clicks on button, close the modal\n",
       "        warnbutton.onclick = function () {\n",
       "            setCookie(\"warning_shown2\", \"true\", 8); // 8 days\n",
       "            modal.style.display = \"none\";\n",
       "            content.style.display = \"none\";\n",
       "        }\n",
       "\n",
       "        infobutton.onclick = function () {\n",
       "            setCookie(\"warning_shown2\", \"true\", 8); // 8 days\n",
       "            modal.style.display = \"none\";\n",
       "            content.style.display = \"none\";\n",
       "            window.location.href = \"/mushrooms/guide\";\n",
       "        }\n",
       "\n",
       "    </script>\n",
       "<!-- Add swipebox -->\n",
       "<script src=\"/swipebox/src/js/jquery.swipebox.js\"></script>\n",
       "<script type=\"text/javascript\">\n",
       "        ; (function ($) {\n",
       "\n",
       "            $('.swipebox').swipebox();\n",
       "\n",
       "        })(jQuery);\n",
       "    </script>\n",
       "<!-- And of: Add swipebox -->\n",
       "<!-- Start of StatCounter Code for Default Guide -->\n",
       "<script type=\"text/javascript\">\n",
       "        var sc_project = 9822376;\n",
       "        var sc_invisible = 1;\n",
       "        var sc_security = \"ae80b3b8\";\n",
       "        var scJsHost = ((\"https:\" == document.location.protocol) ?\n",
       "        \"https://secure.\" : \"http://www.\");\n",
       "        document.write(\"<sc\" + \"ript type='text/javascript' src='\" +\n",
       "        scJsHost +\n",
       "        \"statcounter.com/counter/counter.js'></\" + \"script>\");\n",
       "    </script>\n",
       "<noscript>\n",
       "<div class=\"statcounter\">\n",
       "<a href=\"http://statcounter.com/\" target=\"_blank\" title=\"click tracking\">\n",
       "<img alt=\"click tracking\" class=\"statcounter\" src=\"http://c.statcounter.com/9822376/0/ae80b3b8/1/\"/>\n",
       "</a>\n",
       "</div>\n",
       "</noscript>\n",
       "<!-- End of StatCounter Code for Default Guide -->\n",
       "</body>\n",
       "</html>"
      ]
     },
     "execution_count": 31,
     "metadata": {},
     "output_type": "execute_result"
    }
   ],
   "source": [
    "item_soup"
   ]
  },
  {
   "cell_type": "code",
   "execution_count": 32,
   "metadata": {},
   "outputs": [
    {
     "data": {
      "text/plain": [
       "[<a class=\"navbar-brand\" href=\"/home/index\">Home</a>,\n",
       " <a href=\"/mushrooms/search\">Search the database</a>,\n",
       " <a href=\"/mushrooms/list\">Identification helper</a>,\n",
       " <a class=\"dropdown-toggle\" data-toggle=\"dropdown\" href=\"#\">Mushrooms <b class=\"caret\"></b></a>,\n",
       " <a href=\"/mushrooms/namelist\">Alphabetical list</a>,\n",
       " <a href=\"/mushrooms/edible\">Edible mushrooms</a>,\n",
       " <a href=\"/mushrooms/inedible\">Inedible mushrooms</a>,\n",
       " <a href=\"/mushrooms/poisonous\">Poisonous mushrooms</a>,\n",
       " <a href=\"/mushrooms/guide\">Guide to picking mushrooms</a>,\n",
       " <a href=\"/home/upload\">Upload picture</a>,\n",
       " <a class=\"dropdown-toggle\" data-toggle=\"dropdown\" href=\"#\">Other <b class=\"caret\"></b></a>,\n",
       " <a href=\"/home/about\">About this site</a>,\n",
       " <a href=\"/home/contact\">Contact information</a>,\n",
       " <a href=\"/home/links\">Useful links</a>,\n",
       " <a href=\"/home/disclaimer\">Disclaimer</a>,\n",
       " <a href=\"/Account/Login\" id=\"loginLink\">Log in</a>,\n",
       " <a class=\"swipebox\" href=\"/../data/fungi/Agaricusarvensis1.JPG\" rel=\"Agaricus arvensis\" title=\"Agaricus arvensis\">\n",
       " <img alt=\"Picture\" src=\"/../data/fungi/Agaricusarvensis1-thumb.JPG\"/>\n",
       " </a>,\n",
       " <a class=\"swipebox\" href=\"/../data/fungi/Agaricusarvensis2.JPG\" rel=\"Agaricus arvensis\" title=\"Agaricus arvensis\">\n",
       " <img alt=\"Picture\" src=\"/../data/fungi/Agaricusarvensis2-thumb.JPG\"/>\n",
       " </a>,\n",
       " <a class=\"swipebox\" href=\"/../data/fungi/Agaricusarvensis3.JPG\" rel=\"Agaricus arvensis\" title=\"Agaricus arvensis\">\n",
       " <img alt=\"Picture\" src=\"/../data/fungi/Agaricusarvensis3-thumb.JPG\"/>\n",
       " </a>,\n",
       " <a class=\"swipebox\" href=\"/../data/fungi/Agaricusarvensis4.JPG\" rel=\"Agaricus arvensis\" title=\"Agaricus arvensis\">\n",
       " <img alt=\"Picture\" src=\"/../data/fungi/Agaricusarvensis4-thumb.JPG\"/>\n",
       " </a>,\n",
       " <a class=\"swipebox\" href=\"/../data/fungi/Agaricusarvensis5.JPG\" rel=\"Agaricus arvensis\" title=\"Agaricus arvensis\">\n",
       " <img alt=\"Picture\" src=\"/../data/fungi/Agaricusarvensis5-thumb.JPG\"/>\n",
       " </a>,\n",
       " <a href=\"/mushrooms/guide\">see important information about picking mushrooms</a>,\n",
       " <a href=\"https://www.first-nature.com/fungi/agaricus-arvensis.php\" rel=\"nofollow\">Agaricus arvensis</a>,\n",
       " <a href=\"http://statcounter.com/\" target=\"_blank\" title=\"click tracking\">\n",
       " <img alt=\"click tracking\" class=\"statcounter\" src=\"http://c.statcounter.com/9822376/0/ae80b3b8/1/\"/>\n",
       " </a>]"
      ]
     },
     "execution_count": 32,
     "metadata": {},
     "output_type": "execute_result"
    }
   ],
   "source": [
    "item_soup.find_all('a')"
   ]
  },
  {
   "cell_type": "markdown",
   "metadata": {},
   "source": [
    "# Single image ending"
   ]
  },
  {
   "cell_type": "code",
   "execution_count": 33,
   "metadata": {},
   "outputs": [
    {
     "name": "stdout",
     "output_type": "stream",
     "text": [
      "Agaricus_arvensis\n"
     ]
    }
   ],
   "source": [
    "name_list = []\n",
    "for item in item_soup.find_all('div', {'class':'longtextus'}):\n",
    "    print(item.find('a').text.replace(' ',\"\"\"_\"\"\"))\n",
    "    name_list.append(item.find('a').text.replace(' ',\"\"\"_\"\"\"))"
   ]
  },
  {
   "cell_type": "code",
   "execution_count": 34,
   "metadata": {
    "scrolled": true
   },
   "outputs": [
    {
     "name": "stdout",
     "output_type": "stream",
     "text": [
      "Agaricusarvensis1.JPG\n",
      "Agaricusarvensis2.JPG\n",
      "Agaricusarvensis3.JPG\n",
      "Agaricusarvensis4.JPG\n",
      "Agaricusarvensis5.JPG\n"
     ]
    }
   ],
   "source": [
    "image_list = []\n",
    "for image in item_soup.find_all('div', {'class':'image'}):\n",
    "    print(image.find('a').attrs['href'].replace('/../data/fungi/',''))\n",
    "    image_list.append(image.find('a').attrs['href'].replace('/../data/fungi/',''))"
   ]
  },
  {
   "cell_type": "code",
   "execution_count": 35,
   "metadata": {},
   "outputs": [
    {
     "data": {
      "text/html": [
       "<div>\n",
       "<style scoped>\n",
       "    .dataframe tbody tr th:only-of-type {\n",
       "        vertical-align: middle;\n",
       "    }\n",
       "\n",
       "    .dataframe tbody tr th {\n",
       "        vertical-align: top;\n",
       "    }\n",
       "\n",
       "    .dataframe thead th {\n",
       "        text-align: right;\n",
       "    }\n",
       "</style>\n",
       "<table border=\"1\" class=\"dataframe\">\n",
       "  <thead>\n",
       "    <tr style=\"text-align: right;\">\n",
       "      <th></th>\n",
       "      <th>family</th>\n",
       "      <th>location</th>\n",
       "      <th>min_cap_cm</th>\n",
       "      <th>max_cap_cm</th>\n",
       "      <th>min_stem_hgt_cm</th>\n",
       "      <th>max_stem_hgt_cm</th>\n",
       "      <th>min_stem_diam_cm</th>\n",
       "      <th>max_stem_diam_cm</th>\n",
       "      <th>edibility</th>\n",
       "      <th>long_desc</th>\n",
       "      <th>name</th>\n",
       "    </tr>\n",
       "  </thead>\n",
       "  <tbody>\n",
       "    <tr>\n",
       "      <th>0</th>\n",
       "      <td>Agaricaceae</td>\n",
       "      <td>North America, Europe</td>\n",
       "      <td>8.0</td>\n",
       "      <td>20.0</td>\n",
       "      <td>8</td>\n",
       "      <td>10</td>\n",
       "      <td>2</td>\n",
       "      <td>3</td>\n",
       "      <td>Edible and good</td>\n",
       "      <td>Agaricus arvensis, commonly known as the horse...</td>\n",
       "      <td>agaricus_arvensis</td>\n",
       "    </tr>\n",
       "    <tr>\n",
       "      <th>1</th>\n",
       "      <td>Agaricaceae</td>\n",
       "      <td>North America, Europe</td>\n",
       "      <td>10.0</td>\n",
       "      <td>20.0</td>\n",
       "      <td>10</td>\n",
       "      <td>20</td>\n",
       "      <td>2</td>\n",
       "      <td>4</td>\n",
       "      <td>Edible and good</td>\n",
       "      <td>Agaricus augustus, also known as the prince, i...</td>\n",
       "      <td>agaricus_augustus</td>\n",
       "    </tr>\n",
       "    <tr>\n",
       "      <th>2</th>\n",
       "      <td>Polyporaceae</td>\n",
       "      <td>North America, Europe</td>\n",
       "      <td>7.0</td>\n",
       "      <td>18.0</td>\n",
       "      <td>3</td>\n",
       "      <td>7</td>\n",
       "      <td>1</td>\n",
       "      <td>3</td>\n",
       "      <td>Inedible</td>\n",
       "      <td>From above, this pale orange polypore looks li...</td>\n",
       "      <td>albatrellus_confluens</td>\n",
       "    </tr>\n",
       "    <tr>\n",
       "      <th>3</th>\n",
       "      <td>Polyporaceae</td>\n",
       "      <td>North America, Europe</td>\n",
       "      <td>7.0</td>\n",
       "      <td>18.0</td>\n",
       "      <td>3</td>\n",
       "      <td>7</td>\n",
       "      <td>1</td>\n",
       "      <td>3</td>\n",
       "      <td>Edible</td>\n",
       "      <td>Albatrellus ovinus, also known as Sheep Polypo...</td>\n",
       "      <td>albatrellus_ovinus</td>\n",
       "    </tr>\n",
       "    <tr>\n",
       "      <th>4</th>\n",
       "      <td>Pluteaceae</td>\n",
       "      <td>North America, Europe</td>\n",
       "      <td>7.0</td>\n",
       "      <td>12.0</td>\n",
       "      <td>8</td>\n",
       "      <td>13</td>\n",
       "      <td>1.5</td>\n",
       "      <td>2</td>\n",
       "      <td>Inedible</td>\n",
       "      <td>The cap of this  large, grayish brown, fleshy ...</td>\n",
       "      <td>amanita_ceciliae</td>\n",
       "    </tr>\n",
       "  </tbody>\n",
       "</table>\n",
       "</div>"
      ],
      "text/plain": [
       "         family               location  min_cap_cm  max_cap_cm  \\\n",
       "0   Agaricaceae  North America, Europe         8.0        20.0   \n",
       "1   Agaricaceae  North America, Europe        10.0        20.0   \n",
       "2  Polyporaceae  North America, Europe         7.0        18.0   \n",
       "3  Polyporaceae  North America, Europe         7.0        18.0   \n",
       "4    Pluteaceae  North America, Europe         7.0        12.0   \n",
       "\n",
       "  min_stem_hgt_cm max_stem_hgt_cm min_stem_diam_cm max_stem_diam_cm  \\\n",
       "0               8              10                2                3   \n",
       "1              10              20                2                4   \n",
       "2               3               7                1                3   \n",
       "3               3               7                1                3   \n",
       "4               8              13              1.5                2   \n",
       "\n",
       "         edibility                                          long_desc  \\\n",
       "0  Edible and good  Agaricus arvensis, commonly known as the horse...   \n",
       "1  Edible and good  Agaricus augustus, also known as the prince, i...   \n",
       "2         Inedible  From above, this pale orange polypore looks li...   \n",
       "3           Edible  Albatrellus ovinus, also known as Sheep Polypo...   \n",
       "4         Inedible  The cap of this  large, grayish brown, fleshy ...   \n",
       "\n",
       "                    name  \n",
       "0      agaricus_arvensis  \n",
       "1      agaricus_augustus  \n",
       "2  albatrellus_confluens  \n",
       "3     albatrellus_ovinus  \n",
       "4       amanita_ceciliae  "
      ]
     },
     "execution_count": 35,
     "metadata": {},
     "output_type": "execute_result"
    }
   ],
   "source": [
    "final_df.head()"
   ]
  },
  {
   "cell_type": "code",
   "execution_count": 36,
   "metadata": {},
   "outputs": [
    {
     "name": "stdout",
     "output_type": "stream",
     "text": [
      "Failed to make directory, may already exist\n"
     ]
    }
   ],
   "source": [
    "try:\n",
    "    os.mkdir('scrape_images')\n",
    "except:\n",
    "    print('Failed to make directory, may already exist')"
   ]
  },
  {
   "cell_type": "code",
   "execution_count": 38,
   "metadata": {
    "scrolled": true
   },
   "outputs": [],
   "source": [
    "image_list = []\n",
    "\n",
    "image_num = 0\n",
    "# for each link, find all the images and append it to image_list\n",
    "while image_num <(len(mushroom_soups)):\n",
    "    for image in mushroom_soups[image_num].find_all('div', {'class':'image'}):\n",
    "        image_list.append(image.find('a').attrs['href'].replace('/../data/fungi/',''))\n",
    "    image_num+=1\n",
    "\n",
    "    "
   ]
  },
  {
   "cell_type": "code",
   "execution_count": 39,
   "metadata": {
    "scrolled": true
   },
   "outputs": [
    {
     "data": {
      "text/plain": [
       "139"
      ]
     },
     "execution_count": 39,
     "metadata": {},
     "output_type": "execute_result"
    }
   ],
   "source": [
    "image_num"
   ]
  },
  {
   "cell_type": "code",
   "execution_count": 40,
   "metadata": {},
   "outputs": [
    {
     "data": {
      "text/plain": [
       "627"
      ]
     },
     "execution_count": 40,
     "metadata": {},
     "output_type": "execute_result"
    }
   ],
   "source": [
    "len(image_list)"
   ]
  },
  {
   "cell_type": "code",
   "execution_count": 41,
   "metadata": {
    "scrolled": true
   },
   "outputs": [
    {
     "data": {
      "text/plain": [
       "['Agaricusarvensis1.JPG',\n",
       " 'Agaricusarvensis2.JPG',\n",
       " 'Agaricusarvensis3.JPG',\n",
       " 'Agaricusarvensis4.JPG',\n",
       " 'Agaricusarvensis5.JPG',\n",
       " 'Agaricusaugustus1.jpg',\n",
       " 'Agaricusaugustus2.jpg',\n",
       " 'Agaricusaugustus3.jpg',\n",
       " 'Agaricusaugustus4.jpg',\n",
       " 'Albatrellusconfluens1.JPG']"
      ]
     },
     "execution_count": 41,
     "metadata": {},
     "output_type": "execute_result"
    }
   ],
   "source": [
    "image_list[:10]"
   ]
  },
  {
   "cell_type": "markdown",
   "metadata": {},
   "source": [
    "## for each link -  get all images on that page"
   ]
  },
  {
   "cell_type": "code",
   "execution_count": 42,
   "metadata": {
    "scrolled": false
   },
   "outputs": [],
   "source": [
    "# For each image from the entire alphabetical list - save the image in the scrape_images folder\n",
    "counter = 0\n",
    "for pic in image_list[:]:\n",
    "    try:\n",
    "        image_url = f'https://www.mushroom.world/data/fungi/{pic}'\n",
    "        picture = requests.get(image_url, timeout=60)\n",
    "        fp_str = f'scrape_images/{pic.lower()}'\n",
    "        fp = open(fp_str, 'wb')\n",
    "        fp.write(picture.content)\n",
    "        fp.close()\n",
    "        counter+=1\n",
    "        time.sleep(5)\n",
    "    except:\n",
    "        print(f'error on {pic.lower()}')\n",
    "        counter+=1\n",
    "        pass"
   ]
  }
 ],
 "metadata": {
  "kernelspec": {
   "display_name": "Python 3",
   "language": "python",
   "name": "python3"
  },
  "language_info": {
   "codemirror_mode": {
    "name": "ipython",
    "version": 3
   },
   "file_extension": ".py",
   "mimetype": "text/x-python",
   "name": "python",
   "nbconvert_exporter": "python",
   "pygments_lexer": "ipython3",
   "version": "3.6.10"
  }
 },
 "nbformat": 4,
 "nbformat_minor": 4
}
