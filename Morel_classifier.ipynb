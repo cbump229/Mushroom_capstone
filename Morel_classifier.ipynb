{
 "cells": [
  {
   "cell_type": "markdown",
   "metadata": {},
   "source": [
    "# Imports"
   ]
  },
  {
   "cell_type": "code",
   "execution_count": 1,
   "metadata": {},
   "outputs": [
    {
     "name": "stderr",
     "output_type": "stream",
     "text": [
      "Using TensorFlow backend.\n"
     ]
    }
   ],
   "source": [
    "from keras.preprocessing.image import ImageDataGenerator, DirectoryIterator\n",
    "from keras.models import Sequential\n",
    "from keras.layers import Conv2D, MaxPooling2D\n",
    "from keras.layers import Activation,Dropout,Flatten,Dense\n",
    "from keras import backend as K\n",
    "from keras import regularizers\n",
    "\n",
    "import numpy as np\n",
    "from keras.preprocessing import image\n",
    "import tensorflow.keras.metrics\n",
    "\n",
    "import matplotlib.pyplot as plt\n",
    "\n",
    "import pandas as pd\n",
    "import os\n",
    "import shutil\n",
    "import sys"
   ]
  },
  {
   "cell_type": "code",
   "execution_count": 2,
   "metadata": {},
   "outputs": [],
   "source": [
    "import tensorflow as tf\n",
    "tf.random.set_seed(19830502)"
   ]
  },
  {
   "cell_type": "markdown",
   "metadata": {},
   "source": [
    "# Variable definitions"
   ]
  },
  {
   "cell_type": "code",
   "execution_count": 3,
   "metadata": {},
   "outputs": [],
   "source": [
    "\n",
    "image_width,img_height = 150,150\n",
    "\n",
    "train_data_dir = 'morel_classifier_images/train'\n",
    "test_data_dir = 'morel_classifier_images/test'\n",
    "\n",
    "nb_train_samples = 200\n",
    "nb_test_samples = 20\n",
    "reg_num = 0.0001\n",
    "\n",
    "epochs = 60\n",
    "batch_size = 36 # Use powers of 2"
   ]
  },
  {
   "cell_type": "markdown",
   "metadata": {},
   "source": [
    "# Generate the data from the images"
   ]
  },
  {
   "cell_type": "code",
   "execution_count": 4,
   "metadata": {},
   "outputs": [],
   "source": [
    "if K.image_data_format() =='channels_first':\n",
    "    input_shape = (3,image_width,img_height)\n",
    "else:\n",
    "    input_shape = (image_width,img_height,3)"
   ]
  },
  {
   "cell_type": "code",
   "execution_count": 5,
   "metadata": {},
   "outputs": [],
   "source": [
    "train_datagen = ImageDataGenerator(\n",
    "                            rescale= (1.0 /255),\n",
    "                            shear_range =0.4,\n",
    "                            zoom_range = 0.4,\n",
    "                            horizontal_flip = True,\n",
    "                            vertical_flip= True\n",
    "                                    )"
   ]
  },
  {
   "cell_type": "code",
   "execution_count": 6,
   "metadata": {},
   "outputs": [],
   "source": [
    "test_datagen = ImageDataGenerator( rescale= 1.0/255)"
   ]
  },
  {
   "cell_type": "code",
   "execution_count": 7,
   "metadata": {},
   "outputs": [
    {
     "name": "stdout",
     "output_type": "stream",
     "text": [
      "Found 1740 images belonging to 2 classes.\n"
     ]
    }
   ],
   "source": [
    "train_generator = train_datagen.flow_from_directory(\n",
    "                                                    train_data_dir,\n",
    "                                                    target_size=(image_width,img_height),\n",
    "                                                    batch_size=batch_size,\n",
    "                                                    class_mode = 'binary'\n",
    "                                                    )"
   ]
  },
  {
   "cell_type": "code",
   "execution_count": 8,
   "metadata": {},
   "outputs": [
    {
     "name": "stdout",
     "output_type": "stream",
     "text": [
      "Found 616 images belonging to 2 classes.\n"
     ]
    }
   ],
   "source": [
    "test_generator = test_datagen.flow_from_directory(\n",
    "                                                test_data_dir,\n",
    "                                                target_size=(image_width,img_height),\n",
    "                                                batch_size=batch_size,\n",
    "                                                class_mode='binary'\n",
    "                                                    )"
   ]
  },
  {
   "cell_type": "markdown",
   "metadata": {},
   "source": [
    "# Start the model"
   ]
  },
  {
   "cell_type": "code",
   "execution_count": 9,
   "metadata": {},
   "outputs": [],
   "source": [
    "model = Sequential()"
   ]
  },
  {
   "cell_type": "code",
   "execution_count": 10,
   "metadata": {},
   "outputs": [],
   "source": [
    "# First layer - input image\n",
    "model.add(Conv2D(255,\n",
    "                 kernel_size= (3,3), \n",
    "                 input_shape=input_shape, \n",
    "                 activation='relu',\n",
    "                ))\n",
    "model.add(MaxPooling2D(pool_size=(2,2)))"
   ]
  },
  {
   "cell_type": "code",
   "execution_count": 11,
   "metadata": {},
   "outputs": [],
   "source": [
    "# hidden layers\n",
    "model.add(Conv2D(128,\n",
    "                 kernel_size=(3,3),\n",
    "                 activation='relu',\n",
    "#                  kernel_regularizer=regularizers.l2(reg_num)\n",
    "                ))\n",
    "model.add(Dropout(.1))\n",
    "model.add(MaxPooling2D(pool_size=(2,2)))"
   ]
  },
  {
   "cell_type": "code",
   "execution_count": 12,
   "metadata": {},
   "outputs": [],
   "source": [
    "model.add(Conv2D(64,\n",
    "                 kernel_size=(3,3),\n",
    "                 activation='relu',\n",
    "#                  kernel_regularizer=regularizers.l2(reg_num)\n",
    "                ))\n",
    "model.add(Dropout(.1))\n",
    "model.add(MaxPooling2D(pool_size=(2,2)))"
   ]
  },
  {
   "cell_type": "code",
   "execution_count": 13,
   "metadata": {
    "scrolled": false
   },
   "outputs": [],
   "source": [
    "model.add(Conv2D(32,\n",
    "                 kernel_size=(3,3),\n",
    "                 activation='relu',\n",
    "#                  kernel_regularizer=regularizers.l2(reg_num)\n",
    "                ))\n",
    "model.add(Dropout(.1))\n",
    "model.add(MaxPooling2D(pool_size=(2,2)))"
   ]
  },
  {
   "cell_type": "code",
   "execution_count": 14,
   "metadata": {},
   "outputs": [],
   "source": [
    "# flatten\n",
    "model.add(Flatten(input_shape=input_shape))\n"
   ]
  },
  {
   "cell_type": "code",
   "execution_count": 15,
   "metadata": {},
   "outputs": [],
   "source": [
    "# Dense Layers\n",
    "model.add(Dense(64, \n",
    "                activation='relu',\n",
    "               ))\n",
    "model.add(Dropout(.1))\n",
    "\n",
    "model.add(Dense(32, \n",
    "                activation='relu',\n",
    "               ))\n",
    "model.add(Dropout(.1))\n",
    "\n",
    "model.add(Dense(25, \n",
    "                activation='relu',\n",
    "               ))\n",
    "model.add(Dropout(.1))"
   ]
  },
  {
   "cell_type": "code",
   "execution_count": 16,
   "metadata": {},
   "outputs": [],
   "source": [
    "# final output layer\n",
    "model.add(Dense(1, activation = 'sigmoid'))"
   ]
  },
  {
   "cell_type": "code",
   "execution_count": 17,
   "metadata": {},
   "outputs": [],
   "source": [
    "model.compile( \n",
    "    loss = 'binary_crossentropy',\n",
    "    optimizer='adam',\n",
    "    metrics=['acc']\n",
    "                )"
   ]
  },
  {
   "cell_type": "code",
   "execution_count": 18,
   "metadata": {
    "scrolled": false
   },
   "outputs": [
    {
     "name": "stdout",
     "output_type": "stream",
     "text": [
      "Epoch 1/60\n",
      "5/5 [==============================] - 137s 27s/step - loss: 0.6959 - acc: 0.5278 - val_loss: 0.6967 - val_acc: 0.4886\n",
      "Epoch 2/60\n",
      "5/5 [==============================] - 119s 24s/step - loss: 0.6986 - acc: 0.4389 - val_loss: 0.6951 - val_acc: 0.5195\n",
      "Epoch 3/60\n",
      "5/5 [==============================] - 115s 23s/step - loss: 0.6965 - acc: 0.4833 - val_loss: 0.6945 - val_acc: 0.4724\n",
      "Epoch 4/60\n",
      "5/5 [==============================] - 114s 23s/step - loss: 0.6985 - acc: 0.4500 - val_loss: 0.6919 - val_acc: 0.4724\n",
      "Epoch 5/60\n",
      "5/5 [==============================] - 111s 22s/step - loss: 0.6937 - acc: 0.4103 - val_loss: 0.6932 - val_acc: 0.5016\n",
      "Epoch 6/60\n",
      "5/5 [==============================] - 111s 22s/step - loss: 0.6935 - acc: 0.4278 - val_loss: 0.6927 - val_acc: 0.5260\n",
      "Epoch 7/60\n",
      "5/5 [==============================] - 112s 22s/step - loss: 0.6934 - acc: 0.4722 - val_loss: 0.6949 - val_acc: 0.4724\n",
      "Epoch 8/60\n",
      "5/5 [==============================] - 115s 23s/step - loss: 0.6931 - acc: 0.5222 - val_loss: 0.6889 - val_acc: 0.4724\n",
      "Epoch 9/60\n",
      "5/5 [==============================] - 115s 23s/step - loss: 0.6940 - acc: 0.4722 - val_loss: 0.6930 - val_acc: 0.4724\n",
      "Epoch 10/60\n",
      "5/5 [==============================] - 114s 23s/step - loss: 0.6932 - acc: 0.5000 - val_loss: 0.6907 - val_acc: 0.4724\n",
      "Epoch 11/60\n",
      "5/5 [==============================] - 112s 22s/step - loss: 0.6939 - acc: 0.4000 - val_loss: 0.6931 - val_acc: 0.4756\n",
      "Epoch 12/60\n",
      "5/5 [==============================] - 111s 22s/step - loss: 0.6931 - acc: 0.5128 - val_loss: 0.6926 - val_acc: 0.4724\n",
      "Epoch 13/60\n",
      "5/5 [==============================] - 121s 24s/step - loss: 0.6933 - acc: 0.4444 - val_loss: 0.6944 - val_acc: 0.4724\n",
      "Epoch 14/60\n",
      "5/5 [==============================] - 109s 22s/step - loss: 0.6933 - acc: 0.5000 - val_loss: 0.6931 - val_acc: 0.4724\n",
      "Epoch 15/60\n",
      "5/5 [==============================] - 112s 22s/step - loss: 0.6933 - acc: 0.4667 - val_loss: 0.6929 - val_acc: 0.4724\n",
      "Epoch 16/60\n",
      "5/5 [==============================] - 111s 22s/step - loss: 0.6930 - acc: 0.5111 - val_loss: 0.6929 - val_acc: 0.4724\n",
      "Epoch 17/60\n",
      "5/5 [==============================] - 115s 23s/step - loss: 0.6922 - acc: 0.5278 - val_loss: 0.7006 - val_acc: 0.4724\n",
      "Epoch 18/60\n",
      "5/5 [==============================] - 112s 22s/step - loss: 0.6934 - acc: 0.5556 - val_loss: 0.7276 - val_acc: 0.4724\n",
      "Epoch 19/60\n",
      "5/5 [==============================] - 116s 23s/step - loss: 0.6912 - acc: 0.5611 - val_loss: 0.6886 - val_acc: 0.4724\n",
      "Epoch 20/60\n",
      "5/5 [==============================] - 124s 25s/step - loss: 0.6947 - acc: 0.5167 - val_loss: 0.6721 - val_acc: 0.4724\n",
      "Epoch 21/60\n",
      "5/5 [==============================] - 119s 24s/step - loss: 0.6893 - acc: 0.5321 - val_loss: 0.6810 - val_acc: 0.4724\n",
      "Epoch 22/60\n",
      "5/5 [==============================] - 126s 25s/step - loss: 0.6905 - acc: 0.5222 - val_loss: 0.7235 - val_acc: 0.4724\n",
      "Epoch 23/60\n",
      "5/5 [==============================] - 123s 25s/step - loss: 0.6984 - acc: 0.4444 - val_loss: 0.6925 - val_acc: 0.4724\n",
      "Epoch 24/60\n",
      "5/5 [==============================] - 111s 22s/step - loss: 0.6926 - acc: 0.5611 - val_loss: 0.6930 - val_acc: 0.5990\n",
      "Epoch 25/60\n",
      "5/5 [==============================] - 126s 25s/step - loss: 0.6932 - acc: 0.5278 - val_loss: 0.7024 - val_acc: 0.6510\n",
      "Epoch 26/60\n",
      "5/5 [==============================] - 126s 25s/step - loss: 0.6865 - acc: 0.6556 - val_loss: 0.6910 - val_acc: 0.6834\n",
      "Epoch 27/60\n",
      "5/5 [==============================] - 109s 22s/step - loss: 0.6714 - acc: 0.5778 - val_loss: 0.6346 - val_acc: 0.6818\n",
      "Epoch 28/60\n",
      "5/5 [==============================] - 119s 24s/step - loss: 0.6098 - acc: 0.7167 - val_loss: 0.5949 - val_acc: 0.6981\n",
      "Epoch 29/60\n",
      "5/5 [==============================] - 134s 27s/step - loss: 0.6469 - acc: 0.6500 - val_loss: 0.7704 - val_acc: 0.7354\n",
      "Epoch 30/60\n",
      "5/5 [==============================] - 111s 22s/step - loss: 0.6286 - acc: 0.6833 - val_loss: 0.4654 - val_acc: 0.7289\n",
      "Epoch 31/60\n",
      "5/5 [==============================] - 110s 22s/step - loss: 0.6288 - acc: 0.7056 - val_loss: 0.6570 - val_acc: 0.6753\n",
      "Epoch 32/60\n",
      "5/5 [==============================] - 114s 23s/step - loss: 0.5680 - acc: 0.8222 - val_loss: 0.4426 - val_acc: 0.7435\n",
      "Epoch 33/60\n",
      "5/5 [==============================] - 113s 23s/step - loss: 0.6178 - acc: 0.7222 - val_loss: 0.5854 - val_acc: 0.7403\n",
      "Epoch 34/60\n",
      "5/5 [==============================] - 109s 22s/step - loss: 0.6378 - acc: 0.7056 - val_loss: 0.5611 - val_acc: 0.7127\n",
      "Epoch 35/60\n",
      "5/5 [==============================] - 105s 21s/step - loss: 0.5818 - acc: 0.7278 - val_loss: 0.6714 - val_acc: 0.7711\n",
      "Epoch 36/60\n",
      "5/5 [==============================] - 106s 21s/step - loss: 0.5738 - acc: 0.7556 - val_loss: 0.6300 - val_acc: 0.7727\n",
      "Epoch 37/60\n",
      "5/5 [==============================] - 105s 21s/step - loss: 0.4965 - acc: 0.7611 - val_loss: 0.3296 - val_acc: 0.7711\n",
      "Epoch 38/60\n",
      "5/5 [==============================] - 98s 20s/step - loss: 0.5842 - acc: 0.7564 - val_loss: 0.2221 - val_acc: 0.7760\n",
      "Epoch 39/60\n",
      "5/5 [==============================] - 106s 21s/step - loss: 0.5369 - acc: 0.7722 - val_loss: 0.8283 - val_acc: 0.7792\n",
      "Epoch 40/60\n",
      "5/5 [==============================] - 106s 21s/step - loss: 0.5457 - acc: 0.7611 - val_loss: 0.3565 - val_acc: 0.8052\n",
      "Epoch 41/60\n",
      "5/5 [==============================] - 105s 21s/step - loss: 0.5056 - acc: 0.8111 - val_loss: 0.7198 - val_acc: 0.7646\n",
      "Epoch 42/60\n",
      "5/5 [==============================] - 99s 20s/step - loss: 0.5120 - acc: 0.7885 - val_loss: 0.5108 - val_acc: 0.8117\n",
      "Epoch 43/60\n",
      "5/5 [==============================] - 106s 21s/step - loss: 0.4606 - acc: 0.8056 - val_loss: 0.3972 - val_acc: 0.8182\n",
      "Epoch 44/60\n",
      "5/5 [==============================] - 106s 21s/step - loss: 0.5070 - acc: 0.7833 - val_loss: 1.1080 - val_acc: 0.7792\n",
      "Epoch 45/60\n",
      "5/5 [==============================] - 108s 22s/step - loss: 0.5206 - acc: 0.7778 - val_loss: 0.4790 - val_acc: 0.8231\n",
      "Epoch 46/60\n",
      "5/5 [==============================] - 109s 22s/step - loss: 0.4614 - acc: 0.8111 - val_loss: 0.5646 - val_acc: 0.8279\n",
      "Epoch 47/60\n",
      "5/5 [==============================] - 108s 22s/step - loss: 0.4752 - acc: 0.8167 - val_loss: 0.4240 - val_acc: 0.8279\n",
      "Epoch 48/60\n",
      "5/5 [==============================] - 107s 21s/step - loss: 0.4296 - acc: 0.8056 - val_loss: 0.6429 - val_acc: 0.8328\n",
      "Epoch 49/60\n",
      "5/5 [==============================] - 107s 21s/step - loss: 0.4181 - acc: 0.8278 - val_loss: 0.9900 - val_acc: 0.8344\n",
      "Epoch 50/60\n",
      "5/5 [==============================] - 106s 21s/step - loss: 0.5047 - acc: 0.7889 - val_loss: 0.4660 - val_acc: 0.7403\n",
      "Epoch 51/60\n",
      "5/5 [==============================] - 106s 21s/step - loss: 0.5685 - acc: 0.7556 - val_loss: 0.6836 - val_acc: 0.8474\n",
      "Epoch 52/60\n",
      "5/5 [==============================] - 106s 21s/step - loss: 0.4646 - acc: 0.7778 - val_loss: 0.3431 - val_acc: 0.8490\n",
      "Epoch 53/60\n",
      "5/5 [==============================] - 101s 20s/step - loss: 0.4442 - acc: 0.8269 - val_loss: 0.4278 - val_acc: 0.8393\n",
      "Epoch 54/60\n",
      "5/5 [==============================] - 107s 21s/step - loss: 0.4100 - acc: 0.8056 - val_loss: 0.1287 - val_acc: 0.8490\n",
      "Epoch 55/60\n",
      "5/5 [==============================] - 107s 21s/step - loss: 0.4310 - acc: 0.8000 - val_loss: 0.8563 - val_acc: 0.8328\n",
      "Epoch 56/60\n",
      "5/5 [==============================] - 107s 21s/step - loss: 0.4528 - acc: 0.8111 - val_loss: 0.7984 - val_acc: 0.8442\n",
      "Epoch 57/60\n",
      "5/5 [==============================] - 106s 21s/step - loss: 0.4578 - acc: 0.8000 - val_loss: 0.5609 - val_acc: 0.7354\n",
      "Epoch 58/60\n",
      "5/5 [==============================] - 105s 21s/step - loss: 0.5136 - acc: 0.7722 - val_loss: 0.7109 - val_acc: 0.8490\n",
      "Epoch 59/60\n",
      "5/5 [==============================] - 114s 23s/step - loss: 0.4837 - acc: 0.7833 - val_loss: 0.5022 - val_acc: 0.8669\n",
      "Epoch 60/60\n",
      "5/5 [==============================] - 107s 21s/step - loss: 0.4453 - acc: 0.8111 - val_loss: 0.3331 - val_acc: 0.8523\n"
     ]
    }
   ],
   "source": [
    "history = model.fit_generator(\n",
    "            train_generator,\n",
    "            steps_per_epoch= nb_train_samples // batch_size,\n",
    "            epochs=epochs,\n",
    "            validation_data=test_generator,\n",
    "            validation_steps=nb_test_samples // batch_size,\n",
    ")\n",
    "\n",
    "model.save('history/morel_class_try.h5')"
   ]
  },
  {
   "cell_type": "markdown",
   "metadata": {},
   "source": [
    "# Plot the data"
   ]
  },
  {
   "cell_type": "code",
   "execution_count": 19,
   "metadata": {
    "scrolled": true
   },
   "outputs": [
    {
     "data": {
      "image/png": "[encoded data removed]",
      "text/plain": [
       "<Figure size 864x576 with 1 Axes>"
      ]
     },
     "metadata": {
      "needs_background": "light"
     },
     "output_type": "display_data"
    }
   ],
   "source": [
    "train_loss = history.history['loss']\n",
    "test_loss = history.history['val_loss']\n",
    "plt.figure(figsize=(12, 8))\n",
    "plt.plot(train_loss, label='Training loss', color='navy')\n",
    "plt.plot(test_loss, label='Testing loss', color='skyblue')\n",
    "plt.legend()\n",
    "plt.savefig('figures/morel_loss.png');"
   ]
  },
  {
   "cell_type": "code",
   "execution_count": 20,
   "metadata": {},
   "outputs": [
    {
     "data": {
      "image/png": "[encoded data removed]",
      "text/plain": [
       "<Figure size 432x288 with 1 Axes>"
      ]
     },
     "metadata": {
      "needs_background": "light"
     },
     "output_type": "display_data"
    }
   ],
   "source": [
    "plt.plot(history.history['acc'], label='Train accuracy')\n",
    "plt.plot(history.history['val_acc'], label='Test accuracy')\n",
    "plt.legend()\n",
    "plt.savefig('figures/morel_acc.png');"
   ]
  },
  {
   "cell_type": "markdown",
   "metadata": {},
   "source": [
    "# Test single image"
   ]
  },
  {
   "cell_type": "code",
   "execution_count": 21,
   "metadata": {},
   "outputs": [],
   "source": [
    "# img_pred = image.load_img('morel_classifier_images/Test/1_not_good_morels/OIP - 2020-03-04T145542.245.jpeg',\n",
    "#                           target_size=(img_height,image_width))\n",
    "\n",
    "# img_pred = image.img_to_array(img_pred)\n",
    "# img_pred = np.expand_dims(img_pred, axis = 0)"
   ]
  },
  {
   "cell_type": "code",
   "execution_count": 22,
   "metadata": {},
   "outputs": [],
   "source": [
    "# result = model.predict_classes(img_pred)"
   ]
  },
  {
   "cell_type": "code",
   "execution_count": 23,
   "metadata": {},
   "outputs": [],
   "source": [
    "# print(result)"
   ]
  },
  {
   "cell_type": "code",
   "execution_count": 24,
   "metadata": {},
   "outputs": [],
   "source": [
    "# if result[0][0] == 1:\n",
    "#     prediction = 'bad morel bad'\n",
    "# else:\n",
    "#     prediction = 'good morel'\n",
    "    \n",
    "# print(prediction)"
   ]
  },
  {
   "cell_type": "markdown",
   "metadata": {},
   "source": [
    "# Make Predictions on False Mushrooms"
   ]
  },
  {
   "cell_type": "code",
   "execution_count": 25,
   "metadata": {},
   "outputs": [
    {
     "data": {
      "text/plain": [
       "['.DS_Store',\n",
       " 'OIP - 2020-03-04T145542.245.jpeg',\n",
       " 'OIP - 2020-03-04T145542.255.jpeg',\n",
       " 'OIP - 2020-03-04T145542.272.jpeg',\n",
       " 'OIP - 2020-03-04T145542.276.jpeg']"
      ]
     },
     "execution_count": 25,
     "metadata": {},
     "output_type": "execute_result"
    }
   ],
   "source": [
    "#Create list for each image to be predicted on\n",
    "false_folder_list = sorted(os.listdir(f'morel_classifier_images/Test/1_not_good_morels'))\n",
    "false_folder_list[:5]"
   ]
  },
  {
   "cell_type": "code",
   "execution_count": 26,
   "metadata": {},
   "outputs": [
    {
     "name": "stdout",
     "output_type": "stream",
     "text": [
      "item not removed from folder list\n"
     ]
    }
   ],
   "source": [
    "# Remove system/hidden files from the list so predictions aren't made on them\n",
    "try:\n",
    "    false_folder_list.remove('.DS_Store')\n",
    "    false_folder_list.remove('.ipynb_checkpoints')\n",
    "except:\n",
    "    print('item not removed from folder list')"
   ]
  },
  {
   "cell_type": "code",
   "execution_count": 27,
   "metadata": {
    "scrolled": false
   },
   "outputs": [
    {
     "data": {
      "text/plain": [
       "['OIP - 2020-03-04T145542.245.jpeg',\n",
       " 'OIP - 2020-03-04T145542.255.jpeg',\n",
       " 'OIP - 2020-03-04T145542.272.jpeg',\n",
       " 'OIP - 2020-03-04T145542.276.jpeg',\n",
       " 'OIP - 2020-03-04T145542.279.jpeg']"
      ]
     },
     "execution_count": 27,
     "metadata": {},
     "output_type": "execute_result"
    }
   ],
   "source": [
    "false_folder_list[:5]"
   ]
  },
  {
   "cell_type": "code",
   "execution_count": 28,
   "metadata": {},
   "outputs": [],
   "source": [
    "false_preds = []\n",
    "counter=0\n",
    "for i in false_folder_list[:]:\n",
    "    # Read each image from the testing - bad morels folder and generate/save predictions\n",
    "    try:\n",
    "        img_path =(f'morel_classifier_images/Test/1_not_good_morels/{i}')\n",
    "\n",
    "        img_pred = image.load_img(img_path,target_size=(img_height,image_width))\n",
    "        img_pred = image.img_to_array(img_pred)\n",
    "        img_pred = np.expand_dims(img_pred, axis = 0)\n",
    "        result = model.predict_classes(img_pred)\n",
    "        \n",
    "        false_preds.append(result)\n",
    "        \n",
    "        counter += 1\n",
    "    # if there is an error assign a 3 to the error in the list so we can find it in EDA steps    \n",
    "    except:\n",
    "        print(f'error on {counter}')\n",
    "        false_preds.append(3)"
   ]
  },
  {
   "cell_type": "code",
   "execution_count": 29,
   "metadata": {},
   "outputs": [
    {
     "data": {
      "text/plain": [
       "[array([[1]], dtype=int32),\n",
       " array([[1]], dtype=int32),\n",
       " array([[1]], dtype=int32),\n",
       " array([[0]], dtype=int32),\n",
       " array([[1]], dtype=int32),\n",
       " array([[0]], dtype=int32),\n",
       " array([[1]], dtype=int32),\n",
       " array([[1]], dtype=int32),\n",
       " array([[0]], dtype=int32),\n",
       " array([[0]], dtype=int32)]"
      ]
     },
     "execution_count": 29,
     "metadata": {},
     "output_type": "execute_result"
    }
   ],
   "source": [
    "false_preds[:10]"
   ]
  },
  {
   "cell_type": "code",
   "execution_count": 30,
   "metadata": {},
   "outputs": [],
   "source": [
    "# Filter out 0 and 1 predictions from the results\n",
    "false_predictions=[]\n",
    "for i in false_preds:\n",
    "    false_predictions.append(int(i))\n",
    "    "
   ]
  },
  {
   "cell_type": "code",
   "execution_count": 31,
   "metadata": {
    "scrolled": false
   },
   "outputs": [
    {
     "data": {
      "text/plain": [
       "[1, 1, 1, 0, 1]"
      ]
     },
     "execution_count": 31,
     "metadata": {},
     "output_type": "execute_result"
    }
   ],
   "source": [
    "false_predictions[:5]"
   ]
  },
  {
   "cell_type": "code",
   "execution_count": 32,
   "metadata": {
    "scrolled": true
   },
   "outputs": [],
   "source": [
    "false_predictions_df = pd.DataFrame(false_predictions, columns =[\"predictions\"])"
   ]
  },
  {
   "cell_type": "code",
   "execution_count": 33,
   "metadata": {},
   "outputs": [
    {
     "data": {
      "text/html": [
       "<div>\n",
       "<style scoped>\n",
       "    .dataframe tbody tr th:only-of-type {\n",
       "        vertical-align: middle;\n",
       "    }\n",
       "\n",
       "    .dataframe tbody tr th {\n",
       "        vertical-align: top;\n",
       "    }\n",
       "\n",
       "    .dataframe thead th {\n",
       "        text-align: right;\n",
       "    }\n",
       "</style>\n",
       "<table border=\"1\" class=\"dataframe\">\n",
       "  <thead>\n",
       "    <tr style=\"text-align: right;\">\n",
       "      <th></th>\n",
       "      <th>predictions</th>\n",
       "    </tr>\n",
       "  </thead>\n",
       "  <tbody>\n",
       "    <tr>\n",
       "      <th>0</th>\n",
       "      <td>1</td>\n",
       "    </tr>\n",
       "    <tr>\n",
       "      <th>1</th>\n",
       "      <td>1</td>\n",
       "    </tr>\n",
       "    <tr>\n",
       "      <th>2</th>\n",
       "      <td>1</td>\n",
       "    </tr>\n",
       "    <tr>\n",
       "      <th>3</th>\n",
       "      <td>0</td>\n",
       "    </tr>\n",
       "    <tr>\n",
       "      <th>4</th>\n",
       "      <td>1</td>\n",
       "    </tr>\n",
       "  </tbody>\n",
       "</table>\n",
       "</div>"
      ],
      "text/plain": [
       "   predictions\n",
       "0            1\n",
       "1            1\n",
       "2            1\n",
       "3            0\n",
       "4            1"
      ]
     },
     "execution_count": 33,
     "metadata": {},
     "output_type": "execute_result"
    }
   ],
   "source": [
    "false_predictions_df.head()"
   ]
  },
  {
   "cell_type": "code",
   "execution_count": 34,
   "metadata": {},
   "outputs": [],
   "source": [
    "false_file_name = pd.DataFrame(false_folder_list, columns=['file_name'])"
   ]
  },
  {
   "cell_type": "code",
   "execution_count": 35,
   "metadata": {
    "scrolled": true
   },
   "outputs": [
    {
     "data": {
      "text/html": [
       "<div>\n",
       "<style scoped>\n",
       "    .dataframe tbody tr th:only-of-type {\n",
       "        vertical-align: middle;\n",
       "    }\n",
       "\n",
       "    .dataframe tbody tr th {\n",
       "        vertical-align: top;\n",
       "    }\n",
       "\n",
       "    .dataframe thead th {\n",
       "        text-align: right;\n",
       "    }\n",
       "</style>\n",
       "<table border=\"1\" class=\"dataframe\">\n",
       "  <thead>\n",
       "    <tr style=\"text-align: right;\">\n",
       "      <th></th>\n",
       "      <th>predictions</th>\n",
       "    </tr>\n",
       "  </thead>\n",
       "  <tbody>\n",
       "  </tbody>\n",
       "</table>\n",
       "</div>"
      ],
      "text/plain": [
       "Empty DataFrame\n",
       "Columns: [predictions]\n",
       "Index: []"
      ]
     },
     "execution_count": 35,
     "metadata": {},
     "output_type": "execute_result"
    }
   ],
   "source": [
    "# test to find if any results are 'unclassified'\n",
    "false_predictions_df.loc[false_predictions_df['predictions']==3]"
   ]
  },
  {
   "cell_type": "code",
   "execution_count": 36,
   "metadata": {},
   "outputs": [],
   "source": [
    "false_predictions_df = pd.concat([false_file_name,false_predictions_df],axis=1)"
   ]
  },
  {
   "cell_type": "code",
   "execution_count": 37,
   "metadata": {},
   "outputs": [],
   "source": [
    "false_predictions_df['actual_mushroom_type'] = 1\n",
    "false_predictions_df['Type'] = 'false_morel'"
   ]
  },
  {
   "cell_type": "code",
   "execution_count": 38,
   "metadata": {
    "scrolled": true
   },
   "outputs": [
    {
     "data": {
      "text/html": [
       "<div>\n",
       "<style scoped>\n",
       "    .dataframe tbody tr th:only-of-type {\n",
       "        vertical-align: middle;\n",
       "    }\n",
       "\n",
       "    .dataframe tbody tr th {\n",
       "        vertical-align: top;\n",
       "    }\n",
       "\n",
       "    .dataframe thead th {\n",
       "        text-align: right;\n",
       "    }\n",
       "</style>\n",
       "<table border=\"1\" class=\"dataframe\">\n",
       "  <thead>\n",
       "    <tr style=\"text-align: right;\">\n",
       "      <th></th>\n",
       "      <th>file_name</th>\n",
       "      <th>predictions</th>\n",
       "      <th>actual_mushroom_type</th>\n",
       "      <th>Type</th>\n",
       "    </tr>\n",
       "  </thead>\n",
       "  <tbody>\n",
       "    <tr>\n",
       "      <th>0</th>\n",
       "      <td>OIP - 2020-03-04T145542.245.jpeg</td>\n",
       "      <td>1</td>\n",
       "      <td>1</td>\n",
       "      <td>false_morel</td>\n",
       "    </tr>\n",
       "    <tr>\n",
       "      <th>1</th>\n",
       "      <td>OIP - 2020-03-04T145542.255.jpeg</td>\n",
       "      <td>1</td>\n",
       "      <td>1</td>\n",
       "      <td>false_morel</td>\n",
       "    </tr>\n",
       "    <tr>\n",
       "      <th>2</th>\n",
       "      <td>OIP - 2020-03-04T145542.272.jpeg</td>\n",
       "      <td>1</td>\n",
       "      <td>1</td>\n",
       "      <td>false_morel</td>\n",
       "    </tr>\n",
       "    <tr>\n",
       "      <th>3</th>\n",
       "      <td>OIP - 2020-03-04T145542.276.jpeg</td>\n",
       "      <td>0</td>\n",
       "      <td>1</td>\n",
       "      <td>false_morel</td>\n",
       "    </tr>\n",
       "    <tr>\n",
       "      <th>4</th>\n",
       "      <td>OIP - 2020-03-04T145542.279.jpeg</td>\n",
       "      <td>1</td>\n",
       "      <td>1</td>\n",
       "      <td>false_morel</td>\n",
       "    </tr>\n",
       "  </tbody>\n",
       "</table>\n",
       "</div>"
      ],
      "text/plain": [
       "                          file_name  predictions  actual_mushroom_type  \\\n",
       "0  OIP - 2020-03-04T145542.245.jpeg            1                     1   \n",
       "1  OIP - 2020-03-04T145542.255.jpeg            1                     1   \n",
       "2  OIP - 2020-03-04T145542.272.jpeg            1                     1   \n",
       "3  OIP - 2020-03-04T145542.276.jpeg            0                     1   \n",
       "4  OIP - 2020-03-04T145542.279.jpeg            1                     1   \n",
       "\n",
       "          Type  \n",
       "0  false_morel  \n",
       "1  false_morel  \n",
       "2  false_morel  \n",
       "3  false_morel  \n",
       "4  false_morel  "
      ]
     },
     "execution_count": 38,
     "metadata": {},
     "output_type": "execute_result"
    }
   ],
   "source": [
    "false_predictions_df.head()"
   ]
  },
  {
   "cell_type": "code",
   "execution_count": 39,
   "metadata": {},
   "outputs": [
    {
     "data": {
      "text/plain": [
       "(325, 4)"
      ]
     },
     "execution_count": 39,
     "metadata": {},
     "output_type": "execute_result"
    }
   ],
   "source": [
    "false_predictions_df.shape"
   ]
  },
  {
   "cell_type": "markdown",
   "metadata": {},
   "source": [
    "# Make Predictions on Good Mushrooms"
   ]
  },
  {
   "cell_type": "code",
   "execution_count": 40,
   "metadata": {
    "scrolled": false
   },
   "outputs": [
    {
     "data": {
      "text/plain": [
       "['.DS_Store',\n",
       " 'OIP (100).jpeg',\n",
       " 'OIP (64).jpeg',\n",
       " 'OIP (65).jpeg',\n",
       " 'OIP (66).jpeg']"
      ]
     },
     "execution_count": 40,
     "metadata": {},
     "output_type": "execute_result"
    }
   ],
   "source": [
    "#Create list for each image to be predicted on\n",
    "true_folder_list = sorted(os.listdir('morel_classifier_images/Test/0_good_morels'))\n",
    "true_folder_list[:5]"
   ]
  },
  {
   "cell_type": "code",
   "execution_count": 41,
   "metadata": {},
   "outputs": [
    {
     "name": "stdout",
     "output_type": "stream",
     "text": [
      "item not removed from folder list\n"
     ]
    }
   ],
   "source": [
    "# Remove system/hidden files from the list so predictions aren't made on them\n",
    "try:\n",
    "    true_folder_list.remove('.DS_Store')\n",
    "    true_folder_list.remove('.ipynb_checkpoints')\n",
    "except:\n",
    "    print('item not removed from folder list')"
   ]
  },
  {
   "cell_type": "code",
   "execution_count": 42,
   "metadata": {
    "scrolled": true
   },
   "outputs": [
    {
     "data": {
      "text/plain": [
       "['OIP (100).jpeg',\n",
       " 'OIP (64).jpeg',\n",
       " 'OIP (65).jpeg',\n",
       " 'OIP (66).jpeg',\n",
       " 'OIP (67).jpeg']"
      ]
     },
     "execution_count": 42,
     "metadata": {},
     "output_type": "execute_result"
    }
   ],
   "source": [
    "true_folder_list[:5]"
   ]
  },
  {
   "cell_type": "code",
   "execution_count": 43,
   "metadata": {},
   "outputs": [],
   "source": [
    "true_preds = []\n",
    "counter=0\n",
    "for i in true_folder_list[:]:\n",
    "    # Read each image from the testing - good morels folder and generate/save predictions\n",
    "    try:\n",
    "        image_list = []\n",
    "        img_path =(f'morel_classifier_images/Test/0_good_morels/{i}')\n",
    "\n",
    "        img_pred = image.load_img(img_path,target_size=(img_height,image_width))\n",
    "        img_pred = image.img_to_array(img_pred)\n",
    "        img_pred = np.expand_dims(img_pred, axis = 0)\n",
    "        result = model.predict_classes(img_pred)\n",
    "        true_preds.append(result)\n",
    "        counter += 1\n",
    "    # if there is an error assign a 3 to the error in the list so we can find it in EDA steps\n",
    "    except:\n",
    "        print(f'error on {counter}')\n",
    "        true_preds.append(3)"
   ]
  },
  {
   "cell_type": "code",
   "execution_count": 44,
   "metadata": {},
   "outputs": [
    {
     "data": {
      "text/plain": [
       "[array([[0]], dtype=int32),\n",
       " array([[0]], dtype=int32),\n",
       " array([[0]], dtype=int32),\n",
       " array([[0]], dtype=int32),\n",
       " array([[0]], dtype=int32),\n",
       " array([[0]], dtype=int32),\n",
       " array([[0]], dtype=int32),\n",
       " array([[0]], dtype=int32),\n",
       " array([[0]], dtype=int32),\n",
       " array([[0]], dtype=int32)]"
      ]
     },
     "execution_count": 44,
     "metadata": {},
     "output_type": "execute_result"
    }
   ],
   "source": [
    "true_preds[:10]"
   ]
  },
  {
   "cell_type": "code",
   "execution_count": 45,
   "metadata": {},
   "outputs": [],
   "source": [
    "# Filter out 0 and 1 predictions from the results\n",
    "true_predictions=[]\n",
    "for i in true_preds:\n",
    "    true_predictions.append(int(i))\n",
    "    "
   ]
  },
  {
   "cell_type": "code",
   "execution_count": 46,
   "metadata": {
    "scrolled": false
   },
   "outputs": [
    {
     "data": {
      "text/plain": [
       "[0, 0, 0, 0, 0]"
      ]
     },
     "execution_count": 46,
     "metadata": {},
     "output_type": "execute_result"
    }
   ],
   "source": [
    "true_predictions[:5]"
   ]
  },
  {
   "cell_type": "code",
   "execution_count": 47,
   "metadata": {
    "scrolled": true
   },
   "outputs": [],
   "source": [
    "true_predictions_df = pd.DataFrame(true_predictions, columns =[\"predictions\"])"
   ]
  },
  {
   "cell_type": "code",
   "execution_count": 48,
   "metadata": {
    "scrolled": true
   },
   "outputs": [
    {
     "data": {
      "text/html": [
       "<div>\n",
       "<style scoped>\n",
       "    .dataframe tbody tr th:only-of-type {\n",
       "        vertical-align: middle;\n",
       "    }\n",
       "\n",
       "    .dataframe tbody tr th {\n",
       "        vertical-align: top;\n",
       "    }\n",
       "\n",
       "    .dataframe thead th {\n",
       "        text-align: right;\n",
       "    }\n",
       "</style>\n",
       "<table border=\"1\" class=\"dataframe\">\n",
       "  <thead>\n",
       "    <tr style=\"text-align: right;\">\n",
       "      <th></th>\n",
       "      <th>predictions</th>\n",
       "    </tr>\n",
       "  </thead>\n",
       "  <tbody>\n",
       "    <tr>\n",
       "      <th>0</th>\n",
       "      <td>0</td>\n",
       "    </tr>\n",
       "    <tr>\n",
       "      <th>1</th>\n",
       "      <td>0</td>\n",
       "    </tr>\n",
       "    <tr>\n",
       "      <th>2</th>\n",
       "      <td>0</td>\n",
       "    </tr>\n",
       "    <tr>\n",
       "      <th>3</th>\n",
       "      <td>0</td>\n",
       "    </tr>\n",
       "    <tr>\n",
       "      <th>4</th>\n",
       "      <td>0</td>\n",
       "    </tr>\n",
       "  </tbody>\n",
       "</table>\n",
       "</div>"
      ],
      "text/plain": [
       "   predictions\n",
       "0            0\n",
       "1            0\n",
       "2            0\n",
       "3            0\n",
       "4            0"
      ]
     },
     "execution_count": 48,
     "metadata": {},
     "output_type": "execute_result"
    }
   ],
   "source": [
    "true_predictions_df.head()"
   ]
  },
  {
   "cell_type": "code",
   "execution_count": 49,
   "metadata": {},
   "outputs": [],
   "source": [
    "true_file_name = pd.DataFrame(true_folder_list, columns=['file_name'])"
   ]
  },
  {
   "cell_type": "code",
   "execution_count": 50,
   "metadata": {
    "scrolled": false
   },
   "outputs": [
    {
     "data": {
      "text/html": [
       "<div>\n",
       "<style scoped>\n",
       "    .dataframe tbody tr th:only-of-type {\n",
       "        vertical-align: middle;\n",
       "    }\n",
       "\n",
       "    .dataframe tbody tr th {\n",
       "        vertical-align: top;\n",
       "    }\n",
       "\n",
       "    .dataframe thead th {\n",
       "        text-align: right;\n",
       "    }\n",
       "</style>\n",
       "<table border=\"1\" class=\"dataframe\">\n",
       "  <thead>\n",
       "    <tr style=\"text-align: right;\">\n",
       "      <th></th>\n",
       "      <th>predictions</th>\n",
       "    </tr>\n",
       "  </thead>\n",
       "  <tbody>\n",
       "  </tbody>\n",
       "</table>\n",
       "</div>"
      ],
      "text/plain": [
       "Empty DataFrame\n",
       "Columns: [predictions]\n",
       "Index: []"
      ]
     },
     "execution_count": 50,
     "metadata": {},
     "output_type": "execute_result"
    }
   ],
   "source": [
    "# test to find if any results are 'unclassified'\n",
    "true_predictions_df.loc[true_predictions_df['predictions']==3]"
   ]
  },
  {
   "cell_type": "code",
   "execution_count": 51,
   "metadata": {},
   "outputs": [],
   "source": [
    "true_predictions_df = pd.concat([true_file_name,true_predictions_df],axis=1)"
   ]
  },
  {
   "cell_type": "code",
   "execution_count": 52,
   "metadata": {},
   "outputs": [],
   "source": [
    "true_predictions_df['actual_mushroom_type'] = 0\n",
    "true_predictions_df['Type'] = 'true_morel'"
   ]
  },
  {
   "cell_type": "code",
   "execution_count": 53,
   "metadata": {
    "scrolled": true
   },
   "outputs": [
    {
     "data": {
      "text/html": [
       "<div>\n",
       "<style scoped>\n",
       "    .dataframe tbody tr th:only-of-type {\n",
       "        vertical-align: middle;\n",
       "    }\n",
       "\n",
       "    .dataframe tbody tr th {\n",
       "        vertical-align: top;\n",
       "    }\n",
       "\n",
       "    .dataframe thead th {\n",
       "        text-align: right;\n",
       "    }\n",
       "</style>\n",
       "<table border=\"1\" class=\"dataframe\">\n",
       "  <thead>\n",
       "    <tr style=\"text-align: right;\">\n",
       "      <th></th>\n",
       "      <th>file_name</th>\n",
       "      <th>predictions</th>\n",
       "      <th>actual_mushroom_type</th>\n",
       "      <th>Type</th>\n",
       "    </tr>\n",
       "  </thead>\n",
       "  <tbody>\n",
       "    <tr>\n",
       "      <th>0</th>\n",
       "      <td>OIP (100).jpeg</td>\n",
       "      <td>0</td>\n",
       "      <td>0</td>\n",
       "      <td>true_morel</td>\n",
       "    </tr>\n",
       "    <tr>\n",
       "      <th>1</th>\n",
       "      <td>OIP (64).jpeg</td>\n",
       "      <td>0</td>\n",
       "      <td>0</td>\n",
       "      <td>true_morel</td>\n",
       "    </tr>\n",
       "    <tr>\n",
       "      <th>2</th>\n",
       "      <td>OIP (65).jpeg</td>\n",
       "      <td>0</td>\n",
       "      <td>0</td>\n",
       "      <td>true_morel</td>\n",
       "    </tr>\n",
       "    <tr>\n",
       "      <th>3</th>\n",
       "      <td>OIP (66).jpeg</td>\n",
       "      <td>0</td>\n",
       "      <td>0</td>\n",
       "      <td>true_morel</td>\n",
       "    </tr>\n",
       "    <tr>\n",
       "      <th>4</th>\n",
       "      <td>OIP (67).jpeg</td>\n",
       "      <td>0</td>\n",
       "      <td>0</td>\n",
       "      <td>true_morel</td>\n",
       "    </tr>\n",
       "  </tbody>\n",
       "</table>\n",
       "</div>"
      ],
      "text/plain": [
       "        file_name  predictions  actual_mushroom_type        Type\n",
       "0  OIP (100).jpeg            0                     0  true_morel\n",
       "1   OIP (64).jpeg            0                     0  true_morel\n",
       "2   OIP (65).jpeg            0                     0  true_morel\n",
       "3   OIP (66).jpeg            0                     0  true_morel\n",
       "4   OIP (67).jpeg            0                     0  true_morel"
      ]
     },
     "execution_count": 53,
     "metadata": {},
     "output_type": "execute_result"
    }
   ],
   "source": [
    "true_predictions_df.head()"
   ]
  },
  {
   "cell_type": "code",
   "execution_count": 54,
   "metadata": {},
   "outputs": [
    {
     "data": {
      "text/plain": [
       "(291, 4)"
      ]
     },
     "execution_count": 54,
     "metadata": {},
     "output_type": "execute_result"
    }
   ],
   "source": [
    "true_predictions_df.shape"
   ]
  },
  {
   "cell_type": "markdown",
   "metadata": {},
   "source": [
    "# combine True and False prediction DFs"
   ]
  },
  {
   "cell_type": "code",
   "execution_count": 55,
   "metadata": {},
   "outputs": [],
   "source": [
    "final_df = pd.concat([true_predictions_df,false_predictions_df])"
   ]
  },
  {
   "cell_type": "code",
   "execution_count": 56,
   "metadata": {
    "scrolled": false
   },
   "outputs": [
    {
     "data": {
      "text/plain": [
       "1    325\n",
       "0    291\n",
       "Name: actual_mushroom_type, dtype: int64"
      ]
     },
     "execution_count": 56,
     "metadata": {},
     "output_type": "execute_result"
    }
   ],
   "source": [
    "final_df['actual_mushroom_type'].value_counts()"
   ]
  },
  {
   "cell_type": "code",
   "execution_count": 57,
   "metadata": {},
   "outputs": [
    {
     "data": {
      "text/plain": [
       "0    320\n",
       "1    296\n",
       "Name: predictions, dtype: int64"
      ]
     },
     "execution_count": 57,
     "metadata": {},
     "output_type": "execute_result"
    }
   ],
   "source": [
    "final_df['predictions'].value_counts()"
   ]
  },
  {
   "cell_type": "code",
   "execution_count": 58,
   "metadata": {},
   "outputs": [],
   "source": [
    "final_df.to_csv('CSVs/Pred_True_vs_false.csv', index=False)"
   ]
  },
  {
   "cell_type": "markdown",
   "metadata": {},
   "source": [
    "# Test False Negative /  False positive"
   ]
  },
  {
   "cell_type": "markdown",
   "metadata": {},
   "source": [
    "# 169 total good, 95 total bad"
   ]
  },
  {
   "cell_type": "markdown",
   "metadata": {},
   "source": [
    "# 0 = True Morel(good) ; 1 = False Morel(bad)"
   ]
  },
  {
   "cell_type": "code",
   "execution_count": 59,
   "metadata": {},
   "outputs": [
    {
     "data": {
      "text/html": [
       "<div>\n",
       "<style scoped>\n",
       "    .dataframe tbody tr th:only-of-type {\n",
       "        vertical-align: middle;\n",
       "    }\n",
       "\n",
       "    .dataframe tbody tr th {\n",
       "        vertical-align: top;\n",
       "    }\n",
       "\n",
       "    .dataframe thead th {\n",
       "        text-align: right;\n",
       "    }\n",
       "</style>\n",
       "<table border=\"1\" class=\"dataframe\">\n",
       "  <thead>\n",
       "    <tr style=\"text-align: right;\">\n",
       "      <th></th>\n",
       "      <th>file_name</th>\n",
       "      <th>predictions</th>\n",
       "      <th>actual_mushroom_type</th>\n",
       "      <th>Type</th>\n",
       "    </tr>\n",
       "  </thead>\n",
       "  <tbody>\n",
       "    <tr>\n",
       "      <th>0</th>\n",
       "      <td>OIP (100).jpeg</td>\n",
       "      <td>0</td>\n",
       "      <td>0</td>\n",
       "      <td>true_morel</td>\n",
       "    </tr>\n",
       "    <tr>\n",
       "      <th>1</th>\n",
       "      <td>OIP (64).jpeg</td>\n",
       "      <td>0</td>\n",
       "      <td>0</td>\n",
       "      <td>true_morel</td>\n",
       "    </tr>\n",
       "    <tr>\n",
       "      <th>2</th>\n",
       "      <td>OIP (65).jpeg</td>\n",
       "      <td>0</td>\n",
       "      <td>0</td>\n",
       "      <td>true_morel</td>\n",
       "    </tr>\n",
       "    <tr>\n",
       "      <th>3</th>\n",
       "      <td>OIP (66).jpeg</td>\n",
       "      <td>0</td>\n",
       "      <td>0</td>\n",
       "      <td>true_morel</td>\n",
       "    </tr>\n",
       "    <tr>\n",
       "      <th>4</th>\n",
       "      <td>OIP (67).jpeg</td>\n",
       "      <td>0</td>\n",
       "      <td>0</td>\n",
       "      <td>true_morel</td>\n",
       "    </tr>\n",
       "  </tbody>\n",
       "</table>\n",
       "</div>"
      ],
      "text/plain": [
       "        file_name  predictions  actual_mushroom_type        Type\n",
       "0  OIP (100).jpeg            0                     0  true_morel\n",
       "1   OIP (64).jpeg            0                     0  true_morel\n",
       "2   OIP (65).jpeg            0                     0  true_morel\n",
       "3   OIP (66).jpeg            0                     0  true_morel\n",
       "4   OIP (67).jpeg            0                     0  true_morel"
      ]
     },
     "execution_count": 59,
     "metadata": {},
     "output_type": "execute_result"
    }
   ],
   "source": [
    "final_df.head()"
   ]
  },
  {
   "cell_type": "code",
   "execution_count": 60,
   "metadata": {},
   "outputs": [
    {
     "data": {
      "text/plain": [
       "file_name               object\n",
       "predictions              int64\n",
       "actual_mushroom_type     int64\n",
       "Type                    object\n",
       "dtype: object"
      ]
     },
     "execution_count": 60,
     "metadata": {},
     "output_type": "execute_result"
    }
   ],
   "source": [
    "final_df.dtypes"
   ]
  },
  {
   "cell_type": "code",
   "execution_count": 61,
   "metadata": {
    "scrolled": true
   },
   "outputs": [
    {
     "name": "stdout",
     "output_type": "stream",
     "text": [
      "61 Falsely Predicted True Morel(not poison) (false negatives)\n"
     ]
    }
   ],
   "source": [
    "fn = len(final_df.loc[(final_df['actual_mushroom_type']==1)& (final_df['predictions']==0)])\n",
    "print( f\"{fn} Falsely Predicted True Morel(not poison) (false negatives)\")"
   ]
  },
  {
   "cell_type": "code",
   "execution_count": 62,
   "metadata": {
    "scrolled": true
   },
   "outputs": [
    {
     "name": "stdout",
     "output_type": "stream",
     "text": [
      "32 Falsely predicted False Morel(poison) (false positive)\n"
     ]
    }
   ],
   "source": [
    "fp = len(final_df.loc[(final_df['actual_mushroom_type']==0)& (final_df['predictions']==1)])\n",
    "print( f\"{fp} Falsely predicted False Morel(poison) (false positive)\")"
   ]
  },
  {
   "cell_type": "code",
   "execution_count": 63,
   "metadata": {},
   "outputs": [
    {
     "name": "stdout",
     "output_type": "stream",
     "text": [
      "264 Correctly predicted False Morel(poison) (True Positive)\n"
     ]
    }
   ],
   "source": [
    "tp = len(final_df.loc[(final_df['actual_mushroom_type']==1)& (final_df['predictions']==1)])\n",
    "print( f\"{tp} Correctly predicted False Morel(poison) (True Positive)\")"
   ]
  },
  {
   "cell_type": "code",
   "execution_count": 64,
   "metadata": {},
   "outputs": [
    {
     "name": "stdout",
     "output_type": "stream",
     "text": [
      "259 correctly predicted Good Morel(not poison) (True negative)\n"
     ]
    }
   ],
   "source": [
    "tn = len(final_df.loc[(final_df['actual_mushroom_type']==0 )& (final_df['predictions']==0)])\n",
    "print( f\"{tn} correctly predicted Good Morel(not poison) (True negative)\")"
   ]
  },
  {
   "cell_type": "code",
   "execution_count": 65,
   "metadata": {},
   "outputs": [
    {
     "data": {
      "text/plain": [
       "(264, 32, 259, 61)"
      ]
     },
     "execution_count": 65,
     "metadata": {},
     "output_type": "execute_result"
    }
   ],
   "source": [
    "tp , fp , tn, fn"
   ]
  },
  {
   "cell_type": "code",
   "execution_count": null,
   "metadata": {},
   "outputs": [],
   "source": []
  },
  {
   "cell_type": "code",
   "execution_count": null,
   "metadata": {},
   "outputs": [],
   "source": []
  }
 ],
 "metadata": {
  "kernelspec": {
   "display_name": "Python 3",
   "language": "python",
   "name": "python3"
  },
  "language_info": {
   "codemirror_mode": {
    "name": "ipython",
    "version": 3
   },
   "file_extension": ".py",
   "mimetype": "text/x-python",
   "name": "python",
   "nbconvert_exporter": "python",
   "pygments_lexer": "ipython3",
   "version": "3.6.10"
  }
 },
 "nbformat": 4,
 "nbformat_minor": 4
}
