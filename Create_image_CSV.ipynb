{
 "cells": [
  {
   "cell_type": "markdown",
   "metadata": {},
   "source": [
    "# Notebook is designed to combine image names with scraped data into a single CSV/DataFrame"
   ]
  },
  {
   "cell_type": "code",
   "execution_count": 1,
   "metadata": {},
   "outputs": [],
   "source": [
    "import pandas as pd\n",
    "import numpy as np\n",
    "import os, fnmatch\n",
    "import re"
   ]
  },
  {
   "cell_type": "code",
   "execution_count": 2,
   "metadata": {},
   "outputs": [],
   "source": [
    "file_list = sorted(fnmatch.filter(os.listdir('scrape_images/'), '*.jpg'))"
   ]
  },
  {
   "cell_type": "code",
   "execution_count": 3,
   "metadata": {
    "scrolled": true
   },
   "outputs": [
    {
     "data": {
      "text/plain": [
       "['agaricusarvensis1.jpg',\n",
       " 'agaricusarvensis2.jpg',\n",
       " 'agaricusarvensis3.jpg',\n",
       " 'agaricusarvensis4.jpg',\n",
       " 'agaricusarvensis5.jpg']"
      ]
     },
     "execution_count": 3,
     "metadata": {},
     "output_type": "execute_result"
    }
   ],
   "source": [
    "file_list[:5]"
   ]
  },
  {
   "cell_type": "code",
   "execution_count": 4,
   "metadata": {
    "scrolled": true
   },
   "outputs": [
    {
     "name": "stdout",
     "output_type": "stream",
     "text": [
      "File did not exist to be removed\n"
     ]
    }
   ],
   "source": [
    "try:\n",
    "    file_list.remove('.DS_Store')\n",
    "    file_list.remove('.ipynb_checkpoints')\n",
    "except:\n",
    "    print('File did not exist to be removed')"
   ]
  },
  {
   "cell_type": "code",
   "execution_count": 5,
   "metadata": {},
   "outputs": [],
   "source": [
    "file_df = pd.DataFrame(file_list, columns = ['image_name'])"
   ]
  },
  {
   "cell_type": "code",
   "execution_count": 6,
   "metadata": {
    "scrolled": true
   },
   "outputs": [
    {
     "data": {
      "text/html": [
       "<div>\n",
       "<style scoped>\n",
       "    .dataframe tbody tr th:only-of-type {\n",
       "        vertical-align: middle;\n",
       "    }\n",
       "\n",
       "    .dataframe tbody tr th {\n",
       "        vertical-align: top;\n",
       "    }\n",
       "\n",
       "    .dataframe thead th {\n",
       "        text-align: right;\n",
       "    }\n",
       "</style>\n",
       "<table border=\"1\" class=\"dataframe\">\n",
       "  <thead>\n",
       "    <tr style=\"text-align: right;\">\n",
       "      <th></th>\n",
       "      <th>image_name</th>\n",
       "    </tr>\n",
       "  </thead>\n",
       "  <tbody>\n",
       "    <tr>\n",
       "      <th>0</th>\n",
       "      <td>agaricusarvensis1.jpg</td>\n",
       "    </tr>\n",
       "    <tr>\n",
       "      <th>1</th>\n",
       "      <td>agaricusarvensis2.jpg</td>\n",
       "    </tr>\n",
       "    <tr>\n",
       "      <th>2</th>\n",
       "      <td>agaricusarvensis3.jpg</td>\n",
       "    </tr>\n",
       "    <tr>\n",
       "      <th>3</th>\n",
       "      <td>agaricusarvensis4.jpg</td>\n",
       "    </tr>\n",
       "    <tr>\n",
       "      <th>4</th>\n",
       "      <td>agaricusarvensis5.jpg</td>\n",
       "    </tr>\n",
       "  </tbody>\n",
       "</table>\n",
       "</div>"
      ],
      "text/plain": [
       "              image_name\n",
       "0  agaricusarvensis1.jpg\n",
       "1  agaricusarvensis2.jpg\n",
       "2  agaricusarvensis3.jpg\n",
       "3  agaricusarvensis4.jpg\n",
       "4  agaricusarvensis5.jpg"
      ]
     },
     "execution_count": 6,
     "metadata": {},
     "output_type": "execute_result"
    }
   ],
   "source": [
    "file_df.head()"
   ]
  },
  {
   "cell_type": "code",
   "execution_count": 7,
   "metadata": {},
   "outputs": [],
   "source": [
    "mush_df = pd.read_csv('CSVs/my_mushrooms.csv')"
   ]
  },
  {
   "cell_type": "code",
   "execution_count": 8,
   "metadata": {},
   "outputs": [
    {
     "data": {
      "text/plain": [
       "(139, 11)"
      ]
     },
     "execution_count": 8,
     "metadata": {},
     "output_type": "execute_result"
    }
   ],
   "source": [
    "mush_df.shape"
   ]
  },
  {
   "cell_type": "code",
   "execution_count": 9,
   "metadata": {
    "scrolled": true
   },
   "outputs": [
    {
     "data": {
      "text/html": [
       "<div>\n",
       "<style scoped>\n",
       "    .dataframe tbody tr th:only-of-type {\n",
       "        vertical-align: middle;\n",
       "    }\n",
       "\n",
       "    .dataframe tbody tr th {\n",
       "        vertical-align: top;\n",
       "    }\n",
       "\n",
       "    .dataframe thead th {\n",
       "        text-align: right;\n",
       "    }\n",
       "</style>\n",
       "<table border=\"1\" class=\"dataframe\">\n",
       "  <thead>\n",
       "    <tr style=\"text-align: right;\">\n",
       "      <th></th>\n",
       "      <th>family</th>\n",
       "      <th>location</th>\n",
       "      <th>min_cap_cm</th>\n",
       "      <th>max_cap_cm</th>\n",
       "      <th>min_stem_hgt_cm</th>\n",
       "      <th>max_stem_hgt_cm</th>\n",
       "      <th>min_stem_diam_cm</th>\n",
       "      <th>max_stem_diam_cm</th>\n",
       "      <th>edibility</th>\n",
       "      <th>long_desc</th>\n",
       "      <th>name</th>\n",
       "    </tr>\n",
       "  </thead>\n",
       "  <tbody>\n",
       "    <tr>\n",
       "      <th>0</th>\n",
       "      <td>Agaricaceae</td>\n",
       "      <td>North America, Europe</td>\n",
       "      <td>8.0</td>\n",
       "      <td>20.0</td>\n",
       "      <td>8.0</td>\n",
       "      <td>10.0</td>\n",
       "      <td>2.0</td>\n",
       "      <td>3.0</td>\n",
       "      <td>Edible and good</td>\n",
       "      <td>Agaricus arvensis, commonly known as the horse...</td>\n",
       "      <td>agaricus_arvensis</td>\n",
       "    </tr>\n",
       "    <tr>\n",
       "      <th>1</th>\n",
       "      <td>Agaricaceae</td>\n",
       "      <td>North America, Europe</td>\n",
       "      <td>10.0</td>\n",
       "      <td>20.0</td>\n",
       "      <td>10.0</td>\n",
       "      <td>20.0</td>\n",
       "      <td>2.0</td>\n",
       "      <td>4.0</td>\n",
       "      <td>Edible and good</td>\n",
       "      <td>Agaricus augustus, also known as the prince, i...</td>\n",
       "      <td>agaricus_augustus</td>\n",
       "    </tr>\n",
       "    <tr>\n",
       "      <th>2</th>\n",
       "      <td>Polyporaceae</td>\n",
       "      <td>North America, Europe</td>\n",
       "      <td>7.0</td>\n",
       "      <td>18.0</td>\n",
       "      <td>3.0</td>\n",
       "      <td>7.0</td>\n",
       "      <td>1.0</td>\n",
       "      <td>3.0</td>\n",
       "      <td>Inedible</td>\n",
       "      <td>From above, this pale orange polypore looks li...</td>\n",
       "      <td>albatrellus_confluens</td>\n",
       "    </tr>\n",
       "    <tr>\n",
       "      <th>3</th>\n",
       "      <td>Polyporaceae</td>\n",
       "      <td>North America, Europe</td>\n",
       "      <td>7.0</td>\n",
       "      <td>18.0</td>\n",
       "      <td>3.0</td>\n",
       "      <td>7.0</td>\n",
       "      <td>1.0</td>\n",
       "      <td>3.0</td>\n",
       "      <td>Edible</td>\n",
       "      <td>Albatrellus ovinus, also known as Sheep Polypo...</td>\n",
       "      <td>albatrellus_ovinus</td>\n",
       "    </tr>\n",
       "    <tr>\n",
       "      <th>4</th>\n",
       "      <td>Pluteaceae</td>\n",
       "      <td>North America, Europe</td>\n",
       "      <td>7.0</td>\n",
       "      <td>12.0</td>\n",
       "      <td>8.0</td>\n",
       "      <td>13.0</td>\n",
       "      <td>1.5</td>\n",
       "      <td>2.0</td>\n",
       "      <td>Inedible</td>\n",
       "      <td>The cap of this  large, grayish brown, fleshy ...</td>\n",
       "      <td>amanita_ceciliae</td>\n",
       "    </tr>\n",
       "  </tbody>\n",
       "</table>\n",
       "</div>"
      ],
      "text/plain": [
       "         family               location  min_cap_cm  max_cap_cm  \\\n",
       "0   Agaricaceae  North America, Europe         8.0        20.0   \n",
       "1   Agaricaceae  North America, Europe        10.0        20.0   \n",
       "2  Polyporaceae  North America, Europe         7.0        18.0   \n",
       "3  Polyporaceae  North America, Europe         7.0        18.0   \n",
       "4    Pluteaceae  North America, Europe         7.0        12.0   \n",
       "\n",
       "   min_stem_hgt_cm  max_stem_hgt_cm  min_stem_diam_cm  max_stem_diam_cm  \\\n",
       "0              8.0             10.0               2.0               3.0   \n",
       "1             10.0             20.0               2.0               4.0   \n",
       "2              3.0              7.0               1.0               3.0   \n",
       "3              3.0              7.0               1.0               3.0   \n",
       "4              8.0             13.0               1.5               2.0   \n",
       "\n",
       "         edibility                                          long_desc  \\\n",
       "0  Edible and good  Agaricus arvensis, commonly known as the horse...   \n",
       "1  Edible and good  Agaricus augustus, also known as the prince, i...   \n",
       "2         Inedible  From above, this pale orange polypore looks li...   \n",
       "3           Edible  Albatrellus ovinus, also known as Sheep Polypo...   \n",
       "4         Inedible  The cap of this  large, grayish brown, fleshy ...   \n",
       "\n",
       "                    name  \n",
       "0      agaricus_arvensis  \n",
       "1      agaricus_augustus  \n",
       "2  albatrellus_confluens  \n",
       "3     albatrellus_ovinus  \n",
       "4       amanita_ceciliae  "
      ]
     },
     "execution_count": 9,
     "metadata": {},
     "output_type": "execute_result"
    }
   ],
   "source": [
    "mush_df.head()"
   ]
  },
  {
   "cell_type": "code",
   "execution_count": 16,
   "metadata": {},
   "outputs": [],
   "source": [
    "# Create a short name column in order to merge/join dataframes\n",
    "mush_df['short_name'] = mush_df['name'].str.replace('_','')"
   ]
  },
  {
   "cell_type": "code",
   "execution_count": 10,
   "metadata": {
    "scrolled": true
   },
   "outputs": [],
   "source": [
    "# Create a short name column in order to merge/join dataframes\n",
    "file_df['short_name']=file_df[\"image_name\"].apply(lambda x: (re.search(r'[^\\d]*',x)).group() )"
   ]
  },
  {
   "cell_type": "code",
   "execution_count": 12,
   "metadata": {
    "scrolled": true
   },
   "outputs": [],
   "source": [
    "# Seperate image number off of file incase its needed later\n",
    "file_df['image_num']=file_df[\"image_name\"].apply(lambda x: (re.search(r'([\\d-]+)',x)).group() )"
   ]
  },
  {
   "cell_type": "code",
   "execution_count": 13,
   "metadata": {},
   "outputs": [],
   "source": [
    "# lower case everything in file dataframe to ensure no issues with merge\n",
    "file_df = file_df.applymap(lambda s:s.lower() if type(s) == str else s)"
   ]
  },
  {
   "cell_type": "code",
   "execution_count": 15,
   "metadata": {},
   "outputs": [
    {
     "data": {
      "text/html": [
       "<div>\n",
       "<style scoped>\n",
       "    .dataframe tbody tr th:only-of-type {\n",
       "        vertical-align: middle;\n",
       "    }\n",
       "\n",
       "    .dataframe tbody tr th {\n",
       "        vertical-align: top;\n",
       "    }\n",
       "\n",
       "    .dataframe thead th {\n",
       "        text-align: right;\n",
       "    }\n",
       "</style>\n",
       "<table border=\"1\" class=\"dataframe\">\n",
       "  <thead>\n",
       "    <tr style=\"text-align: right;\">\n",
       "      <th></th>\n",
       "      <th>image_name</th>\n",
       "      <th>short_name</th>\n",
       "      <th>image_num</th>\n",
       "    </tr>\n",
       "  </thead>\n",
       "  <tbody>\n",
       "    <tr>\n",
       "      <th>0</th>\n",
       "      <td>agaricusarvensis1.jpg</td>\n",
       "      <td>agaricusarvensis</td>\n",
       "      <td>1</td>\n",
       "    </tr>\n",
       "    <tr>\n",
       "      <th>1</th>\n",
       "      <td>agaricusarvensis2.jpg</td>\n",
       "      <td>agaricusarvensis</td>\n",
       "      <td>2</td>\n",
       "    </tr>\n",
       "    <tr>\n",
       "      <th>2</th>\n",
       "      <td>agaricusarvensis3.jpg</td>\n",
       "      <td>agaricusarvensis</td>\n",
       "      <td>3</td>\n",
       "    </tr>\n",
       "    <tr>\n",
       "      <th>3</th>\n",
       "      <td>agaricusarvensis4.jpg</td>\n",
       "      <td>agaricusarvensis</td>\n",
       "      <td>4</td>\n",
       "    </tr>\n",
       "    <tr>\n",
       "      <th>4</th>\n",
       "      <td>agaricusarvensis5.jpg</td>\n",
       "      <td>agaricusarvensis</td>\n",
       "      <td>5</td>\n",
       "    </tr>\n",
       "  </tbody>\n",
       "</table>\n",
       "</div>"
      ],
      "text/plain": [
       "              image_name        short_name image_num\n",
       "0  agaricusarvensis1.jpg  agaricusarvensis         1\n",
       "1  agaricusarvensis2.jpg  agaricusarvensis         2\n",
       "2  agaricusarvensis3.jpg  agaricusarvensis         3\n",
       "3  agaricusarvensis4.jpg  agaricusarvensis         4\n",
       "4  agaricusarvensis5.jpg  agaricusarvensis         5"
      ]
     },
     "execution_count": 15,
     "metadata": {},
     "output_type": "execute_result"
    }
   ],
   "source": [
    "file_df.head()"
   ]
  },
  {
   "cell_type": "code",
   "execution_count": 18,
   "metadata": {
    "scrolled": false
   },
   "outputs": [
    {
     "data": {
      "text/html": [
       "<div>\n",
       "<style scoped>\n",
       "    .dataframe tbody tr th:only-of-type {\n",
       "        vertical-align: middle;\n",
       "    }\n",
       "\n",
       "    .dataframe tbody tr th {\n",
       "        vertical-align: top;\n",
       "    }\n",
       "\n",
       "    .dataframe thead th {\n",
       "        text-align: right;\n",
       "    }\n",
       "</style>\n",
       "<table border=\"1\" class=\"dataframe\">\n",
       "  <thead>\n",
       "    <tr style=\"text-align: right;\">\n",
       "      <th></th>\n",
       "      <th>family</th>\n",
       "      <th>location</th>\n",
       "      <th>min_cap_cm</th>\n",
       "      <th>max_cap_cm</th>\n",
       "      <th>min_stem_hgt_cm</th>\n",
       "      <th>max_stem_hgt_cm</th>\n",
       "      <th>min_stem_diam_cm</th>\n",
       "      <th>max_stem_diam_cm</th>\n",
       "      <th>edibility</th>\n",
       "      <th>long_desc</th>\n",
       "      <th>name</th>\n",
       "      <th>short_name</th>\n",
       "    </tr>\n",
       "  </thead>\n",
       "  <tbody>\n",
       "    <tr>\n",
       "      <th>0</th>\n",
       "      <td>Agaricaceae</td>\n",
       "      <td>North America, Europe</td>\n",
       "      <td>8.0</td>\n",
       "      <td>20.0</td>\n",
       "      <td>8.0</td>\n",
       "      <td>10.0</td>\n",
       "      <td>2.0</td>\n",
       "      <td>3.0</td>\n",
       "      <td>Edible and good</td>\n",
       "      <td>Agaricus arvensis, commonly known as the horse...</td>\n",
       "      <td>agaricus_arvensis</td>\n",
       "      <td>agaricusarvensis</td>\n",
       "    </tr>\n",
       "    <tr>\n",
       "      <th>1</th>\n",
       "      <td>Agaricaceae</td>\n",
       "      <td>North America, Europe</td>\n",
       "      <td>10.0</td>\n",
       "      <td>20.0</td>\n",
       "      <td>10.0</td>\n",
       "      <td>20.0</td>\n",
       "      <td>2.0</td>\n",
       "      <td>4.0</td>\n",
       "      <td>Edible and good</td>\n",
       "      <td>Agaricus augustus, also known as the prince, i...</td>\n",
       "      <td>agaricus_augustus</td>\n",
       "      <td>agaricusaugustus</td>\n",
       "    </tr>\n",
       "    <tr>\n",
       "      <th>2</th>\n",
       "      <td>Polyporaceae</td>\n",
       "      <td>North America, Europe</td>\n",
       "      <td>7.0</td>\n",
       "      <td>18.0</td>\n",
       "      <td>3.0</td>\n",
       "      <td>7.0</td>\n",
       "      <td>1.0</td>\n",
       "      <td>3.0</td>\n",
       "      <td>Inedible</td>\n",
       "      <td>From above, this pale orange polypore looks li...</td>\n",
       "      <td>albatrellus_confluens</td>\n",
       "      <td>albatrellusconfluens</td>\n",
       "    </tr>\n",
       "    <tr>\n",
       "      <th>3</th>\n",
       "      <td>Polyporaceae</td>\n",
       "      <td>North America, Europe</td>\n",
       "      <td>7.0</td>\n",
       "      <td>18.0</td>\n",
       "      <td>3.0</td>\n",
       "      <td>7.0</td>\n",
       "      <td>1.0</td>\n",
       "      <td>3.0</td>\n",
       "      <td>Edible</td>\n",
       "      <td>Albatrellus ovinus, also known as Sheep Polypo...</td>\n",
       "      <td>albatrellus_ovinus</td>\n",
       "      <td>albatrellusovinus</td>\n",
       "    </tr>\n",
       "    <tr>\n",
       "      <th>4</th>\n",
       "      <td>Pluteaceae</td>\n",
       "      <td>North America, Europe</td>\n",
       "      <td>7.0</td>\n",
       "      <td>12.0</td>\n",
       "      <td>8.0</td>\n",
       "      <td>13.0</td>\n",
       "      <td>1.5</td>\n",
       "      <td>2.0</td>\n",
       "      <td>Inedible</td>\n",
       "      <td>The cap of this  large, grayish brown, fleshy ...</td>\n",
       "      <td>amanita_ceciliae</td>\n",
       "      <td>amanitaceciliae</td>\n",
       "    </tr>\n",
       "  </tbody>\n",
       "</table>\n",
       "</div>"
      ],
      "text/plain": [
       "         family               location  min_cap_cm  max_cap_cm  \\\n",
       "0   Agaricaceae  North America, Europe         8.0        20.0   \n",
       "1   Agaricaceae  North America, Europe        10.0        20.0   \n",
       "2  Polyporaceae  North America, Europe         7.0        18.0   \n",
       "3  Polyporaceae  North America, Europe         7.0        18.0   \n",
       "4    Pluteaceae  North America, Europe         7.0        12.0   \n",
       "\n",
       "   min_stem_hgt_cm  max_stem_hgt_cm  min_stem_diam_cm  max_stem_diam_cm  \\\n",
       "0              8.0             10.0               2.0               3.0   \n",
       "1             10.0             20.0               2.0               4.0   \n",
       "2              3.0              7.0               1.0               3.0   \n",
       "3              3.0              7.0               1.0               3.0   \n",
       "4              8.0             13.0               1.5               2.0   \n",
       "\n",
       "         edibility                                          long_desc  \\\n",
       "0  Edible and good  Agaricus arvensis, commonly known as the horse...   \n",
       "1  Edible and good  Agaricus augustus, also known as the prince, i...   \n",
       "2         Inedible  From above, this pale orange polypore looks li...   \n",
       "3           Edible  Albatrellus ovinus, also known as Sheep Polypo...   \n",
       "4         Inedible  The cap of this  large, grayish brown, fleshy ...   \n",
       "\n",
       "                    name            short_name  \n",
       "0      agaricus_arvensis      agaricusarvensis  \n",
       "1      agaricus_augustus      agaricusaugustus  \n",
       "2  albatrellus_confluens  albatrellusconfluens  \n",
       "3     albatrellus_ovinus     albatrellusovinus  \n",
       "4       amanita_ceciliae       amanitaceciliae  "
      ]
     },
     "execution_count": 18,
     "metadata": {},
     "output_type": "execute_result"
    }
   ],
   "source": [
    "mush_df.head()"
   ]
  },
  {
   "cell_type": "code",
   "execution_count": 19,
   "metadata": {
    "scrolled": true
   },
   "outputs": [],
   "source": [
    "final_df = file_df.merge(mush_df, on='short_name')"
   ]
  },
  {
   "cell_type": "code",
   "execution_count": 20,
   "metadata": {
    "scrolled": false
   },
   "outputs": [
    {
     "data": {
      "text/html": [
       "<div>\n",
       "<style scoped>\n",
       "    .dataframe tbody tr th:only-of-type {\n",
       "        vertical-align: middle;\n",
       "    }\n",
       "\n",
       "    .dataframe tbody tr th {\n",
       "        vertical-align: top;\n",
       "    }\n",
       "\n",
       "    .dataframe thead th {\n",
       "        text-align: right;\n",
       "    }\n",
       "</style>\n",
       "<table border=\"1\" class=\"dataframe\">\n",
       "  <thead>\n",
       "    <tr style=\"text-align: right;\">\n",
       "      <th></th>\n",
       "      <th>image_name</th>\n",
       "      <th>short_name</th>\n",
       "      <th>image_num</th>\n",
       "      <th>name</th>\n",
       "    </tr>\n",
       "  </thead>\n",
       "  <tbody>\n",
       "    <tr>\n",
       "      <th>0</th>\n",
       "      <td>agaricusarvensis1.jpg</td>\n",
       "      <td>agaricusarvensis</td>\n",
       "      <td>1</td>\n",
       "      <td>agaricus_arvensis</td>\n",
       "    </tr>\n",
       "    <tr>\n",
       "      <th>1</th>\n",
       "      <td>agaricusarvensis2.jpg</td>\n",
       "      <td>agaricusarvensis</td>\n",
       "      <td>2</td>\n",
       "      <td>agaricus_arvensis</td>\n",
       "    </tr>\n",
       "    <tr>\n",
       "      <th>2</th>\n",
       "      <td>agaricusarvensis3.jpg</td>\n",
       "      <td>agaricusarvensis</td>\n",
       "      <td>3</td>\n",
       "      <td>agaricus_arvensis</td>\n",
       "    </tr>\n",
       "    <tr>\n",
       "      <th>3</th>\n",
       "      <td>agaricusarvensis4.jpg</td>\n",
       "      <td>agaricusarvensis</td>\n",
       "      <td>4</td>\n",
       "      <td>agaricus_arvensis</td>\n",
       "    </tr>\n",
       "    <tr>\n",
       "      <th>4</th>\n",
       "      <td>agaricusarvensis5.jpg</td>\n",
       "      <td>agaricusarvensis</td>\n",
       "      <td>5</td>\n",
       "      <td>agaricus_arvensis</td>\n",
       "    </tr>\n",
       "    <tr>\n",
       "      <th>...</th>\n",
       "      <td>...</td>\n",
       "      <td>...</td>\n",
       "      <td>...</td>\n",
       "      <td>...</td>\n",
       "    </tr>\n",
       "    <tr>\n",
       "      <th>622</th>\n",
       "      <td>tylopilusfelleus3.jpg</td>\n",
       "      <td>tylopilusfelleus</td>\n",
       "      <td>3</td>\n",
       "      <td>tylopilus_felleus</td>\n",
       "    </tr>\n",
       "    <tr>\n",
       "      <th>623</th>\n",
       "      <td>tylopilusfelleus4.jpg</td>\n",
       "      <td>tylopilusfelleus</td>\n",
       "      <td>4</td>\n",
       "      <td>tylopilus_felleus</td>\n",
       "    </tr>\n",
       "    <tr>\n",
       "      <th>624</th>\n",
       "      <td>tylopilusfelleus5.jpg</td>\n",
       "      <td>tylopilusfelleus</td>\n",
       "      <td>5</td>\n",
       "      <td>tylopilus_felleus</td>\n",
       "    </tr>\n",
       "    <tr>\n",
       "      <th>625</th>\n",
       "      <td>tylopilusfelleus6.jpg</td>\n",
       "      <td>tylopilusfelleus</td>\n",
       "      <td>6</td>\n",
       "      <td>tylopilus_felleus</td>\n",
       "    </tr>\n",
       "    <tr>\n",
       "      <th>626</th>\n",
       "      <td>tylopilusfelleus7.jpg</td>\n",
       "      <td>tylopilusfelleus</td>\n",
       "      <td>7</td>\n",
       "      <td>tylopilus_felleus</td>\n",
       "    </tr>\n",
       "  </tbody>\n",
       "</table>\n",
       "<p>627 rows × 4 columns</p>\n",
       "</div>"
      ],
      "text/plain": [
       "                image_name        short_name image_num               name\n",
       "0    agaricusarvensis1.jpg  agaricusarvensis         1  agaricus_arvensis\n",
       "1    agaricusarvensis2.jpg  agaricusarvensis         2  agaricus_arvensis\n",
       "2    agaricusarvensis3.jpg  agaricusarvensis         3  agaricus_arvensis\n",
       "3    agaricusarvensis4.jpg  agaricusarvensis         4  agaricus_arvensis\n",
       "4    agaricusarvensis5.jpg  agaricusarvensis         5  agaricus_arvensis\n",
       "..                     ...               ...       ...                ...\n",
       "622  tylopilusfelleus3.jpg  tylopilusfelleus         3  tylopilus_felleus\n",
       "623  tylopilusfelleus4.jpg  tylopilusfelleus         4  tylopilus_felleus\n",
       "624  tylopilusfelleus5.jpg  tylopilusfelleus         5  tylopilus_felleus\n",
       "625  tylopilusfelleus6.jpg  tylopilusfelleus         6  tylopilus_felleus\n",
       "626  tylopilusfelleus7.jpg  tylopilusfelleus         7  tylopilus_felleus\n",
       "\n",
       "[627 rows x 4 columns]"
      ]
     },
     "execution_count": 20,
     "metadata": {},
     "output_type": "execute_result"
    }
   ],
   "source": [
    "final_df[['image_name','short_name','image_num','name']]"
   ]
  },
  {
   "cell_type": "code",
   "execution_count": 21,
   "metadata": {},
   "outputs": [],
   "source": [
    "final_df.to_csv(f'CSVs/all_pic_and_mush.csv', index=False)"
   ]
  }
 ],
 "metadata": {
  "kernelspec": {
   "display_name": "Python 3",
   "language": "python",
   "name": "python3"
  },
  "language_info": {
   "codemirror_mode": {
    "name": "ipython",
    "version": 3
   },
   "file_extension": ".py",
   "mimetype": "text/x-python",
   "name": "python",
   "nbconvert_exporter": "python",
   "pygments_lexer": "ipython3",
   "version": "3.7.6"
  }
 },
 "nbformat": 4,
 "nbformat_minor": 4
}
